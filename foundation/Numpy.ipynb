{
 "cells": [
  {
   "cell_type": "code",
   "execution_count": 2,
   "metadata": {},
   "outputs": [],
   "source": [
    "import numpy as np\n",
    "\n",
    "# Set seed for reproducibility\n",
    "np.random.seed(seed=1234)"
   ]
  },
  {
   "cell_type": "markdown",
   "metadata": {},
   "source": [
    "# Basics\n",
    "\n",
    "![Basics of Numpy](https://madewithml.com/static/images/foundations/numpy/tensors.png)"
   ]
  },
  {
   "cell_type": "code",
   "execution_count": 3,
   "metadata": {},
   "outputs": [
    {
     "name": "stdout",
     "output_type": "stream",
     "text": [
      "x: 6\n",
      "x ndim: 0\n",
      "x shape: ()\n",
      "x size: 1\n",
      "x dtype: int64\n"
     ]
    }
   ],
   "source": [
    "# Scalar\n",
    "x = np.array(6)\n",
    "print(f\"x: {x}\")\n",
    "print(f\"x ndim: {x.ndim}\") # number of dimensions\n",
    "print(f\"x shape: {x.shape}\") # dimesions\n",
    "print(f\"x size: {x.size}\") # size of elements\n",
    "print(f\"x dtype: {x.dtype}\") # data type"
   ]
  },
  {
   "cell_type": "code",
   "execution_count": 4,
   "metadata": {},
   "outputs": [
    {
     "name": "stdout",
     "output_type": "stream",
     "text": [
      "x: [1.3 2.2 1.7]\n",
      "x ndim: 1\n",
      "x shape: (3,)\n",
      "x size: 3\n",
      "x dtype: float64\n"
     ]
    }
   ],
   "source": [
    "# Vector\n",
    "x = np.array([1.3, 2.2, 1.7])\n",
    "\n",
    "print(f\"x: {x}\")\n",
    "print(f\"x ndim: {x.ndim}\") # number of dimensions\n",
    "print(f\"x shape: {x.shape}\") # dimesions\n",
    "print(f\"x size: {x.size}\") # size of elements\n",
    "print(f\"x dtype: {x.dtype}\") # data type"
   ]
  },
  {
   "cell_type": "code",
   "execution_count": 5,
   "metadata": {},
   "outputs": [
    {
     "name": "stdout",
     "output_type": "stream",
     "text": [
      "x: [[1 2]\n",
      " [3 4]]\n",
      "x ndim: 2\n",
      "x shape: (2, 2)\n",
      "x size: 4\n",
      "x dtype: int64\n"
     ]
    }
   ],
   "source": [
    "# Matrix\n",
    "x = np.array([[1, 2], [3, 4]])\n",
    "\n",
    "print(f\"x: {x}\")\n",
    "print(f\"x ndim: {x.ndim}\") # number of dimensions\n",
    "print(f\"x shape: {x.shape}\") # dimesions\n",
    "print(f\"x size: {x.size}\") # size of elements\n",
    "print(f\"x dtype: {x.dtype}\") # data type"
   ]
  },
  {
   "cell_type": "code",
   "execution_count": 6,
   "metadata": {},
   "outputs": [
    {
     "name": "stdout",
     "output_type": "stream",
     "text": [
      "x: [[[1 2]\n",
      "  [3 4]]\n",
      "\n",
      " [[5 6]\n",
      "  [7 8]]]\n",
      "x ndim: 3\n",
      "x shape: (2, 2, 2)\n",
      "x size: 8\n",
      "x dtype: int64\n"
     ]
    }
   ],
   "source": [
    "# 3-D Tensor\n",
    "x = np.array([[[1, 2], [3, 4]], [[5, 6], [7, 8]]])\n",
    "\n",
    "print(f\"x: {x}\")\n",
    "print(f\"x ndim: {x.ndim}\") # number of dimensions\n",
    "print(f\"x shape: {x.shape}\") # dimesions\n",
    "print(f\"x size: {x.size}\") # size of elements\n",
    "print(f\"x dtype: {x.dtype}\") # data type"
   ]
  },
  {
   "cell_type": "markdown",
   "metadata": {},
   "source": [
    "NumPy also comes with several functions that allow us to create tensors quickly."
   ]
  },
  {
   "cell_type": "code",
   "execution_count": 7,
   "metadata": {},
   "outputs": [
    {
     "name": "stdout",
     "output_type": "stream",
     "text": [
      "np.zeros((2, 2)):\n",
      " [[0. 0.]\n",
      " [0. 0.]]\n",
      "np.ones((2,2)):\n",
      " [[1. 1.]\n",
      " [1. 1.]]\n",
      "np.eye((2)):\n",
      " [[1. 0.]\n",
      " [0. 1.]]\n",
      "np.random.random((2,2)):\n",
      " [[0.19151945 0.62210877]\n",
      " [0.43772774 0.78535858]]\n"
     ]
    }
   ],
   "source": [
    "# Functions\n",
    "print(f\"np.zeros((2, 2)):\\n {np.zeros((2, 2))}\")\n",
    "print (\"np.ones((2,2)):\\n\", np.ones((2,2)))\n",
    "print (\"np.eye((2)):\\n\", np.eye((2))) # identity matrix\n",
    "print (\"np.random.random((2,2)):\\n\", np.random.random((2,2)))"
   ]
  },
  {
   "cell_type": "markdown",
   "metadata": {},
   "source": [
    "# Indexing\n",
    "\n",
    "We can extract specific values from our tensors using indexing.\n",
    "\n",
    "> Keep in mind that when indexing the row and column, indices start at `0`. And like indexing with lists, we can use negative indices as well (where `-1` is the last item).\n",
    "\n",
    "![Indexing](https://madewithml.com/static/images/foundations/numpy/indexing.png)\n"
   ]
  },
  {
   "cell_type": "code",
   "execution_count": 8,
   "metadata": {},
   "outputs": [
    {
     "name": "stdout",
     "output_type": "stream",
     "text": [
      "x: [1 2 3]\n",
      "x[0]: 1\n",
      "x: [0 2 3]\n"
     ]
    }
   ],
   "source": [
    "# Indexing\n",
    "x = np.array([1, 2, 3])\n",
    "print(f\"x: {x}\")\n",
    "print(f\"x[0]: {x[0]}\")\n",
    "x[0] = 0\n",
    "print(f\"x: {x}\")"
   ]
  },
  {
   "cell_type": "code",
   "execution_count": 9,
   "metadata": {},
   "outputs": [
    {
     "name": "stdout",
     "output_type": "stream",
     "text": [
      "x: [[ 1  2  3  4]\n",
      " [ 5  6  7  8]\n",
      " [ 9 10 11 12]]\n",
      "x column 1: [ 2  6 10]\n",
      "x row 0: [1 2 3 4]\n",
      "x row 0, 1 & cols 1, 2:\n",
      "[1 2 3 4]  [5 6 7 8]  [ 2  6 10]  [ 3  7 11]\n"
     ]
    }
   ],
   "source": [
    "# Slicing\n",
    "x = np.array([[1, 2, 3, 4], [5, 6, 7, 8], [9, 10, 11, 12]])\n",
    "\n",
    "print(f\"x: {x}\")\n",
    "print(f\"x column 1: {x[:, 1]}\")\n",
    "print(f\"x row 0: {x[0, :]}\")\n",
    "print(f\"x row 0, 1 & cols 1, 2:\\n{x[0, :]}  {x[1, :]}  {x[:, 1]}  {x[:, 2]}\")"
   ]
  },
  {
   "cell_type": "code",
   "execution_count": 10,
   "metadata": {},
   "outputs": [
    {
     "name": "stdout",
     "output_type": "stream",
     "text": [
      "[[ 1  2  3  4]\n",
      " [ 5  6  7  8]\n",
      " [ 9 10 11 12]]\n",
      "rows_to_get:  [0 1 2]\n",
      "cols_to_get:  [0 2 1]\n",
      "indexed values:  [ 1  7 10]\n"
     ]
    }
   ],
   "source": [
    "# Integer array indexing\n",
    "print (x)\n",
    "rows_to_get = np.array([0, 1, 2])\n",
    "print (\"rows_to_get: \", rows_to_get)\n",
    "cols_to_get = np.array([0, 2, 1])\n",
    "print (\"cols_to_get: \", cols_to_get)\n",
    "# Combine sequences above to get values to get\n",
    "print (\"indexed values: \", x[rows_to_get, cols_to_get]) # (0, 0), (1, 2), (2, 1)"
   ]
  },
  {
   "cell_type": "code",
   "execution_count": 11,
   "metadata": {},
   "outputs": [
    {
     "name": "stdout",
     "output_type": "stream",
     "text": [
      "x:\n",
      " [[1 2]\n",
      " [3 4]\n",
      " [5 6]]\n",
      "x > 2:\n",
      " [[False False]\n",
      " [ True  True]\n",
      " [ True  True]]\n",
      "x[x > 2]:\n",
      " [3 4 5 6]\n"
     ]
    }
   ],
   "source": [
    "# Boolean array indexing\n",
    "x = np.array([[1, 2], [3, 4], [5, 6]])\n",
    "print (\"x:\\n\", x)\n",
    "print (\"x > 2:\\n\", x > 2)\n",
    "print (\"x[x > 2]:\\n\", x[x > 2])"
   ]
  },
  {
   "cell_type": "markdown",
   "metadata": {},
   "source": [
    "# Airthmetic"
   ]
  },
  {
   "cell_type": "code",
   "execution_count": 12,
   "metadata": {},
   "outputs": [
    {
     "name": "stdout",
     "output_type": "stream",
     "text": [
      "x + y:\n",
      " [[2. 4.]\n",
      " [6. 8.]]\n",
      "x - y:\n",
      " [[0. 0.]\n",
      " [0. 0.]]\n",
      "x * y:\n",
      " [[ 1.  4.]\n",
      " [ 9. 16.]]\n"
     ]
    }
   ],
   "source": [
    "# Basic Math\n",
    "x = np.array([[1,2], [3,4]], dtype=np.float64)\n",
    "y = np.array([[1,2], [3,4]], dtype=np.float64)\n",
    "print (\"x + y:\\n\", np.add(x, y)) # or x + y\n",
    "print (\"x - y:\\n\", np.subtract(x, y)) # or x - y\n",
    "print (\"x * y:\\n\", np.multiply(x, y)) # or x * y"
   ]
  },
  {
   "cell_type": "markdown",
   "metadata": {},
   "source": [
    "# Dot Product\n",
    "One of the most common NumPy operations we’ll use in machine learning is matrix multiplication using the dot product. Suppose we wanted to take the dot product of two matrices with shapes `[2 X 3]` and `[3 X 2]`. We take the rows of our first matrix (2) and the columns of our second matrix (2) to determine the dot product, giving us an output of `[2 X 2]`. The only requirement is that the inside dimensions match, in this case the first matrix has 3 columns and the second matrix has 3 rows.\n",
    "\n",
    "![Dot Product](https://madewithml.com/static/images/foundations/numpy/dot.gif)"
   ]
  },
  {
   "cell_type": "code",
   "execution_count": 13,
   "metadata": {},
   "outputs": [
    {
     "name": "stdout",
     "output_type": "stream",
     "text": [
      "(2, 3) · (3, 2) = (2, 2)\n",
      "[[ 58.  64.]\n",
      " [139. 154.]]\n"
     ]
    }
   ],
   "source": [
    "# Dot product\n",
    "a = np.array([[1,2,3], [4,5,6]], dtype=np.float64) # we can specify dtype\n",
    "b = np.array([[7,8], [9,10], [11, 12]], dtype=np.float64)\n",
    "c = a.dot(b)\n",
    "print (f\"{a.shape} · {b.shape} = {c.shape}\")\n",
    "print (c)"
   ]
  },
  {
   "cell_type": "markdown",
   "metadata": {},
   "source": [
    "# Axis Operations\n",
    "\n",
    "We can also do operations across a specific axis.\n",
    "\n",
    "![Axis Operations](https://madewithml.com/static/images/foundations/numpy/axis.gif)"
   ]
  },
  {
   "cell_type": "code",
   "execution_count": 14,
   "metadata": {},
   "outputs": [
    {
     "name": "stdout",
     "output_type": "stream",
     "text": [
      "[[1 2]\n",
      " [3 4]]\n",
      "sum all:  10\n",
      "sum axis=0:  [4 6]\n",
      "sum axis=1:  [3 7]\n"
     ]
    }
   ],
   "source": [
    "# Sum across a dimension\n",
    "x = np.array([[1,2],[3,4]])\n",
    "print (x)\n",
    "print (\"sum all: \", np.sum(x)) # adds all elements\n",
    "print (\"sum axis=0: \", np.sum(x, axis=0)) # sum across rows\n",
    "print (\"sum axis=1: \", np.sum(x, axis=1)) # sum across columns"
   ]
  },
  {
   "cell_type": "code",
   "execution_count": 15,
   "metadata": {},
   "outputs": [
    {
     "name": "stdout",
     "output_type": "stream",
     "text": [
      "min:  1\n",
      "max:  6\n",
      "min axis=0:  [1 2 3]\n",
      "min axis=1:  [1 4]\n"
     ]
    }
   ],
   "source": [
    "# Min/max\n",
    "x = np.array([[1,2,3], [4,5,6]])\n",
    "print (\"min: \", x.min())\n",
    "print (\"max: \", x.max())\n",
    "print (\"min axis=0: \", x.min(axis=0))\n",
    "print (\"min axis=1: \", x.min(axis=1))"
   ]
  },
  {
   "cell_type": "markdown",
   "metadata": {},
   "source": [
    "# Broadcast\n",
    "\n",
    "What happens when we try to do operations with tensors with seemingly incompatible shapes? Their dimensions aren’t compatible as is but how does NumPy still gives us the right result? This is where broadcasting comes in. The scalar is broadcast across the vector so that they have compatible shapes.\n",
    "\n",
    "![Broadcasting](https://madewithml.com/static/images/foundations/numpy/broadcast.png)\n"
   ]
  },
  {
   "cell_type": "code",
   "execution_count": 16,
   "metadata": {},
   "outputs": [
    {
     "name": "stdout",
     "output_type": "stream",
     "text": [
      "z:\n",
      " [4 5]\n"
     ]
    }
   ],
   "source": [
    "# Broadcasting\n",
    "x = np.array([1,2]) # vector\n",
    "y = np.array(3) # scalar\n",
    "z = x + y\n",
    "print (\"z:\\n\", z)"
   ]
  },
  {
   "cell_type": "markdown",
   "metadata": {},
   "source": [
    "# Gotchas\n",
    "\n",
    "In the situation below, what is the value of `c` and what are its dimensions?"
   ]
  },
  {
   "cell_type": "code",
   "execution_count": 17,
   "metadata": {},
   "outputs": [],
   "source": [
    "a = np.array((3, 4, 5))\n",
    "b = np.expand_dims(a, axis=1)\n",
    "c = a + b"
   ]
  },
  {
   "cell_type": "code",
   "execution_count": 18,
   "metadata": {},
   "outputs": [
    {
     "name": "stdout",
     "output_type": "stream",
     "text": [
      "[[ 6  7  8]\n",
      " [ 7  8  9]\n",
      " [ 8  9 10]]\n"
     ]
    }
   ],
   "source": [
    "a.shape # (3,)\n",
    "b.shape # (3, 1)\n",
    "c.shape # (3, 3)\n",
    "print (c)"
   ]
  },
  {
   "cell_type": "markdown",
   "metadata": {},
   "source": [
    "How can we fix this? We need to be careful to ensure that `a` is the same shape as `b` if we don't want this unintentional broadcasting behavior."
   ]
  },
  {
   "cell_type": "code",
   "execution_count": 19,
   "metadata": {},
   "outputs": [
    {
     "name": "stdout",
     "output_type": "stream",
     "text": [
      "[[ 6]\n",
      " [ 8]\n",
      " [10]]\n"
     ]
    }
   ],
   "source": [
    "a = a.reshape(-1, 1)\n",
    "a.shape # (3, 1)\n",
    "c = a + b\n",
    "c.shape # (3, 1)\n",
    "print (c)"
   ]
  },
  {
   "cell_type": "markdown",
   "metadata": {},
   "source": [
    "This kind of unintended broadcasting happens more often then you'd think because this is exactly what happens when we create an array from a list. So we need to ensure that we apply the proper reshaping before using it for any operations."
   ]
  },
  {
   "cell_type": "code",
   "execution_count": 20,
   "metadata": {},
   "outputs": [
    {
     "data": {
      "text/plain": [
       "(3, 1)"
      ]
     },
     "execution_count": 20,
     "metadata": {},
     "output_type": "execute_result"
    }
   ],
   "source": [
    "a = np.array([3, 4, 5])\n",
    "a.shape # (3,)\n",
    "a = a.reshape(-1, 1)\n",
    "a.shape # (3, 1)"
   ]
  }
 ],
 "metadata": {
  "kernelspec": {
   "display_name": ".venv",
   "language": "python",
   "name": "python3"
  },
  "language_info": {
   "codemirror_mode": {
    "name": "ipython",
    "version": 3
   },
   "file_extension": ".py",
   "mimetype": "text/x-python",
   "name": "python",
   "nbconvert_exporter": "python",
   "pygments_lexer": "ipython3",
   "version": "3.10.12"
  },
  "orig_nbformat": 4
 },
 "nbformat": 4,
 "nbformat_minor": 2
}
