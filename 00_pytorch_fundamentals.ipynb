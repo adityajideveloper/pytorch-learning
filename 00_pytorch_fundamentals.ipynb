{
  "cells": [
    {
      "cell_type": "code",
      "execution_count": 2,
      "metadata": {
        "colab": {
          "base_uri": "https://localhost:8080/"
        },
        "id": "fOku1e58CoyZ",
        "outputId": "0286b19b-0948-4113-850c-86473e7b9f9b"
      },
      "outputs": [
        {
          "name": "stdout",
          "output_type": "stream",
          "text": [
            "2.0.1+cu118\n"
          ]
        }
      ],
      "source": [
        "import torch\n",
        "import pandas as pd\n",
        "import numpy as np\n",
        "import matplotlib.pyplot as plt\n",
        "print(torch.__version__)"
      ]
    },
    {
      "cell_type": "code",
      "execution_count": 3,
      "metadata": {
        "colab": {
          "base_uri": "https://localhost:8080/"
        },
        "id": "7c1_jdgBDnlU",
        "outputId": "25ee9976-cb43-4d86-f91c-29e2a94ee130"
      },
      "outputs": [
        {
          "name": "stdout",
          "output_type": "stream",
          "text": [
            "Sun Jul 16 11:00:11 2023       \n",
            "+---------------------------------------------------------------------------------------+\n",
            "| NVIDIA-SMI 535.54.03              Driver Version: 535.54.03    CUDA Version: 12.2     |\n",
            "|-----------------------------------------+----------------------+----------------------+\n",
            "| GPU  Name                 Persistence-M | Bus-Id        Disp.A | Volatile Uncorr. ECC |\n",
            "| Fan  Temp   Perf          Pwr:Usage/Cap |         Memory-Usage | GPU-Util  Compute M. |\n",
            "|                                         |                      |               MIG M. |\n",
            "|=========================================+======================+======================|\n",
            "|   0  NVIDIA GeForce GTX 1650        Off | 00000000:0A:00.0 Off |                  N/A |\n",
            "| 40%   39C    P0              N/A /  75W |      0MiB /  4096MiB |      0%      Default |\n",
            "|                                         |                      |                  N/A |\n",
            "+-----------------------------------------+----------------------+----------------------+\n",
            "                                                                                         \n",
            "+---------------------------------------------------------------------------------------+\n",
            "| Processes:                                                                            |\n",
            "|  GPU   GI   CI        PID   Type   Process name                            GPU Memory |\n",
            "|        ID   ID                                                             Usage      |\n",
            "|=======================================================================================|\n",
            "|  No running processes found                                                           |\n",
            "+---------------------------------------------------------------------------------------+\n"
          ]
        }
      ],
      "source": [
        "!nvidia-smi"
      ]
    },
    {
      "cell_type": "markdown",
      "metadata": {
        "id": "g9tqf-SuEIV8"
      },
      "source": [
        "# Introduction to Tensors\n",
        "\n",
        "# Creating Tensors"
      ]
    },
    {
      "cell_type": "code",
      "execution_count": 4,
      "metadata": {
        "colab": {
          "base_uri": "https://localhost:8080/"
        },
        "id": "b64RoOVrEVVj",
        "outputId": "2d2935f0-23fb-4a72-e766-2eb28e8c4446"
      },
      "outputs": [
        {
          "data": {
            "text/plain": [
              "tensor(7)"
            ]
          },
          "execution_count": 4,
          "metadata": {},
          "output_type": "execute_result"
        }
      ],
      "source": [
        "# Scalar\n",
        "# https://pytorch.org/docs/stable/tensors.html\n",
        "scalar = torch.tensor(7)\n",
        "scalar"
      ]
    },
    {
      "cell_type": "code",
      "execution_count": 5,
      "metadata": {
        "colab": {
          "base_uri": "https://localhost:8080/"
        },
        "id": "id_Ovq7yEfeb",
        "outputId": "55cfdf3d-e17c-43ed-d877-5f78922f5177"
      },
      "outputs": [
        {
          "data": {
            "text/plain": [
              "0"
            ]
          },
          "execution_count": 5,
          "metadata": {},
          "output_type": "execute_result"
        }
      ],
      "source": [
        "scalar.ndim"
      ]
    },
    {
      "cell_type": "code",
      "execution_count": 6,
      "metadata": {
        "colab": {
          "base_uri": "https://localhost:8080/"
        },
        "id": "w4l88oxQFIKU",
        "outputId": "129d5de5-a3a0-4532-f53b-fe4e69d6f969"
      },
      "outputs": [
        {
          "data": {
            "text/plain": [
              "7"
            ]
          },
          "execution_count": 6,
          "metadata": {},
          "output_type": "execute_result"
        }
      ],
      "source": [
        "scalar.item()"
      ]
    },
    {
      "cell_type": "code",
      "execution_count": 7,
      "metadata": {
        "colab": {
          "base_uri": "https://localhost:8080/"
        },
        "id": "XY1dhftVFMO7",
        "outputId": "b4dd1f29-5b8c-4a80-d3f9-8554f008db87"
      },
      "outputs": [
        {
          "data": {
            "text/plain": [
              "tensor([7, 7])"
            ]
          },
          "execution_count": 7,
          "metadata": {},
          "output_type": "execute_result"
        }
      ],
      "source": [
        "# Vector\n",
        "vector = torch.tensor([7, 7])\n",
        "vector"
      ]
    },
    {
      "cell_type": "code",
      "execution_count": 8,
      "metadata": {
        "colab": {
          "base_uri": "https://localhost:8080/"
        },
        "id": "zgnG0BxAFhJD",
        "outputId": "9e2f3eb0-9e11-47d3-b5c3-55c988c656d1"
      },
      "outputs": [
        {
          "data": {
            "text/plain": [
              "1"
            ]
          },
          "execution_count": 8,
          "metadata": {},
          "output_type": "execute_result"
        }
      ],
      "source": [
        "vector.ndim"
      ]
    },
    {
      "cell_type": "code",
      "execution_count": 9,
      "metadata": {
        "colab": {
          "base_uri": "https://localhost:8080/"
        },
        "id": "xxExOwR-FkWy",
        "outputId": "d76a8081-0123-44d6-9e13-f5405ce59a99"
      },
      "outputs": [
        {
          "data": {
            "text/plain": [
              "torch.Size([2])"
            ]
          },
          "execution_count": 9,
          "metadata": {},
          "output_type": "execute_result"
        }
      ],
      "source": [
        "vector.shape"
      ]
    },
    {
      "cell_type": "code",
      "execution_count": 10,
      "metadata": {
        "colab": {
          "base_uri": "https://localhost:8080/"
        },
        "id": "DIzHCeEXFooL",
        "outputId": "d1024f5f-1051-487d-ea52-63de238db1d7"
      },
      "outputs": [
        {
          "data": {
            "text/plain": [
              "tensor([[ 7,  8],\n",
              "        [ 9, 10]])"
            ]
          },
          "execution_count": 10,
          "metadata": {},
          "output_type": "execute_result"
        }
      ],
      "source": [
        "# Matrix\n",
        "MATRIX = torch.tensor([[7, 8],\n",
        "                       [9, 10]])\n",
        "MATRIX"
      ]
    },
    {
      "cell_type": "code",
      "execution_count": 11,
      "metadata": {
        "colab": {
          "base_uri": "https://localhost:8080/"
        },
        "id": "jQ6znSSHF2rP",
        "outputId": "0c8aa691-7424-44d6-cd29-02bdeae4a7bf"
      },
      "outputs": [
        {
          "data": {
            "text/plain": [
              "2"
            ]
          },
          "execution_count": 11,
          "metadata": {},
          "output_type": "execute_result"
        }
      ],
      "source": [
        "MATRIX.ndim"
      ]
    },
    {
      "cell_type": "code",
      "execution_count": 12,
      "metadata": {
        "colab": {
          "base_uri": "https://localhost:8080/"
        },
        "id": "tNDdYmWfF7GT",
        "outputId": "168b360c-8f1b-4c38-fd17-626a4c0e7cba"
      },
      "outputs": [
        {
          "data": {
            "text/plain": [
              "tensor([ 9, 10])"
            ]
          },
          "execution_count": 12,
          "metadata": {},
          "output_type": "execute_result"
        }
      ],
      "source": [
        "MATRIX[1]"
      ]
    },
    {
      "cell_type": "code",
      "execution_count": 13,
      "metadata": {
        "colab": {
          "base_uri": "https://localhost:8080/"
        },
        "id": "L6Z9AXWZGBpO",
        "outputId": "44a128af-8608-45d0-da8c-49fd849fee29"
      },
      "outputs": [
        {
          "data": {
            "text/plain": [
              "torch.Size([2, 2])"
            ]
          },
          "execution_count": 13,
          "metadata": {},
          "output_type": "execute_result"
        }
      ],
      "source": [
        "MATRIX.shape"
      ]
    },
    {
      "cell_type": "code",
      "execution_count": 14,
      "metadata": {
        "colab": {
          "base_uri": "https://localhost:8080/"
        },
        "id": "1RE1ooaJGIRz",
        "outputId": "aada9a68-7044-452d-93ba-7beefbc59ca0"
      },
      "outputs": [
        {
          "data": {
            "text/plain": [
              "tensor([[[1, 2, 3],\n",
              "         [4, 5, 6],\n",
              "         [7, 8, 9]]])"
            ]
          },
          "execution_count": 14,
          "metadata": {},
          "output_type": "execute_result"
        }
      ],
      "source": [
        "# Tensor\n",
        "TENSOR = torch.tensor([[[1, 2, 3],\n",
        "                        [4, 5, 6],\n",
        "                        [7, 8, 9]]])\n",
        "\n",
        "TENSOR_TWO = torch.tensor([[[1, 2, 3],\n",
        "                            [4, 5, 6],\n",
        "                            [7, 8, 9]],\n",
        "                           [[11, 12, 13],\n",
        "                            [21, 22, 23],\n",
        "                            [31, 32, 33]]])\n",
        "TENSOR"
      ]
    },
    {
      "cell_type": "code",
      "execution_count": 15,
      "metadata": {
        "colab": {
          "base_uri": "https://localhost:8080/"
        },
        "id": "wDpMEpzmGfhf",
        "outputId": "4584253a-c2ad-4bf4-a139-8b01969c3b06"
      },
      "outputs": [
        {
          "data": {
            "text/plain": [
              "3"
            ]
          },
          "execution_count": 15,
          "metadata": {},
          "output_type": "execute_result"
        }
      ],
      "source": [
        "TENSOR.ndim"
      ]
    },
    {
      "cell_type": "code",
      "execution_count": 16,
      "metadata": {
        "colab": {
          "base_uri": "https://localhost:8080/"
        },
        "id": "WrhTlNSeGisf",
        "outputId": "1e3aceb2-53df-4e77-84e9-e52189ff163c"
      },
      "outputs": [
        {
          "data": {
            "text/plain": [
              "torch.Size([1, 3, 3])"
            ]
          },
          "execution_count": 16,
          "metadata": {},
          "output_type": "execute_result"
        }
      ],
      "source": [
        "TENSOR.shape"
      ]
    },
    {
      "cell_type": "code",
      "execution_count": 17,
      "metadata": {
        "colab": {
          "base_uri": "https://localhost:8080/"
        },
        "id": "x5QRp6igGmdX",
        "outputId": "c4475de8-e758-4fcf-e44a-4cfaf2a7c42a"
      },
      "outputs": [
        {
          "data": {
            "text/plain": [
              "tensor([[1, 2, 3],\n",
              "        [4, 5, 6],\n",
              "        [7, 8, 9]])"
            ]
          },
          "execution_count": 17,
          "metadata": {},
          "output_type": "execute_result"
        }
      ],
      "source": [
        "TENSOR[0]"
      ]
    },
    {
      "cell_type": "code",
      "execution_count": 18,
      "metadata": {
        "colab": {
          "base_uri": "https://localhost:8080/"
        },
        "id": "m6jhaNbUG1Nu",
        "outputId": "594c2c55-3d28-4e76-f27c-4de4b3a32788"
      },
      "outputs": [
        {
          "data": {
            "text/plain": [
              "tensor([4, 5, 6])"
            ]
          },
          "execution_count": 18,
          "metadata": {},
          "output_type": "execute_result"
        }
      ],
      "source": [
        "TENSOR[0][1]"
      ]
    },
    {
      "cell_type": "code",
      "execution_count": 19,
      "metadata": {
        "colab": {
          "base_uri": "https://localhost:8080/"
        },
        "id": "upzLR13tHNZ7",
        "outputId": "a89900a6-84bf-4663-f8ac-16e57c33cd72"
      },
      "outputs": [
        {
          "data": {
            "text/plain": [
              "torch.Size([2, 3, 3])"
            ]
          },
          "execution_count": 19,
          "metadata": {},
          "output_type": "execute_result"
        }
      ],
      "source": [
        "TENSOR_TWO.shape"
      ]
    },
    {
      "cell_type": "markdown",
      "metadata": {
        "id": "3WyktupbHhX3"
      },
      "source": [
        "# Random Tensors"
      ]
    },
    {
      "cell_type": "code",
      "execution_count": 20,
      "metadata": {
        "colab": {
          "base_uri": "https://localhost:8080/"
        },
        "id": "pbfEC4iaKYPJ",
        "outputId": "72b90362-9a7f-4f99-f9a2-09ae406de8bd"
      },
      "outputs": [
        {
          "data": {
            "text/plain": [
              "tensor([[3.0814e-01, 7.7888e-01, 1.5116e-01, 8.7948e-01],\n",
              "        [7.2265e-01, 2.2166e-01, 5.1538e-01, 4.8568e-01],\n",
              "        [6.9517e-04, 1.9116e-02, 3.8860e-02, 9.0777e-01]])"
            ]
          },
          "execution_count": 20,
          "metadata": {},
          "output_type": "execute_result"
        }
      ],
      "source": [
        "# torch.rand\n",
        "# https://pytorch.org/docs/stable/generated/torch.rand.html\n",
        "\n",
        "random_tensor = torch.rand(3, 4)\n",
        "random_tensor"
      ]
    },
    {
      "cell_type": "code",
      "execution_count": 21,
      "metadata": {
        "colab": {
          "base_uri": "https://localhost:8080/"
        },
        "id": "bHwxwsM-LNsG",
        "outputId": "93f9a767-5ad2-47eb-a441-a7116e4aba93"
      },
      "outputs": [
        {
          "data": {
            "text/plain": [
              "tensor([[[[0.2901, 0.7152, 0.1784, 0.8937, 0.7763, 0.0317],\n",
              "          [0.6496, 0.1104, 0.6585, 0.5595, 0.0771, 0.7011],\n",
              "          [0.7365, 0.1099, 0.5471, 0.7583, 0.2340, 0.0803],\n",
              "          [0.3572, 0.5703, 0.0257, 0.4964, 0.1965, 0.9589],\n",
              "          [0.0116, 0.0390, 0.4621, 0.7493, 0.9411, 0.3848]],\n",
              "\n",
              "         [[0.4409, 0.4685, 0.5814, 0.6869, 0.6584, 0.9324],\n",
              "          [0.4833, 0.4817, 0.4299, 0.5949, 0.1853, 0.6632],\n",
              "          [0.0645, 0.5799, 0.2609, 0.0089, 0.8816, 0.5707],\n",
              "          [0.1504, 0.1516, 0.8901, 0.2282, 0.7559, 0.4737],\n",
              "          [0.7523, 0.0841, 0.8212, 0.4001, 0.3943, 0.3010]],\n",
              "\n",
              "         [[0.4599, 0.1333, 0.2831, 0.1176, 0.0494, 0.7912],\n",
              "          [0.8198, 0.1140, 0.3410, 0.2141, 0.8163, 0.3246],\n",
              "          [0.8446, 0.4512, 0.7985, 0.4765, 0.5278, 0.5681],\n",
              "          [0.3470, 0.0107, 0.9156, 0.2951, 0.0828, 0.3464],\n",
              "          [0.3544, 0.3870, 0.2775, 0.0978, 0.5192, 0.6475]],\n",
              "\n",
              "         [[0.8820, 0.1469, 0.0706, 0.4645, 0.2672, 0.7768],\n",
              "          [0.5603, 0.0406, 0.2456, 0.8396, 0.7803, 0.9191],\n",
              "          [0.2418, 0.8107, 0.0228, 0.5437, 0.9441, 0.4217],\n",
              "          [0.7850, 0.0198, 0.2776, 0.3843, 0.6113, 0.1255],\n",
              "          [0.1168, 0.9084, 0.7272, 0.1120, 0.3014, 0.5910]]],\n",
              "\n",
              "\n",
              "        [[[0.6549, 0.5703, 0.4894, 0.2916, 0.9413, 0.8932],\n",
              "          [0.9723, 0.3984, 0.6953, 0.0287, 0.6228, 0.9415],\n",
              "          [0.7884, 0.6579, 0.7174, 0.8567, 0.0761, 0.7114],\n",
              "          [0.4391, 0.0371, 0.3935, 0.5501, 0.7442, 0.8467],\n",
              "          [0.9545, 0.5672, 0.5125, 0.3040, 0.7999, 0.5178]],\n",
              "\n",
              "         [[0.1171, 0.9629, 0.3111, 0.2253, 0.5204, 0.6464],\n",
              "          [0.9321, 0.3806, 0.9902, 0.7466, 0.1820, 0.6258],\n",
              "          [0.1219, 0.7027, 0.5053, 0.3371, 0.8705, 0.0275],\n",
              "          [0.0291, 0.6570, 0.5564, 0.7181, 0.9125, 0.6414],\n",
              "          [0.8800, 0.4004, 0.4855, 0.7029, 0.3207, 0.0687]],\n",
              "\n",
              "         [[0.9203, 0.7532, 0.1469, 0.7831, 0.6233, 0.4513],\n",
              "          [0.1927, 0.1081, 0.7362, 0.2063, 0.6365, 0.5400],\n",
              "          [0.6333, 0.8380, 0.1000, 0.4829, 0.6779, 0.3167],\n",
              "          [0.6849, 0.3095, 0.3408, 0.3974, 0.6879, 0.9924],\n",
              "          [0.9602, 0.3165, 0.6970, 0.9702, 0.2872, 0.2318]],\n",
              "\n",
              "         [[0.2789, 0.3501, 0.9069, 0.7904, 0.3734, 0.5577],\n",
              "          [0.7584, 0.0405, 0.1610, 0.6350, 0.0016, 0.8504],\n",
              "          [0.2074, 0.9438, 0.3708, 0.4711, 0.3429, 0.6613],\n",
              "          [0.6130, 0.9696, 0.0756, 0.0118, 0.8417, 0.4766],\n",
              "          [0.7065, 0.8986, 0.2140, 0.1735, 0.5764, 0.9096]]],\n",
              "\n",
              "\n",
              "        [[[0.2405, 0.2708, 0.2123, 0.7111, 0.8498, 0.5026],\n",
              "          [0.9096, 0.8348, 0.7839, 0.5872, 0.1791, 0.8282],\n",
              "          [0.1562, 0.4253, 0.2846, 0.4531, 0.1289, 0.3431],\n",
              "          [0.8236, 0.2494, 0.8865, 0.1182, 0.5157, 0.8033],\n",
              "          [0.1259, 0.6395, 0.1129, 0.2971, 0.8224, 0.8709]],\n",
              "\n",
              "         [[0.7673, 0.1916, 0.0152, 0.9688, 0.6889, 0.9219],\n",
              "          [0.9954, 0.3819, 0.1539, 0.0426, 0.5306, 0.4204],\n",
              "          [0.1350, 0.0575, 0.0394, 0.9896, 0.7201, 0.1158],\n",
              "          [0.8175, 0.1920, 0.8182, 0.1645, 0.5582, 0.3540],\n",
              "          [0.1843, 0.6169, 0.9973, 0.8216, 0.8295, 0.4560]],\n",
              "\n",
              "         [[0.6897, 0.1179, 0.5739, 0.4591, 0.3686, 0.8480],\n",
              "          [0.6130, 0.7370, 0.3956, 0.6113, 0.5628, 0.5004],\n",
              "          [0.1087, 0.2626, 0.9991, 0.3185, 0.8018, 0.1195],\n",
              "          [0.8919, 0.3745, 0.0637, 0.0093, 0.9807, 0.4376],\n",
              "          [0.8171, 0.8515, 0.6407, 0.1149, 0.4082, 0.9972]],\n",
              "\n",
              "         [[0.5729, 0.1858, 0.6551, 0.4641, 0.9117, 0.1783],\n",
              "          [0.0072, 0.9607, 0.2907, 0.3736, 0.0195, 0.1363],\n",
              "          [0.1875, 0.7943, 0.6710, 0.0438, 0.7687, 0.9844],\n",
              "          [0.5651, 0.6327, 0.2560, 0.4112, 0.8814, 0.4698],\n",
              "          [0.1687, 0.3224, 0.1202, 0.4308, 0.5662, 0.5862]]]])"
            ]
          },
          "execution_count": 21,
          "metadata": {},
          "output_type": "execute_result"
        }
      ],
      "source": [
        "random_tensor.ndim\n",
        "\n",
        "random_multiple_dimesion = torch.rand(3, 4, 5, 6)\n",
        "random_multiple_dimesion"
      ]
    },
    {
      "cell_type": "code",
      "execution_count": 22,
      "metadata": {
        "colab": {
          "base_uri": "https://localhost:8080/"
        },
        "id": "Iv07A9zILjMZ",
        "outputId": "5846dfa2-55cd-4dd4-e0e2-861df9610375"
      },
      "outputs": [
        {
          "data": {
            "text/plain": [
              "4"
            ]
          },
          "execution_count": 22,
          "metadata": {},
          "output_type": "execute_result"
        }
      ],
      "source": [
        "random_multiple_dimesion.ndim"
      ]
    },
    {
      "cell_type": "code",
      "execution_count": 23,
      "metadata": {
        "colab": {
          "base_uri": "https://localhost:8080/"
        },
        "id": "LDAb6U8ILtcS",
        "outputId": "99eaae6b-a913-4e18-8f02-6569300e28d3"
      },
      "outputs": [
        {
          "data": {
            "text/plain": [
              "torch.Size([3, 4, 5, 6])"
            ]
          },
          "execution_count": 23,
          "metadata": {},
          "output_type": "execute_result"
        }
      ],
      "source": [
        "random_multiple_dimesion.shape"
      ]
    },
    {
      "cell_type": "markdown",
      "metadata": {
        "id": "gd5fZ_uNMV-X"
      },
      "source": [
        "![image.png](https://raw.githubusercontent.com/mrdbourke/pytorch-deep-learning/main/images/00-tensor-shape-example-of-image.png)"
      ]
    },
    {
      "cell_type": "code",
      "execution_count": 24,
      "metadata": {
        "colab": {
          "base_uri": "https://localhost:8080/"
        },
        "id": "jaFuWQ-qLv_C",
        "outputId": "50433117-0168-4200-ff65-6474fa2db62e"
      },
      "outputs": [
        {
          "data": {
            "text/plain": [
              "(tensor([[[6.9846e-01, 2.0978e-01, 9.2464e-01],\n",
              "          [1.3338e-01, 6.4845e-01, 1.7572e-01],\n",
              "          [8.3031e-01, 6.5511e-01, 6.6541e-01],\n",
              "          ...,\n",
              "          [4.6958e-01, 7.4223e-01, 7.7491e-01],\n",
              "          [3.7237e-01, 8.5390e-02, 8.3528e-01],\n",
              "          [9.3002e-01, 2.1013e-02, 4.6784e-01]],\n",
              " \n",
              "         [[9.1731e-01, 7.7749e-01, 8.3627e-01],\n",
              "          [5.6689e-01, 2.5763e-01, 4.9450e-01],\n",
              "          [1.4193e-01, 3.2452e-01, 5.1865e-01],\n",
              "          ...,\n",
              "          [6.2636e-02, 3.8970e-01, 5.8670e-01],\n",
              "          [7.0374e-01, 5.9202e-01, 2.6660e-01],\n",
              "          [6.8671e-01, 4.8158e-01, 7.5854e-01]],\n",
              " \n",
              "         [[1.9955e-01, 8.6122e-01, 9.3777e-01],\n",
              "          [7.0741e-02, 7.3495e-01, 1.9147e-01],\n",
              "          [3.0942e-01, 6.0095e-01, 6.4150e-01],\n",
              "          ...,\n",
              "          [6.0790e-01, 5.7370e-01, 7.2988e-01],\n",
              "          [7.8579e-01, 8.0935e-01, 1.7516e-01],\n",
              "          [8.7639e-01, 3.5064e-01, 1.6976e-01]],\n",
              " \n",
              "         ...,\n",
              " \n",
              "         [[4.9061e-01, 6.5421e-01, 7.8786e-01],\n",
              "          [8.0060e-01, 7.3837e-01, 9.8892e-01],\n",
              "          [7.2329e-01, 3.1493e-01, 2.5680e-01],\n",
              "          ...,\n",
              "          [2.0811e-01, 7.1980e-01, 3.6414e-01],\n",
              "          [1.9260e-01, 4.6979e-01, 8.7449e-01],\n",
              "          [5.3576e-01, 1.7807e-01, 2.9422e-01]],\n",
              " \n",
              "         [[1.4208e-01, 9.9392e-01, 5.2345e-04],\n",
              "          [2.3525e-01, 6.7906e-01, 8.0570e-01],\n",
              "          [1.7445e-01, 9.7131e-01, 3.5288e-01],\n",
              "          ...,\n",
              "          [7.4761e-01, 7.8715e-01, 2.5305e-01],\n",
              "          [3.4857e-01, 5.7289e-01, 4.3200e-01],\n",
              "          [4.7531e-01, 2.9937e-01, 7.4185e-01]],\n",
              " \n",
              "         [[5.2381e-01, 2.6396e-01, 5.2188e-01],\n",
              "          [6.0109e-02, 2.8202e-02, 9.0510e-01],\n",
              "          [8.6092e-01, 5.0410e-01, 1.3803e-01],\n",
              "          ...,\n",
              "          [9.1664e-01, 4.3288e-01, 1.1431e-01],\n",
              "          [3.8617e-01, 3.2953e-01, 4.8308e-01],\n",
              "          [9.0678e-01, 4.0195e-01, 7.7197e-03]]]),\n",
              " 3)"
            ]
          },
          "execution_count": 24,
          "metadata": {},
          "output_type": "execute_result"
        }
      ],
      "source": [
        "random_image_size_tensor = torch.rand(size=(224, 224, 3)) # Height, width, color channel (R, G, B)\n",
        "random_image_size_tensor, random_image_size_tensor.ndim"
      ]
    },
    {
      "cell_type": "code",
      "execution_count": 25,
      "metadata": {
        "colab": {
          "base_uri": "https://localhost:8080/"
        },
        "id": "_wz_tqpBMtno",
        "outputId": "3b380142-c7ef-4288-c623-d78905d9b1bf"
      },
      "outputs": [
        {
          "data": {
            "text/plain": [
              "tensor([[0., 0., 0., 0.],\n",
              "        [0., 0., 0., 0.],\n",
              "        [0., 0., 0., 0.]])"
            ]
          },
          "execution_count": 25,
          "metadata": {},
          "output_type": "execute_result"
        }
      ],
      "source": [
        "# Creating a tensor of all zeros\n",
        "zeros = torch.zeros(size=(3,4))\n",
        "zeros"
      ]
    },
    {
      "cell_type": "code",
      "execution_count": 26,
      "metadata": {
        "colab": {
          "base_uri": "https://localhost:8080/"
        },
        "id": "vv_OO6MMM_KD",
        "outputId": "c1ac6e19-0d07-4e20-f888-43d6f3791009"
      },
      "outputs": [
        {
          "data": {
            "text/plain": [
              "tensor([[1., 1., 1., 1.],\n",
              "        [1., 1., 1., 1.],\n",
              "        [1., 1., 1., 1.]])"
            ]
          },
          "execution_count": 26,
          "metadata": {},
          "output_type": "execute_result"
        }
      ],
      "source": [
        "ones = torch.ones(size=(3, 4))\n",
        "ones"
      ]
    },
    {
      "cell_type": "markdown",
      "metadata": {
        "id": "OWniv970PxJn"
      },
      "source": [
        "Tensor Datatypes"
      ]
    },
    {
      "cell_type": "code",
      "execution_count": 27,
      "metadata": {
        "colab": {
          "base_uri": "https://localhost:8080/"
        },
        "id": "rICIr-0WP0Si",
        "outputId": "ef83780c-422e-461a-89d5-7217dc9080c3"
      },
      "outputs": [
        {
          "data": {
            "text/plain": [
              "tensor([3., 6., 9.])"
            ]
          },
          "execution_count": 27,
          "metadata": {},
          "output_type": "execute_result"
        }
      ],
      "source": [
        "# Float 32 tensor\n",
        "float_32_tensor = torch.tensor([3.0, 6.0, 9.0], dtype=None)\n",
        "float_32_tensor"
      ]
    },
    {
      "cell_type": "code",
      "execution_count": 28,
      "metadata": {
        "colab": {
          "base_uri": "https://localhost:8080/"
        },
        "id": "oyxxKx-EQPRl",
        "outputId": "c2fd33a8-36bb-405e-c0dc-fe9a861fbc0a"
      },
      "outputs": [
        {
          "data": {
            "text/plain": [
              "(torch.float32, tensor([3., 6., 9.], dtype=torch.float16))"
            ]
          },
          "execution_count": 28,
          "metadata": {},
          "output_type": "execute_result"
        }
      ],
      "source": [
        "float_16_tensor = torch.tensor([3.0, 6.0, 9.0], dtype=torch.float16)\n",
        "\n",
        "float_32_tensor.dtype, float_16_tensor"
      ]
    },
    {
      "cell_type": "code",
      "execution_count": 29,
      "metadata": {
        "colab": {
          "base_uri": "https://localhost:8080/"
        },
        "id": "2hgHoPOxQoV6",
        "outputId": "5432343d-3b2b-4466-f119-a0464c6d99e5"
      },
      "outputs": [
        {
          "data": {
            "text/plain": [
              "tensor([3., 6., 9.])"
            ]
          },
          "execution_count": 29,
          "metadata": {},
          "output_type": "execute_result"
        }
      ],
      "source": [
        "float_tensor = torch.tensor([3.0, 6.0, 9.0],\n",
        "                            dtype=None, # Data Types eg.: flot32 (Default), float16, float64, etc. used in Precision in Computer\n",
        "                            device=None, # defaults to None, which uses the default tensor type eg.: \"cpu\", \"cuda\", etc\n",
        "                            requires_grad=False # if True, operations performed on the tensor are recorded\n",
        "                            )\n",
        "\n",
        "float_tensor"
      ]
    },
    {
      "cell_type": "code",
      "execution_count": 30,
      "metadata": {
        "colab": {
          "base_uri": "https://localhost:8080/"
        },
        "id": "m48cYuZJS4hS",
        "outputId": "24f72044-3755-4f6b-ba05-05a46bd98df4"
      },
      "outputs": [
        {
          "data": {
            "text/plain": [
              "tensor([ 9., 36., 81.])"
            ]
          },
          "execution_count": 30,
          "metadata": {},
          "output_type": "execute_result"
        }
      ],
      "source": [
        "multiplied_tensor = float_16_tensor * float_32_tensor\n",
        "\n",
        "multiplied_tensor"
      ]
    },
    {
      "cell_type": "code",
      "execution_count": 31,
      "metadata": {
        "id": "yc7UqP-ITbAz"
      },
      "outputs": [],
      "source": [
        "int_32_tensor = torch.tensor([3, 6, 9], dtype=torch.int32)\n",
        "\n",
        "multiplied_int_tensor = int_32_tensor * float_tensor"
      ]
    },
    {
      "cell_type": "code",
      "execution_count": 32,
      "metadata": {
        "colab": {
          "base_uri": "https://localhost:8080/"
        },
        "id": "W_v6qIQ1TnfR",
        "outputId": "0666cbc9-5309-4be0-da31-953888b7be85"
      },
      "outputs": [
        {
          "data": {
            "text/plain": [
              "(device(type='cpu'), torch.Size([3]))"
            ]
          },
          "execution_count": 32,
          "metadata": {},
          "output_type": "execute_result"
        }
      ],
      "source": [
        "float_32_tensor.device, float_32_tensor.shape"
      ]
    },
    {
      "cell_type": "markdown",
      "metadata": {
        "id": "9fcx_4tdhe6T"
      },
      "source": [
        "### Manipulating Tensors\n",
        "Tensor Operations includes:\n",
        "* Addition\n",
        "* Subtraction\n",
        "* Multiplication (element-wise)\n",
        "* Division\n",
        "* Matrix Multiplication"
      ]
    },
    {
      "cell_type": "code",
      "execution_count": 33,
      "metadata": {
        "colab": {
          "base_uri": "https://localhost:8080/"
        },
        "id": "JQwlADQ1h6ER",
        "outputId": "cb811541-2cf9-4033-8c8d-1c7501d27a58"
      },
      "outputs": [
        {
          "data": {
            "text/plain": [
              "tensor([11, 12, 13])"
            ]
          },
          "execution_count": 33,
          "metadata": {},
          "output_type": "execute_result"
        }
      ],
      "source": [
        "o_tensor = torch.tensor([1, 2, 3])\n",
        "o_tensor + 10"
      ]
    },
    {
      "cell_type": "code",
      "execution_count": 34,
      "metadata": {
        "colab": {
          "base_uri": "https://localhost:8080/"
        },
        "id": "lv4mU9-_iPN8",
        "outputId": "5f51cd56-6f11-4f11-cca5-89fba28d0c0e"
      },
      "outputs": [
        {
          "data": {
            "text/plain": [
              "tensor([10, 20, 30])"
            ]
          },
          "execution_count": 34,
          "metadata": {},
          "output_type": "execute_result"
        }
      ],
      "source": [
        "o_tensor * 10"
      ]
    },
    {
      "cell_type": "code",
      "execution_count": 35,
      "metadata": {
        "colab": {
          "base_uri": "https://localhost:8080/"
        },
        "id": "Q-AP9-HDiVvM",
        "outputId": "0812c2cd-c1bc-4f54-8939-5465eb05bf79"
      },
      "outputs": [
        {
          "data": {
            "text/plain": [
              "tensor([-9, -8, -7])"
            ]
          },
          "execution_count": 35,
          "metadata": {},
          "output_type": "execute_result"
        }
      ],
      "source": [
        "o_tensor - 10"
      ]
    },
    {
      "cell_type": "code",
      "execution_count": 36,
      "metadata": {
        "colab": {
          "base_uri": "https://localhost:8080/"
        },
        "id": "goncKPwrieB6",
        "outputId": "8d86d94e-13bf-4c89-e765-cb2d6b5cc8c4"
      },
      "outputs": [
        {
          "name": "stdout",
          "output_type": "stream",
          "text": [
            "tensor([10, 20, 30])\n",
            "tensor([11, 12, 13])\n",
            "tensor([-9, -8, -7])\n"
          ]
        }
      ],
      "source": [
        "print(torch.mul(o_tensor, 10))\n",
        "print(torch.add(o_tensor, 10))\n",
        "print(torch.sub(o_tensor, 10))"
      ]
    },
    {
      "cell_type": "markdown",
      "metadata": {
        "id": "NuwEciN_i_Xg"
      },
      "source": [
        "### Matrix Multiplication\n",
        "\n",
        "1. Element-wise multiplication\n",
        "2. Matrix Multiplication"
      ]
    },
    {
      "cell_type": "code",
      "execution_count": 37,
      "metadata": {
        "colab": {
          "base_uri": "https://localhost:8080/"
        },
        "id": "yMsycohgjLuE",
        "outputId": "36d8734c-ea92-48f0-a88c-89626a8d161d"
      },
      "outputs": [
        {
          "data": {
            "text/plain": [
              "tensor([1, 4, 9])"
            ]
          },
          "execution_count": 37,
          "metadata": {},
          "output_type": "execute_result"
        }
      ],
      "source": [
        "# Element-wise\n",
        "o_tensor * o_tensor"
      ]
    },
    {
      "cell_type": "code",
      "execution_count": 38,
      "metadata": {
        "colab": {
          "base_uri": "https://localhost:8080/"
        },
        "id": "SBruVOugjl_A",
        "outputId": "22251406-b11c-463f-9ccd-1de1f3acf1fd"
      },
      "outputs": [
        {
          "name": "stdout",
          "output_type": "stream",
          "text": [
            "CPU times: user 201 µs, sys: 90 µs, total: 291 µs\n",
            "Wall time: 198 µs\n"
          ]
        },
        {
          "data": {
            "text/plain": [
              "tensor(14)"
            ]
          },
          "execution_count": 38,
          "metadata": {},
          "output_type": "execute_result"
        }
      ],
      "source": [
        "%%time\n",
        "\n",
        "# Matrix Multiplication\n",
        "torch.matmul(o_tensor, o_tensor)\n",
        "\n",
        "# torch.mm is same as torch.matmul"
      ]
    },
    {
      "cell_type": "markdown",
      "metadata": {
        "id": "oGiTdOg-kh6m"
      },
      "source": [
        "## Common Errors in Deep Learning is Shape Error (Basic High School Maths)\n",
        "1. The **inner dimensions** must match:\n",
        "* `(3,2) @ (3,2)` won't work\n",
        "* `(2,3) @ (3,2)` will work\n",
        "* *similarly, `n` numst be equal to `p`*\n",
        "2. The resulting Matrix has shape `m x q` for two matrix of order `m x n` and `p x n`.\n"
      ]
    },
    {
      "cell_type": "code",
      "execution_count": 39,
      "metadata": {
        "colab": {
          "base_uri": "https://localhost:8080/"
        },
        "id": "7d11xIMB5CBs",
        "outputId": "98530567-2452-4172-e668-b41a51cd836b"
      },
      "outputs": [
        {
          "name": "stdout",
          "output_type": "stream",
          "text": [
            "Same Matrix => tensor([[0.4840, 0.6339],\n",
            "        [0.8057, 0.1238],\n",
            "        [0.5275, 0.1955]])\n",
            "Transpose Matrix => tensor([[0.4840, 0.8057, 0.5275],\n",
            "        [0.6339, 0.1238, 0.1955]])\n"
          ]
        }
      ],
      "source": [
        "# Transpose of a Matrix\n",
        "sample_tensor_transpose = torch.rand(3,2)\n",
        "print(f\"Same Matrix => {sample_tensor_transpose}\")\n",
        "print(f\"Transpose Matrix => {sample_tensor_transpose.T}\")"
      ]
    },
    {
      "cell_type": "markdown",
      "metadata": {
        "id": "QAcmuFlQ8VQQ"
      },
      "source": [
        "## Finding the min, max, mean, sum, etc"
      ]
    },
    {
      "cell_type": "code",
      "execution_count": 40,
      "metadata": {
        "colab": {
          "base_uri": "https://localhost:8080/"
        },
        "id": "Y5MNwuaV8jTM",
        "outputId": "b7875ec5-6fc4-4042-8636-6e099c0f68c0"
      },
      "outputs": [
        {
          "data": {
            "text/plain": [
              "tensor([ 0, 10, 20, 30, 40, 50, 60, 70, 80, 90])"
            ]
          },
          "execution_count": 40,
          "metadata": {},
          "output_type": "execute_result"
        }
      ],
      "source": [
        "sample_tensor = torch.arange(0, 100, 10) # From, To, Length\n",
        "sample_tensor"
      ]
    },
    {
      "cell_type": "code",
      "execution_count": 41,
      "metadata": {
        "colab": {
          "base_uri": "https://localhost:8080/"
        },
        "id": "adlbaQc-82qk",
        "outputId": "d2bff4b4-943b-498e-f1de-bdccdf26533b"
      },
      "outputs": [
        {
          "data": {
            "text/plain": [
              "(tensor(0), tensor(0))"
            ]
          },
          "execution_count": 41,
          "metadata": {},
          "output_type": "execute_result"
        }
      ],
      "source": [
        "# Find the min\n",
        "torch.min(sample_tensor), sample_tensor.min()"
      ]
    },
    {
      "cell_type": "code",
      "execution_count": 42,
      "metadata": {
        "colab": {
          "base_uri": "https://localhost:8080/"
        },
        "id": "VoA-cNmC8939",
        "outputId": "67305a26-ecee-444d-b6ff-405987dfb709"
      },
      "outputs": [
        {
          "data": {
            "text/plain": [
              "(tensor(90), tensor(90))"
            ]
          },
          "execution_count": 42,
          "metadata": {},
          "output_type": "execute_result"
        }
      ],
      "source": [
        "# Find the max\n",
        "torch.max(sample_tensor), sample_tensor.max()"
      ]
    },
    {
      "cell_type": "code",
      "execution_count": 43,
      "metadata": {
        "colab": {
          "base_uri": "https://localhost:8080/"
        },
        "id": "9CJR-1ft9FG7",
        "outputId": "863a64de-67f9-4eb1-9d82-408a5550ab50"
      },
      "outputs": [
        {
          "data": {
            "text/plain": [
              "(tensor(45.), tensor(45.))"
            ]
          },
          "execution_count": 43,
          "metadata": {},
          "output_type": "execute_result"
        }
      ],
      "source": [
        "# Find the mean\n",
        "# Finding the mean requires the tensor to be of datatype of float32\n",
        "torch.mean(sample_tensor.type(torch.float32)), sample_tensor.type(torch.float32).mean()"
      ]
    },
    {
      "cell_type": "code",
      "execution_count": 44,
      "metadata": {
        "colab": {
          "base_uri": "https://localhost:8080/"
        },
        "id": "fxpgqnd-9hGM",
        "outputId": "c0fecd5c-568f-4232-e15b-8979cc41ea81"
      },
      "outputs": [
        {
          "data": {
            "text/plain": [
              "(tensor(450), tensor(450))"
            ]
          },
          "execution_count": 44,
          "metadata": {},
          "output_type": "execute_result"
        }
      ],
      "source": [
        "# Find Sum\n",
        "torch.sum(sample_tensor), sample_tensor.sum()"
      ]
    },
    {
      "cell_type": "markdown",
      "metadata": {
        "id": "cqb5Hacq95yY"
      },
      "source": [
        "## Finding the position min and max"
      ]
    },
    {
      "cell_type": "code",
      "execution_count": 45,
      "metadata": {
        "colab": {
          "base_uri": "https://localhost:8080/"
        },
        "id": "RnVNA5fs-YfP",
        "outputId": "9d993abb-54ac-4044-bf5b-6a61e9551385"
      },
      "outputs": [
        {
          "data": {
            "text/plain": [
              "tensor(0)"
            ]
          },
          "execution_count": 45,
          "metadata": {},
          "output_type": "execute_result"
        }
      ],
      "source": [
        "sample_tensor.argmin()"
      ]
    },
    {
      "cell_type": "code",
      "execution_count": 46,
      "metadata": {
        "colab": {
          "base_uri": "https://localhost:8080/"
        },
        "id": "B1bP2Z2J-hJx",
        "outputId": "a2ea4e52-c397-4389-cd8b-250a79163f34"
      },
      "outputs": [
        {
          "data": {
            "text/plain": [
              "tensor(9)"
            ]
          },
          "execution_count": 46,
          "metadata": {},
          "output_type": "execute_result"
        }
      ],
      "source": [
        "sample_tensor.argmax()"
      ]
    },
    {
      "cell_type": "markdown",
      "metadata": {
        "id": "JKbu4fl1-sml"
      },
      "source": [
        "## Reshaping, Stacking, Squeezing, and unsqueezing tensors\n",
        "* Reshaping - *Reshape an tensor to a different shape*\n",
        "* View - *Return a view of an input tensor of certain shape but keep the same memory*\n",
        "* Stacking - *Combining multiple tensors on top of each other (vstack) or side by side (hstack)*\n",
        "* Squeeze - *Removes all `1` diminesions from a tensor*\n",
        "* Unsequeeze - *Add a `1` dimension to a target tensor*\n",
        "* Permute - *Return a view of the input with dimensions permuted (swapped) in a certain way*"
      ]
    },
    {
      "cell_type": "code",
      "execution_count": 47,
      "metadata": {
        "colab": {
          "base_uri": "https://localhost:8080/"
        },
        "id": "Ak3HfiN5_SM3",
        "outputId": "bc688c43-5214-403b-86ee-f462a8808ca5"
      },
      "outputs": [
        {
          "data": {
            "text/plain": [
              "tensor([[ 0, 10, 20, 30, 40],\n",
              "        [50, 60, 70, 80, 90]])"
            ]
          },
          "execution_count": 47,
          "metadata": {},
          "output_type": "execute_result"
        }
      ],
      "source": [
        "# Change the shape\n",
        "sample_tensor.reshape(2, 5) # <- order of new matrix must match the no. of elements with prev. matrix"
      ]
    },
    {
      "cell_type": "code",
      "execution_count": 48,
      "metadata": {
        "colab": {
          "base_uri": "https://localhost:8080/"
        },
        "id": "KJNfjG3cAjPp",
        "outputId": "ed9a3147-2a36-41ab-e434-3da8ac4a9c51"
      },
      "outputs": [
        {
          "data": {
            "text/plain": [
              "tensor([[ 0],\n",
              "        [10],\n",
              "        [20],\n",
              "        [30],\n",
              "        [40],\n",
              "        [50],\n",
              "        [60],\n",
              "        [70],\n",
              "        [80],\n",
              "        [90]])"
            ]
          },
          "execution_count": 48,
          "metadata": {},
          "output_type": "execute_result"
        }
      ],
      "source": [
        "# Change the view\n",
        "sample_tensor.view(10, 1)"
      ]
    },
    {
      "cell_type": "code",
      "execution_count": 49,
      "metadata": {
        "colab": {
          "base_uri": "https://localhost:8080/"
        },
        "id": "3sxm_SUgBZXs",
        "outputId": "ef70d9c3-31a3-4852-834a-260bc843bffb"
      },
      "outputs": [
        {
          "data": {
            "text/plain": [
              "tensor([[ 0, 10, 20, 30, 40, 50, 60, 70, 80, 90],\n",
              "        [ 0, 10, 20, 30, 40, 50, 60, 70, 80, 90],\n",
              "        [ 0, 10, 20, 30, 40, 50, 60, 70, 80, 90],\n",
              "        [ 0, 10, 20, 30, 40, 50, 60, 70, 80, 90]])"
            ]
          },
          "execution_count": 49,
          "metadata": {},
          "output_type": "execute_result"
        }
      ],
      "source": [
        "# Stack tensor\n",
        "torch.stack([sample_tensor, sample_tensor, sample_tensor, sample_tensor], dim=0)"
      ]
    },
    {
      "cell_type": "code",
      "execution_count": 50,
      "metadata": {
        "colab": {
          "base_uri": "https://localhost:8080/"
        },
        "id": "AzKildo6B3Tr",
        "outputId": "374e8d51-053f-43be-e038-3b6ac825d066"
      },
      "outputs": [
        {
          "name": "stdout",
          "output_type": "stream",
          "text": [
            "Sample Tensor => tensor([[[0.9343, 0.6371, 0.0811, 0.7885, 0.6910, 0.9634, 0.7151, 0.9928,\n",
            "          0.4662, 0.7676, 0.4376, 0.9127, 0.7861, 0.4327, 0.0641, 0.5521,\n",
            "          0.4653, 0.9329, 0.1838, 0.0248, 0.8890, 0.1350, 0.7716, 0.3680,\n",
            "          0.7052, 0.9866, 0.6488, 0.4282, 0.8569, 0.6170, 0.1738, 0.5201,\n",
            "          0.5334, 0.3196, 0.4180, 0.3375, 0.3301, 0.7794, 0.4936, 0.2507,\n",
            "          0.7233, 0.2455, 0.2289, 0.7713, 0.9852, 0.4270, 0.7038, 0.5089,\n",
            "          0.9116, 0.9271, 0.6213, 0.9348, 0.9466, 0.6753, 0.1192, 0.1265,\n",
            "          0.0871, 0.6194, 0.0191, 0.3968, 0.5113, 0.2007, 0.7956, 0.5590,\n",
            "          0.7074, 0.3401, 0.0848, 0.0914, 0.0470, 0.9596, 0.2990, 0.7151,\n",
            "          0.3730, 0.2720, 0.2614, 0.3918, 0.2381, 0.7626, 0.2794, 0.6848,\n",
            "          0.9052, 0.0360, 0.5421, 0.5021, 0.7641, 0.6317, 0.3103, 0.0613,\n",
            "          0.7726, 0.2828, 0.1745, 0.9686, 0.1137, 0.4297, 0.3799, 0.3143,\n",
            "          0.1034, 0.4430, 0.5516, 0.8247],\n",
            "         [0.4582, 0.8713, 0.7507, 0.4470, 0.3155, 0.9089, 0.3308, 0.6946,\n",
            "          0.0953, 0.7677, 0.7284, 0.5488, 0.0928, 0.4450, 0.9911, 0.2551,\n",
            "          0.2528, 0.9573, 0.3311, 0.7037, 0.1223, 0.0905, 0.6227, 0.8724,\n",
            "          0.9711, 0.3607, 0.3146, 0.2236, 0.8582, 0.9851, 0.1884, 0.3139,\n",
            "          0.1828, 0.3062, 0.4969, 0.0624, 0.3937, 0.4694, 0.9926, 0.6300,\n",
            "          0.0367, 0.5242, 0.1775, 0.4693, 0.9312, 0.4494, 0.3537, 0.6296,\n",
            "          0.8886, 0.9334, 0.2548, 0.8733, 0.4561, 0.2719, 0.6807, 0.8484,\n",
            "          0.9460, 0.3376, 0.2649, 0.2940, 0.5872, 0.7717, 0.8233, 0.8259,\n",
            "          0.3967, 0.2630, 0.7281, 0.0383, 0.4410, 0.9216, 0.8056, 0.3478,\n",
            "          0.9616, 0.1841, 0.4040, 0.8825, 0.5576, 0.7343, 0.7726, 0.0426,\n",
            "          0.6353, 0.2407, 0.8224, 0.5720, 0.9702, 0.6291, 0.5760, 0.2858,\n",
            "          0.9136, 0.8728, 0.3445, 0.1099, 0.1171, 0.3906, 0.3415, 0.0178,\n",
            "          0.9619, 0.2074, 0.7530, 0.7528],\n",
            "         [0.2126, 0.9670, 0.3843, 0.8958, 0.8935, 0.8705, 0.5027, 0.0401,\n",
            "          0.0692, 0.3215, 0.3653, 0.6977, 0.1517, 0.6737, 0.1104, 0.2292,\n",
            "          0.9267, 0.4943, 0.4295, 0.0401, 0.2640, 0.6462, 0.3339, 0.9813,\n",
            "          0.8508, 0.3153, 0.8701, 0.9717, 0.1988, 0.1021, 0.0944, 0.6653,\n",
            "          0.8822, 0.2412, 0.4523, 0.0329, 0.9095, 0.3117, 0.7427, 0.5369,\n",
            "          0.7804, 0.9400, 0.7936, 0.7238, 0.5912, 0.7180, 0.9621, 0.5379,\n",
            "          0.9091, 0.6727, 0.3840, 0.5656, 0.6601, 0.5512, 0.0484, 0.6651,\n",
            "          0.0331, 0.1127, 0.9399, 0.1591, 0.4843, 0.0525, 0.3925, 0.4331,\n",
            "          0.0800, 0.9795, 0.9173, 0.8853, 0.0521, 0.3420, 0.4951, 0.7047,\n",
            "          0.6175, 0.1973, 0.3727, 0.4295, 0.6787, 0.4844, 0.6696, 0.4064,\n",
            "          0.1114, 0.4804, 0.7834, 0.2845, 0.8252, 0.9070, 0.8040, 0.7178,\n",
            "          0.0309, 0.7531, 0.2118, 0.4658, 0.2551, 0.1294, 0.7470, 0.7738,\n",
            "          0.7781, 0.3864, 0.4582, 0.9964],\n",
            "         [0.3863, 0.0321, 0.9091, 0.5487, 0.4716, 0.7916, 0.0929, 0.6151,\n",
            "          0.1976, 0.1249, 0.9628, 0.7850, 0.2829, 0.7846, 0.1979, 0.6747,\n",
            "          0.9809, 0.5900, 0.3877, 0.1135, 0.2419, 0.7616, 0.9801, 0.1876,\n",
            "          0.2890, 0.0139, 0.0934, 0.0623, 0.5932, 0.5205, 0.6409, 0.9320,\n",
            "          0.3376, 0.8078, 0.2255, 0.6401, 0.3249, 0.3629, 0.0880, 0.8411,\n",
            "          0.5880, 0.8926, 0.7528, 0.0232, 0.6136, 0.3507, 0.8821, 0.4969,\n",
            "          0.5099, 0.9162, 0.6776, 0.8369, 0.7713, 0.1157, 0.2247, 0.6931,\n",
            "          0.4361, 0.4069, 0.3517, 0.5661, 0.8465, 0.1143, 0.4506, 0.2009,\n",
            "          0.4637, 0.4760, 0.6218, 0.9724, 0.9616, 0.5086, 0.2217, 0.8440,\n",
            "          0.1466, 0.9675, 0.2369, 0.5912, 0.2952, 0.1580, 0.3764, 0.8471,\n",
            "          0.7748, 0.6961, 0.8242, 0.2898, 0.9893, 0.1374, 0.9251, 0.2166,\n",
            "          0.1964, 0.5492, 0.0898, 0.7908, 0.0853, 0.3304, 0.1059, 0.0855,\n",
            "          0.4812, 0.7602, 0.3506, 0.9560],\n",
            "         [0.2126, 0.0923, 0.5335, 0.6042, 0.6642, 0.7033, 0.5272, 0.5247,\n",
            "          0.0238, 0.6428, 0.9935, 0.5538, 0.2900, 0.8213, 0.2290, 0.5200,\n",
            "          0.8904, 0.1381, 0.5696, 0.3703, 0.4236, 0.5198, 0.5880, 0.7949,\n",
            "          0.1183, 0.3239, 0.6744, 0.8405, 0.4624, 0.4677, 0.0388, 0.4283,\n",
            "          0.5865, 0.2285, 0.8930, 0.6987, 0.1411, 0.4667, 0.0101, 0.9439,\n",
            "          0.6097, 0.1656, 0.8593, 0.9013, 0.4893, 0.8891, 0.7866, 0.4067,\n",
            "          0.1805, 0.9476, 0.3512, 0.2759, 0.5480, 0.5251, 0.2359, 0.4174,\n",
            "          0.0135, 0.7321, 0.5674, 0.9649, 0.1542, 0.7340, 0.8307, 0.8266,\n",
            "          0.3868, 0.9674, 0.2241, 0.8520, 0.3013, 0.0546, 0.3349, 0.1928,\n",
            "          0.0295, 0.2747, 0.1545, 0.2950, 0.9437, 0.3266, 0.1825, 0.8328,\n",
            "          0.8803, 0.8702, 0.7053, 0.8559, 0.1149, 0.8706, 0.9826, 0.5910,\n",
            "          0.8955, 0.3561, 0.2563, 0.9079, 0.4054, 0.6716, 0.2633, 0.1401,\n",
            "          0.6324, 0.2868, 0.5118, 0.6193],\n",
            "         [0.1679, 0.5310, 0.2436, 0.3499, 0.6638, 0.6467, 0.0062, 0.1559,\n",
            "          0.1026, 0.2037, 0.2440, 0.5591, 0.8031, 0.5886, 0.1076, 0.9075,\n",
            "          0.3782, 0.8065, 0.0690, 0.6518, 0.6105, 0.4096, 0.7237, 0.5641,\n",
            "          0.5727, 0.3264, 0.4547, 0.9826, 0.9087, 0.8416, 0.2449, 0.1198,\n",
            "          0.8304, 0.9412, 0.9913, 0.2279, 0.7422, 0.5554, 0.1887, 0.7174,\n",
            "          0.4351, 0.0467, 0.4078, 0.7645, 0.6583, 0.9272, 0.4880, 0.6686,\n",
            "          0.1709, 0.0514, 0.2157, 0.7372, 0.9269, 0.2304, 0.6187, 0.1366,\n",
            "          0.2338, 0.7437, 0.3088, 0.1527, 0.3113, 0.3609, 0.4875, 0.6567,\n",
            "          0.8165, 0.7609, 0.2848, 0.9210, 0.5577, 0.8386, 0.0503, 0.7693,\n",
            "          0.1077, 0.9485, 0.0069, 0.0736, 0.9741, 0.1098, 0.3705, 0.4885,\n",
            "          0.3551, 0.4915, 0.6079, 0.1672, 0.0421, 0.1812, 0.9576, 0.6071,\n",
            "          0.5210, 0.9924, 0.2052, 0.9732, 0.8619, 0.6665, 0.1634, 0.6218,\n",
            "          0.8696, 0.2425, 0.8254, 0.8368],\n",
            "         [0.4507, 0.7985, 0.7014, 0.7615, 0.0014, 0.8294, 0.4005, 0.8838,\n",
            "          0.6762, 0.6051, 0.1307, 0.3527, 0.2706, 0.4601, 0.8664, 0.8717,\n",
            "          0.3602, 0.4076, 0.0234, 0.4632, 0.1706, 0.5819, 0.5733, 0.8199,\n",
            "          0.8014, 0.5110, 0.6078, 0.2696, 0.4568, 0.6350, 0.8909, 0.3244,\n",
            "          0.3869, 0.2765, 0.0043, 0.6801, 0.8425, 0.6373, 0.6184, 0.3701,\n",
            "          0.6167, 0.7473, 0.3068, 0.2086, 0.8195, 0.9644, 0.6138, 0.3020,\n",
            "          0.8974, 0.9347, 0.6681, 0.0238, 0.4777, 0.8195, 0.3655, 0.1859,\n",
            "          0.7512, 0.6164, 0.5007, 0.2672, 0.5829, 0.7359, 0.7154, 0.7123,\n",
            "          0.0024, 0.3994, 0.0140, 0.1069, 0.5003, 0.6333, 0.2192, 0.9353,\n",
            "          0.5532, 0.3952, 0.2048, 0.5354, 0.8112, 0.8171, 0.5969, 0.2068,\n",
            "          0.8722, 0.6313, 0.5518, 0.3673, 0.1282, 0.1380, 0.3902, 0.9714,\n",
            "          0.5424, 0.8722, 0.3851, 0.9770, 0.5219, 0.2356, 0.3182, 0.3309,\n",
            "          0.0878, 0.1360, 0.5547, 0.6739],\n",
            "         [0.7227, 0.9387, 0.3619, 0.5483, 0.9321, 0.3240, 0.6101, 0.0173,\n",
            "          0.2455, 0.9916, 0.3557, 0.5022, 0.3379, 0.3033, 0.3398, 0.8243,\n",
            "          0.1381, 0.5636, 0.0320, 0.1344, 0.9784, 0.5223, 0.6574, 0.9166,\n",
            "          0.2881, 0.3111, 0.8535, 0.7863, 0.8205, 0.1947, 0.7080, 0.3800,\n",
            "          0.5797, 0.1470, 0.1265, 0.8174, 0.6694, 0.2365, 0.1010, 0.7557,\n",
            "          0.8490, 0.8653, 0.9077, 0.5614, 0.1752, 0.2725, 0.7502, 0.8706,\n",
            "          0.2253, 0.1956, 0.3376, 0.1278, 0.8535, 0.2426, 0.1784, 0.2808,\n",
            "          0.8419, 0.2397, 0.0453, 0.4813, 0.4060, 0.5498, 0.7190, 0.6124,\n",
            "          0.0199, 0.8098, 0.6438, 0.2569, 0.5550, 0.7448, 0.7927, 0.7230,\n",
            "          0.1010, 0.0576, 0.0998, 0.4312, 0.6383, 0.0107, 0.8161, 0.4914,\n",
            "          0.6579, 0.3382, 0.3056, 0.6636, 0.2999, 0.9632, 0.7824, 0.0169,\n",
            "          0.6602, 0.0622, 0.0579, 0.3674, 0.3757, 0.6918, 0.2375, 0.3332,\n",
            "          0.5610, 0.4234, 0.0079, 0.8381],\n",
            "         [0.9567, 0.8335, 0.1970, 0.3403, 0.6970, 0.3675, 0.3616, 0.3716,\n",
            "          0.1070, 0.0132, 0.1120, 0.0862, 0.0955, 0.4868, 0.5193, 0.4792,\n",
            "          0.5509, 0.9175, 0.0579, 0.2246, 0.3093, 0.5780, 0.0589, 0.1186,\n",
            "          0.4446, 0.1079, 0.5077, 0.2945, 0.2050, 0.9583, 0.6345, 0.4804,\n",
            "          0.5671, 0.9156, 0.0048, 0.8868, 0.2219, 0.5268, 0.2174, 0.6710,\n",
            "          0.2744, 0.5501, 0.0430, 0.3590, 0.1187, 0.4283, 0.9468, 0.5088,\n",
            "          0.6931, 0.8639, 0.4422, 0.6663, 0.8157, 0.5345, 0.5657, 0.0466,\n",
            "          0.6436, 0.6418, 0.4543, 0.3211, 0.3407, 0.6969, 0.7022, 0.8380,\n",
            "          0.5777, 0.1556, 0.7162, 0.7399, 0.8919, 0.7101, 0.9775, 0.3852,\n",
            "          0.2621, 0.3570, 0.5767, 0.6473, 0.1500, 0.3838, 0.4737, 0.3429,\n",
            "          0.7060, 0.2423, 0.8086, 0.1027, 0.4338, 0.9941, 0.7250, 0.3485,\n",
            "          0.5642, 0.9551, 0.5572, 0.1067, 0.0412, 0.3150, 0.6037, 0.6479,\n",
            "          0.4969, 0.4310, 0.3249, 0.5799],\n",
            "         [0.7180, 0.2811, 0.5656, 0.6199, 0.2311, 0.6470, 0.1820, 0.3934,\n",
            "          0.9034, 0.9907, 0.1514, 0.4118, 0.9316, 0.9756, 0.7988, 0.4085,\n",
            "          0.7713, 0.0642, 0.6460, 0.2165, 0.6423, 0.3117, 0.7311, 0.9294,\n",
            "          0.6668, 0.6927, 0.9145, 0.1371, 0.3632, 0.1435, 0.2229, 0.4848,\n",
            "          0.5876, 0.1243, 0.1448, 0.8868, 0.4777, 0.2075, 0.0097, 0.4816,\n",
            "          0.5242, 0.6270, 0.5167, 0.4279, 0.3993, 0.7034, 0.2951, 0.4833,\n",
            "          0.0976, 0.1890, 0.4089, 0.6447, 0.5815, 0.0320, 0.1537, 0.8812,\n",
            "          0.1092, 0.6201, 0.4739, 0.2132, 0.6164, 0.0932, 0.2995, 0.3626,\n",
            "          0.0956, 0.8056, 0.8817, 0.4580, 0.3182, 0.5862, 0.5698, 0.1790,\n",
            "          0.1433, 0.0957, 0.9593, 0.0807, 0.6016, 0.7263, 0.3418, 0.8507,\n",
            "          0.8849, 0.7250, 0.5986, 0.7700, 0.0273, 0.0465, 0.6697, 0.7908,\n",
            "          0.5636, 0.5543, 0.3172, 0.7285, 0.8490, 0.9876, 0.4805, 0.3688,\n",
            "          0.1622, 0.3400, 0.7364, 0.1124]]])\n",
            "Shape of sample Tensor => torch.Size([1, 10, 100])\n",
            "Squeeze Tensor => tensor([[0.9343, 0.6371, 0.0811, 0.7885, 0.6910, 0.9634, 0.7151, 0.9928, 0.4662,\n",
            "         0.7676, 0.4376, 0.9127, 0.7861, 0.4327, 0.0641, 0.5521, 0.4653, 0.9329,\n",
            "         0.1838, 0.0248, 0.8890, 0.1350, 0.7716, 0.3680, 0.7052, 0.9866, 0.6488,\n",
            "         0.4282, 0.8569, 0.6170, 0.1738, 0.5201, 0.5334, 0.3196, 0.4180, 0.3375,\n",
            "         0.3301, 0.7794, 0.4936, 0.2507, 0.7233, 0.2455, 0.2289, 0.7713, 0.9852,\n",
            "         0.4270, 0.7038, 0.5089, 0.9116, 0.9271, 0.6213, 0.9348, 0.9466, 0.6753,\n",
            "         0.1192, 0.1265, 0.0871, 0.6194, 0.0191, 0.3968, 0.5113, 0.2007, 0.7956,\n",
            "         0.5590, 0.7074, 0.3401, 0.0848, 0.0914, 0.0470, 0.9596, 0.2990, 0.7151,\n",
            "         0.3730, 0.2720, 0.2614, 0.3918, 0.2381, 0.7626, 0.2794, 0.6848, 0.9052,\n",
            "         0.0360, 0.5421, 0.5021, 0.7641, 0.6317, 0.3103, 0.0613, 0.7726, 0.2828,\n",
            "         0.1745, 0.9686, 0.1137, 0.4297, 0.3799, 0.3143, 0.1034, 0.4430, 0.5516,\n",
            "         0.8247],\n",
            "        [0.4582, 0.8713, 0.7507, 0.4470, 0.3155, 0.9089, 0.3308, 0.6946, 0.0953,\n",
            "         0.7677, 0.7284, 0.5488, 0.0928, 0.4450, 0.9911, 0.2551, 0.2528, 0.9573,\n",
            "         0.3311, 0.7037, 0.1223, 0.0905, 0.6227, 0.8724, 0.9711, 0.3607, 0.3146,\n",
            "         0.2236, 0.8582, 0.9851, 0.1884, 0.3139, 0.1828, 0.3062, 0.4969, 0.0624,\n",
            "         0.3937, 0.4694, 0.9926, 0.6300, 0.0367, 0.5242, 0.1775, 0.4693, 0.9312,\n",
            "         0.4494, 0.3537, 0.6296, 0.8886, 0.9334, 0.2548, 0.8733, 0.4561, 0.2719,\n",
            "         0.6807, 0.8484, 0.9460, 0.3376, 0.2649, 0.2940, 0.5872, 0.7717, 0.8233,\n",
            "         0.8259, 0.3967, 0.2630, 0.7281, 0.0383, 0.4410, 0.9216, 0.8056, 0.3478,\n",
            "         0.9616, 0.1841, 0.4040, 0.8825, 0.5576, 0.7343, 0.7726, 0.0426, 0.6353,\n",
            "         0.2407, 0.8224, 0.5720, 0.9702, 0.6291, 0.5760, 0.2858, 0.9136, 0.8728,\n",
            "         0.3445, 0.1099, 0.1171, 0.3906, 0.3415, 0.0178, 0.9619, 0.2074, 0.7530,\n",
            "         0.7528],\n",
            "        [0.2126, 0.9670, 0.3843, 0.8958, 0.8935, 0.8705, 0.5027, 0.0401, 0.0692,\n",
            "         0.3215, 0.3653, 0.6977, 0.1517, 0.6737, 0.1104, 0.2292, 0.9267, 0.4943,\n",
            "         0.4295, 0.0401, 0.2640, 0.6462, 0.3339, 0.9813, 0.8508, 0.3153, 0.8701,\n",
            "         0.9717, 0.1988, 0.1021, 0.0944, 0.6653, 0.8822, 0.2412, 0.4523, 0.0329,\n",
            "         0.9095, 0.3117, 0.7427, 0.5369, 0.7804, 0.9400, 0.7936, 0.7238, 0.5912,\n",
            "         0.7180, 0.9621, 0.5379, 0.9091, 0.6727, 0.3840, 0.5656, 0.6601, 0.5512,\n",
            "         0.0484, 0.6651, 0.0331, 0.1127, 0.9399, 0.1591, 0.4843, 0.0525, 0.3925,\n",
            "         0.4331, 0.0800, 0.9795, 0.9173, 0.8853, 0.0521, 0.3420, 0.4951, 0.7047,\n",
            "         0.6175, 0.1973, 0.3727, 0.4295, 0.6787, 0.4844, 0.6696, 0.4064, 0.1114,\n",
            "         0.4804, 0.7834, 0.2845, 0.8252, 0.9070, 0.8040, 0.7178, 0.0309, 0.7531,\n",
            "         0.2118, 0.4658, 0.2551, 0.1294, 0.7470, 0.7738, 0.7781, 0.3864, 0.4582,\n",
            "         0.9964],\n",
            "        [0.3863, 0.0321, 0.9091, 0.5487, 0.4716, 0.7916, 0.0929, 0.6151, 0.1976,\n",
            "         0.1249, 0.9628, 0.7850, 0.2829, 0.7846, 0.1979, 0.6747, 0.9809, 0.5900,\n",
            "         0.3877, 0.1135, 0.2419, 0.7616, 0.9801, 0.1876, 0.2890, 0.0139, 0.0934,\n",
            "         0.0623, 0.5932, 0.5205, 0.6409, 0.9320, 0.3376, 0.8078, 0.2255, 0.6401,\n",
            "         0.3249, 0.3629, 0.0880, 0.8411, 0.5880, 0.8926, 0.7528, 0.0232, 0.6136,\n",
            "         0.3507, 0.8821, 0.4969, 0.5099, 0.9162, 0.6776, 0.8369, 0.7713, 0.1157,\n",
            "         0.2247, 0.6931, 0.4361, 0.4069, 0.3517, 0.5661, 0.8465, 0.1143, 0.4506,\n",
            "         0.2009, 0.4637, 0.4760, 0.6218, 0.9724, 0.9616, 0.5086, 0.2217, 0.8440,\n",
            "         0.1466, 0.9675, 0.2369, 0.5912, 0.2952, 0.1580, 0.3764, 0.8471, 0.7748,\n",
            "         0.6961, 0.8242, 0.2898, 0.9893, 0.1374, 0.9251, 0.2166, 0.1964, 0.5492,\n",
            "         0.0898, 0.7908, 0.0853, 0.3304, 0.1059, 0.0855, 0.4812, 0.7602, 0.3506,\n",
            "         0.9560],\n",
            "        [0.2126, 0.0923, 0.5335, 0.6042, 0.6642, 0.7033, 0.5272, 0.5247, 0.0238,\n",
            "         0.6428, 0.9935, 0.5538, 0.2900, 0.8213, 0.2290, 0.5200, 0.8904, 0.1381,\n",
            "         0.5696, 0.3703, 0.4236, 0.5198, 0.5880, 0.7949, 0.1183, 0.3239, 0.6744,\n",
            "         0.8405, 0.4624, 0.4677, 0.0388, 0.4283, 0.5865, 0.2285, 0.8930, 0.6987,\n",
            "         0.1411, 0.4667, 0.0101, 0.9439, 0.6097, 0.1656, 0.8593, 0.9013, 0.4893,\n",
            "         0.8891, 0.7866, 0.4067, 0.1805, 0.9476, 0.3512, 0.2759, 0.5480, 0.5251,\n",
            "         0.2359, 0.4174, 0.0135, 0.7321, 0.5674, 0.9649, 0.1542, 0.7340, 0.8307,\n",
            "         0.8266, 0.3868, 0.9674, 0.2241, 0.8520, 0.3013, 0.0546, 0.3349, 0.1928,\n",
            "         0.0295, 0.2747, 0.1545, 0.2950, 0.9437, 0.3266, 0.1825, 0.8328, 0.8803,\n",
            "         0.8702, 0.7053, 0.8559, 0.1149, 0.8706, 0.9826, 0.5910, 0.8955, 0.3561,\n",
            "         0.2563, 0.9079, 0.4054, 0.6716, 0.2633, 0.1401, 0.6324, 0.2868, 0.5118,\n",
            "         0.6193],\n",
            "        [0.1679, 0.5310, 0.2436, 0.3499, 0.6638, 0.6467, 0.0062, 0.1559, 0.1026,\n",
            "         0.2037, 0.2440, 0.5591, 0.8031, 0.5886, 0.1076, 0.9075, 0.3782, 0.8065,\n",
            "         0.0690, 0.6518, 0.6105, 0.4096, 0.7237, 0.5641, 0.5727, 0.3264, 0.4547,\n",
            "         0.9826, 0.9087, 0.8416, 0.2449, 0.1198, 0.8304, 0.9412, 0.9913, 0.2279,\n",
            "         0.7422, 0.5554, 0.1887, 0.7174, 0.4351, 0.0467, 0.4078, 0.7645, 0.6583,\n",
            "         0.9272, 0.4880, 0.6686, 0.1709, 0.0514, 0.2157, 0.7372, 0.9269, 0.2304,\n",
            "         0.6187, 0.1366, 0.2338, 0.7437, 0.3088, 0.1527, 0.3113, 0.3609, 0.4875,\n",
            "         0.6567, 0.8165, 0.7609, 0.2848, 0.9210, 0.5577, 0.8386, 0.0503, 0.7693,\n",
            "         0.1077, 0.9485, 0.0069, 0.0736, 0.9741, 0.1098, 0.3705, 0.4885, 0.3551,\n",
            "         0.4915, 0.6079, 0.1672, 0.0421, 0.1812, 0.9576, 0.6071, 0.5210, 0.9924,\n",
            "         0.2052, 0.9732, 0.8619, 0.6665, 0.1634, 0.6218, 0.8696, 0.2425, 0.8254,\n",
            "         0.8368],\n",
            "        [0.4507, 0.7985, 0.7014, 0.7615, 0.0014, 0.8294, 0.4005, 0.8838, 0.6762,\n",
            "         0.6051, 0.1307, 0.3527, 0.2706, 0.4601, 0.8664, 0.8717, 0.3602, 0.4076,\n",
            "         0.0234, 0.4632, 0.1706, 0.5819, 0.5733, 0.8199, 0.8014, 0.5110, 0.6078,\n",
            "         0.2696, 0.4568, 0.6350, 0.8909, 0.3244, 0.3869, 0.2765, 0.0043, 0.6801,\n",
            "         0.8425, 0.6373, 0.6184, 0.3701, 0.6167, 0.7473, 0.3068, 0.2086, 0.8195,\n",
            "         0.9644, 0.6138, 0.3020, 0.8974, 0.9347, 0.6681, 0.0238, 0.4777, 0.8195,\n",
            "         0.3655, 0.1859, 0.7512, 0.6164, 0.5007, 0.2672, 0.5829, 0.7359, 0.7154,\n",
            "         0.7123, 0.0024, 0.3994, 0.0140, 0.1069, 0.5003, 0.6333, 0.2192, 0.9353,\n",
            "         0.5532, 0.3952, 0.2048, 0.5354, 0.8112, 0.8171, 0.5969, 0.2068, 0.8722,\n",
            "         0.6313, 0.5518, 0.3673, 0.1282, 0.1380, 0.3902, 0.9714, 0.5424, 0.8722,\n",
            "         0.3851, 0.9770, 0.5219, 0.2356, 0.3182, 0.3309, 0.0878, 0.1360, 0.5547,\n",
            "         0.6739],\n",
            "        [0.7227, 0.9387, 0.3619, 0.5483, 0.9321, 0.3240, 0.6101, 0.0173, 0.2455,\n",
            "         0.9916, 0.3557, 0.5022, 0.3379, 0.3033, 0.3398, 0.8243, 0.1381, 0.5636,\n",
            "         0.0320, 0.1344, 0.9784, 0.5223, 0.6574, 0.9166, 0.2881, 0.3111, 0.8535,\n",
            "         0.7863, 0.8205, 0.1947, 0.7080, 0.3800, 0.5797, 0.1470, 0.1265, 0.8174,\n",
            "         0.6694, 0.2365, 0.1010, 0.7557, 0.8490, 0.8653, 0.9077, 0.5614, 0.1752,\n",
            "         0.2725, 0.7502, 0.8706, 0.2253, 0.1956, 0.3376, 0.1278, 0.8535, 0.2426,\n",
            "         0.1784, 0.2808, 0.8419, 0.2397, 0.0453, 0.4813, 0.4060, 0.5498, 0.7190,\n",
            "         0.6124, 0.0199, 0.8098, 0.6438, 0.2569, 0.5550, 0.7448, 0.7927, 0.7230,\n",
            "         0.1010, 0.0576, 0.0998, 0.4312, 0.6383, 0.0107, 0.8161, 0.4914, 0.6579,\n",
            "         0.3382, 0.3056, 0.6636, 0.2999, 0.9632, 0.7824, 0.0169, 0.6602, 0.0622,\n",
            "         0.0579, 0.3674, 0.3757, 0.6918, 0.2375, 0.3332, 0.5610, 0.4234, 0.0079,\n",
            "         0.8381],\n",
            "        [0.9567, 0.8335, 0.1970, 0.3403, 0.6970, 0.3675, 0.3616, 0.3716, 0.1070,\n",
            "         0.0132, 0.1120, 0.0862, 0.0955, 0.4868, 0.5193, 0.4792, 0.5509, 0.9175,\n",
            "         0.0579, 0.2246, 0.3093, 0.5780, 0.0589, 0.1186, 0.4446, 0.1079, 0.5077,\n",
            "         0.2945, 0.2050, 0.9583, 0.6345, 0.4804, 0.5671, 0.9156, 0.0048, 0.8868,\n",
            "         0.2219, 0.5268, 0.2174, 0.6710, 0.2744, 0.5501, 0.0430, 0.3590, 0.1187,\n",
            "         0.4283, 0.9468, 0.5088, 0.6931, 0.8639, 0.4422, 0.6663, 0.8157, 0.5345,\n",
            "         0.5657, 0.0466, 0.6436, 0.6418, 0.4543, 0.3211, 0.3407, 0.6969, 0.7022,\n",
            "         0.8380, 0.5777, 0.1556, 0.7162, 0.7399, 0.8919, 0.7101, 0.9775, 0.3852,\n",
            "         0.2621, 0.3570, 0.5767, 0.6473, 0.1500, 0.3838, 0.4737, 0.3429, 0.7060,\n",
            "         0.2423, 0.8086, 0.1027, 0.4338, 0.9941, 0.7250, 0.3485, 0.5642, 0.9551,\n",
            "         0.5572, 0.1067, 0.0412, 0.3150, 0.6037, 0.6479, 0.4969, 0.4310, 0.3249,\n",
            "         0.5799],\n",
            "        [0.7180, 0.2811, 0.5656, 0.6199, 0.2311, 0.6470, 0.1820, 0.3934, 0.9034,\n",
            "         0.9907, 0.1514, 0.4118, 0.9316, 0.9756, 0.7988, 0.4085, 0.7713, 0.0642,\n",
            "         0.6460, 0.2165, 0.6423, 0.3117, 0.7311, 0.9294, 0.6668, 0.6927, 0.9145,\n",
            "         0.1371, 0.3632, 0.1435, 0.2229, 0.4848, 0.5876, 0.1243, 0.1448, 0.8868,\n",
            "         0.4777, 0.2075, 0.0097, 0.4816, 0.5242, 0.6270, 0.5167, 0.4279, 0.3993,\n",
            "         0.7034, 0.2951, 0.4833, 0.0976, 0.1890, 0.4089, 0.6447, 0.5815, 0.0320,\n",
            "         0.1537, 0.8812, 0.1092, 0.6201, 0.4739, 0.2132, 0.6164, 0.0932, 0.2995,\n",
            "         0.3626, 0.0956, 0.8056, 0.8817, 0.4580, 0.3182, 0.5862, 0.5698, 0.1790,\n",
            "         0.1433, 0.0957, 0.9593, 0.0807, 0.6016, 0.7263, 0.3418, 0.8507, 0.8849,\n",
            "         0.7250, 0.5986, 0.7700, 0.0273, 0.0465, 0.6697, 0.7908, 0.5636, 0.5543,\n",
            "         0.3172, 0.7285, 0.8490, 0.9876, 0.4805, 0.3688, 0.1622, 0.3400, 0.7364,\n",
            "         0.1124]])\n",
            "Shape of Squeeze Tensor => torch.Size([10, 100])\n"
          ]
        }
      ],
      "source": [
        "___ = torch.rand(1, 10, 100)\n",
        "__ = torch.squeeze(___, 0)\n",
        "print(f\"Sample Tensor => {___}\")\n",
        "print(f\"Shape of sample Tensor => {___.shape}\")\n",
        "print(f\"Squeeze Tensor => {__}\")\n",
        "print(f\"Shape of Squeeze Tensor => {__.shape}\")"
      ]
    },
    {
      "cell_type": "code",
      "execution_count": 51,
      "metadata": {
        "colab": {
          "base_uri": "https://localhost:8080/"
        },
        "id": "JhhYnvHcDWTl",
        "outputId": "fb984864-08a6-488e-a714-affec29acb8d"
      },
      "outputs": [
        {
          "name": "stdout",
          "output_type": "stream",
          "text": [
            "tensor([[[0.9343, 0.6371, 0.0811, 0.7885, 0.6910, 0.9634, 0.7151, 0.9928,\n",
            "          0.4662, 0.7676, 0.4376, 0.9127, 0.7861, 0.4327, 0.0641, 0.5521,\n",
            "          0.4653, 0.9329, 0.1838, 0.0248, 0.8890, 0.1350, 0.7716, 0.3680,\n",
            "          0.7052, 0.9866, 0.6488, 0.4282, 0.8569, 0.6170, 0.1738, 0.5201,\n",
            "          0.5334, 0.3196, 0.4180, 0.3375, 0.3301, 0.7794, 0.4936, 0.2507,\n",
            "          0.7233, 0.2455, 0.2289, 0.7713, 0.9852, 0.4270, 0.7038, 0.5089,\n",
            "          0.9116, 0.9271, 0.6213, 0.9348, 0.9466, 0.6753, 0.1192, 0.1265,\n",
            "          0.0871, 0.6194, 0.0191, 0.3968, 0.5113, 0.2007, 0.7956, 0.5590,\n",
            "          0.7074, 0.3401, 0.0848, 0.0914, 0.0470, 0.9596, 0.2990, 0.7151,\n",
            "          0.3730, 0.2720, 0.2614, 0.3918, 0.2381, 0.7626, 0.2794, 0.6848,\n",
            "          0.9052, 0.0360, 0.5421, 0.5021, 0.7641, 0.6317, 0.3103, 0.0613,\n",
            "          0.7726, 0.2828, 0.1745, 0.9686, 0.1137, 0.4297, 0.3799, 0.3143,\n",
            "          0.1034, 0.4430, 0.5516, 0.8247],\n",
            "         [0.4582, 0.8713, 0.7507, 0.4470, 0.3155, 0.9089, 0.3308, 0.6946,\n",
            "          0.0953, 0.7677, 0.7284, 0.5488, 0.0928, 0.4450, 0.9911, 0.2551,\n",
            "          0.2528, 0.9573, 0.3311, 0.7037, 0.1223, 0.0905, 0.6227, 0.8724,\n",
            "          0.9711, 0.3607, 0.3146, 0.2236, 0.8582, 0.9851, 0.1884, 0.3139,\n",
            "          0.1828, 0.3062, 0.4969, 0.0624, 0.3937, 0.4694, 0.9926, 0.6300,\n",
            "          0.0367, 0.5242, 0.1775, 0.4693, 0.9312, 0.4494, 0.3537, 0.6296,\n",
            "          0.8886, 0.9334, 0.2548, 0.8733, 0.4561, 0.2719, 0.6807, 0.8484,\n",
            "          0.9460, 0.3376, 0.2649, 0.2940, 0.5872, 0.7717, 0.8233, 0.8259,\n",
            "          0.3967, 0.2630, 0.7281, 0.0383, 0.4410, 0.9216, 0.8056, 0.3478,\n",
            "          0.9616, 0.1841, 0.4040, 0.8825, 0.5576, 0.7343, 0.7726, 0.0426,\n",
            "          0.6353, 0.2407, 0.8224, 0.5720, 0.9702, 0.6291, 0.5760, 0.2858,\n",
            "          0.9136, 0.8728, 0.3445, 0.1099, 0.1171, 0.3906, 0.3415, 0.0178,\n",
            "          0.9619, 0.2074, 0.7530, 0.7528],\n",
            "         [0.2126, 0.9670, 0.3843, 0.8958, 0.8935, 0.8705, 0.5027, 0.0401,\n",
            "          0.0692, 0.3215, 0.3653, 0.6977, 0.1517, 0.6737, 0.1104, 0.2292,\n",
            "          0.9267, 0.4943, 0.4295, 0.0401, 0.2640, 0.6462, 0.3339, 0.9813,\n",
            "          0.8508, 0.3153, 0.8701, 0.9717, 0.1988, 0.1021, 0.0944, 0.6653,\n",
            "          0.8822, 0.2412, 0.4523, 0.0329, 0.9095, 0.3117, 0.7427, 0.5369,\n",
            "          0.7804, 0.9400, 0.7936, 0.7238, 0.5912, 0.7180, 0.9621, 0.5379,\n",
            "          0.9091, 0.6727, 0.3840, 0.5656, 0.6601, 0.5512, 0.0484, 0.6651,\n",
            "          0.0331, 0.1127, 0.9399, 0.1591, 0.4843, 0.0525, 0.3925, 0.4331,\n",
            "          0.0800, 0.9795, 0.9173, 0.8853, 0.0521, 0.3420, 0.4951, 0.7047,\n",
            "          0.6175, 0.1973, 0.3727, 0.4295, 0.6787, 0.4844, 0.6696, 0.4064,\n",
            "          0.1114, 0.4804, 0.7834, 0.2845, 0.8252, 0.9070, 0.8040, 0.7178,\n",
            "          0.0309, 0.7531, 0.2118, 0.4658, 0.2551, 0.1294, 0.7470, 0.7738,\n",
            "          0.7781, 0.3864, 0.4582, 0.9964],\n",
            "         [0.3863, 0.0321, 0.9091, 0.5487, 0.4716, 0.7916, 0.0929, 0.6151,\n",
            "          0.1976, 0.1249, 0.9628, 0.7850, 0.2829, 0.7846, 0.1979, 0.6747,\n",
            "          0.9809, 0.5900, 0.3877, 0.1135, 0.2419, 0.7616, 0.9801, 0.1876,\n",
            "          0.2890, 0.0139, 0.0934, 0.0623, 0.5932, 0.5205, 0.6409, 0.9320,\n",
            "          0.3376, 0.8078, 0.2255, 0.6401, 0.3249, 0.3629, 0.0880, 0.8411,\n",
            "          0.5880, 0.8926, 0.7528, 0.0232, 0.6136, 0.3507, 0.8821, 0.4969,\n",
            "          0.5099, 0.9162, 0.6776, 0.8369, 0.7713, 0.1157, 0.2247, 0.6931,\n",
            "          0.4361, 0.4069, 0.3517, 0.5661, 0.8465, 0.1143, 0.4506, 0.2009,\n",
            "          0.4637, 0.4760, 0.6218, 0.9724, 0.9616, 0.5086, 0.2217, 0.8440,\n",
            "          0.1466, 0.9675, 0.2369, 0.5912, 0.2952, 0.1580, 0.3764, 0.8471,\n",
            "          0.7748, 0.6961, 0.8242, 0.2898, 0.9893, 0.1374, 0.9251, 0.2166,\n",
            "          0.1964, 0.5492, 0.0898, 0.7908, 0.0853, 0.3304, 0.1059, 0.0855,\n",
            "          0.4812, 0.7602, 0.3506, 0.9560],\n",
            "         [0.2126, 0.0923, 0.5335, 0.6042, 0.6642, 0.7033, 0.5272, 0.5247,\n",
            "          0.0238, 0.6428, 0.9935, 0.5538, 0.2900, 0.8213, 0.2290, 0.5200,\n",
            "          0.8904, 0.1381, 0.5696, 0.3703, 0.4236, 0.5198, 0.5880, 0.7949,\n",
            "          0.1183, 0.3239, 0.6744, 0.8405, 0.4624, 0.4677, 0.0388, 0.4283,\n",
            "          0.5865, 0.2285, 0.8930, 0.6987, 0.1411, 0.4667, 0.0101, 0.9439,\n",
            "          0.6097, 0.1656, 0.8593, 0.9013, 0.4893, 0.8891, 0.7866, 0.4067,\n",
            "          0.1805, 0.9476, 0.3512, 0.2759, 0.5480, 0.5251, 0.2359, 0.4174,\n",
            "          0.0135, 0.7321, 0.5674, 0.9649, 0.1542, 0.7340, 0.8307, 0.8266,\n",
            "          0.3868, 0.9674, 0.2241, 0.8520, 0.3013, 0.0546, 0.3349, 0.1928,\n",
            "          0.0295, 0.2747, 0.1545, 0.2950, 0.9437, 0.3266, 0.1825, 0.8328,\n",
            "          0.8803, 0.8702, 0.7053, 0.8559, 0.1149, 0.8706, 0.9826, 0.5910,\n",
            "          0.8955, 0.3561, 0.2563, 0.9079, 0.4054, 0.6716, 0.2633, 0.1401,\n",
            "          0.6324, 0.2868, 0.5118, 0.6193],\n",
            "         [0.1679, 0.5310, 0.2436, 0.3499, 0.6638, 0.6467, 0.0062, 0.1559,\n",
            "          0.1026, 0.2037, 0.2440, 0.5591, 0.8031, 0.5886, 0.1076, 0.9075,\n",
            "          0.3782, 0.8065, 0.0690, 0.6518, 0.6105, 0.4096, 0.7237, 0.5641,\n",
            "          0.5727, 0.3264, 0.4547, 0.9826, 0.9087, 0.8416, 0.2449, 0.1198,\n",
            "          0.8304, 0.9412, 0.9913, 0.2279, 0.7422, 0.5554, 0.1887, 0.7174,\n",
            "          0.4351, 0.0467, 0.4078, 0.7645, 0.6583, 0.9272, 0.4880, 0.6686,\n",
            "          0.1709, 0.0514, 0.2157, 0.7372, 0.9269, 0.2304, 0.6187, 0.1366,\n",
            "          0.2338, 0.7437, 0.3088, 0.1527, 0.3113, 0.3609, 0.4875, 0.6567,\n",
            "          0.8165, 0.7609, 0.2848, 0.9210, 0.5577, 0.8386, 0.0503, 0.7693,\n",
            "          0.1077, 0.9485, 0.0069, 0.0736, 0.9741, 0.1098, 0.3705, 0.4885,\n",
            "          0.3551, 0.4915, 0.6079, 0.1672, 0.0421, 0.1812, 0.9576, 0.6071,\n",
            "          0.5210, 0.9924, 0.2052, 0.9732, 0.8619, 0.6665, 0.1634, 0.6218,\n",
            "          0.8696, 0.2425, 0.8254, 0.8368],\n",
            "         [0.4507, 0.7985, 0.7014, 0.7615, 0.0014, 0.8294, 0.4005, 0.8838,\n",
            "          0.6762, 0.6051, 0.1307, 0.3527, 0.2706, 0.4601, 0.8664, 0.8717,\n",
            "          0.3602, 0.4076, 0.0234, 0.4632, 0.1706, 0.5819, 0.5733, 0.8199,\n",
            "          0.8014, 0.5110, 0.6078, 0.2696, 0.4568, 0.6350, 0.8909, 0.3244,\n",
            "          0.3869, 0.2765, 0.0043, 0.6801, 0.8425, 0.6373, 0.6184, 0.3701,\n",
            "          0.6167, 0.7473, 0.3068, 0.2086, 0.8195, 0.9644, 0.6138, 0.3020,\n",
            "          0.8974, 0.9347, 0.6681, 0.0238, 0.4777, 0.8195, 0.3655, 0.1859,\n",
            "          0.7512, 0.6164, 0.5007, 0.2672, 0.5829, 0.7359, 0.7154, 0.7123,\n",
            "          0.0024, 0.3994, 0.0140, 0.1069, 0.5003, 0.6333, 0.2192, 0.9353,\n",
            "          0.5532, 0.3952, 0.2048, 0.5354, 0.8112, 0.8171, 0.5969, 0.2068,\n",
            "          0.8722, 0.6313, 0.5518, 0.3673, 0.1282, 0.1380, 0.3902, 0.9714,\n",
            "          0.5424, 0.8722, 0.3851, 0.9770, 0.5219, 0.2356, 0.3182, 0.3309,\n",
            "          0.0878, 0.1360, 0.5547, 0.6739],\n",
            "         [0.7227, 0.9387, 0.3619, 0.5483, 0.9321, 0.3240, 0.6101, 0.0173,\n",
            "          0.2455, 0.9916, 0.3557, 0.5022, 0.3379, 0.3033, 0.3398, 0.8243,\n",
            "          0.1381, 0.5636, 0.0320, 0.1344, 0.9784, 0.5223, 0.6574, 0.9166,\n",
            "          0.2881, 0.3111, 0.8535, 0.7863, 0.8205, 0.1947, 0.7080, 0.3800,\n",
            "          0.5797, 0.1470, 0.1265, 0.8174, 0.6694, 0.2365, 0.1010, 0.7557,\n",
            "          0.8490, 0.8653, 0.9077, 0.5614, 0.1752, 0.2725, 0.7502, 0.8706,\n",
            "          0.2253, 0.1956, 0.3376, 0.1278, 0.8535, 0.2426, 0.1784, 0.2808,\n",
            "          0.8419, 0.2397, 0.0453, 0.4813, 0.4060, 0.5498, 0.7190, 0.6124,\n",
            "          0.0199, 0.8098, 0.6438, 0.2569, 0.5550, 0.7448, 0.7927, 0.7230,\n",
            "          0.1010, 0.0576, 0.0998, 0.4312, 0.6383, 0.0107, 0.8161, 0.4914,\n",
            "          0.6579, 0.3382, 0.3056, 0.6636, 0.2999, 0.9632, 0.7824, 0.0169,\n",
            "          0.6602, 0.0622, 0.0579, 0.3674, 0.3757, 0.6918, 0.2375, 0.3332,\n",
            "          0.5610, 0.4234, 0.0079, 0.8381],\n",
            "         [0.9567, 0.8335, 0.1970, 0.3403, 0.6970, 0.3675, 0.3616, 0.3716,\n",
            "          0.1070, 0.0132, 0.1120, 0.0862, 0.0955, 0.4868, 0.5193, 0.4792,\n",
            "          0.5509, 0.9175, 0.0579, 0.2246, 0.3093, 0.5780, 0.0589, 0.1186,\n",
            "          0.4446, 0.1079, 0.5077, 0.2945, 0.2050, 0.9583, 0.6345, 0.4804,\n",
            "          0.5671, 0.9156, 0.0048, 0.8868, 0.2219, 0.5268, 0.2174, 0.6710,\n",
            "          0.2744, 0.5501, 0.0430, 0.3590, 0.1187, 0.4283, 0.9468, 0.5088,\n",
            "          0.6931, 0.8639, 0.4422, 0.6663, 0.8157, 0.5345, 0.5657, 0.0466,\n",
            "          0.6436, 0.6418, 0.4543, 0.3211, 0.3407, 0.6969, 0.7022, 0.8380,\n",
            "          0.5777, 0.1556, 0.7162, 0.7399, 0.8919, 0.7101, 0.9775, 0.3852,\n",
            "          0.2621, 0.3570, 0.5767, 0.6473, 0.1500, 0.3838, 0.4737, 0.3429,\n",
            "          0.7060, 0.2423, 0.8086, 0.1027, 0.4338, 0.9941, 0.7250, 0.3485,\n",
            "          0.5642, 0.9551, 0.5572, 0.1067, 0.0412, 0.3150, 0.6037, 0.6479,\n",
            "          0.4969, 0.4310, 0.3249, 0.5799],\n",
            "         [0.7180, 0.2811, 0.5656, 0.6199, 0.2311, 0.6470, 0.1820, 0.3934,\n",
            "          0.9034, 0.9907, 0.1514, 0.4118, 0.9316, 0.9756, 0.7988, 0.4085,\n",
            "          0.7713, 0.0642, 0.6460, 0.2165, 0.6423, 0.3117, 0.7311, 0.9294,\n",
            "          0.6668, 0.6927, 0.9145, 0.1371, 0.3632, 0.1435, 0.2229, 0.4848,\n",
            "          0.5876, 0.1243, 0.1448, 0.8868, 0.4777, 0.2075, 0.0097, 0.4816,\n",
            "          0.5242, 0.6270, 0.5167, 0.4279, 0.3993, 0.7034, 0.2951, 0.4833,\n",
            "          0.0976, 0.1890, 0.4089, 0.6447, 0.5815, 0.0320, 0.1537, 0.8812,\n",
            "          0.1092, 0.6201, 0.4739, 0.2132, 0.6164, 0.0932, 0.2995, 0.3626,\n",
            "          0.0956, 0.8056, 0.8817, 0.4580, 0.3182, 0.5862, 0.5698, 0.1790,\n",
            "          0.1433, 0.0957, 0.9593, 0.0807, 0.6016, 0.7263, 0.3418, 0.8507,\n",
            "          0.8849, 0.7250, 0.5986, 0.7700, 0.0273, 0.0465, 0.6697, 0.7908,\n",
            "          0.5636, 0.5543, 0.3172, 0.7285, 0.8490, 0.9876, 0.4805, 0.3688,\n",
            "          0.1622, 0.3400, 0.7364, 0.1124]]])\n",
            "torch.Size([1, 10, 100])\n"
          ]
        }
      ],
      "source": [
        "_ = __.unsqueeze(dim=0)\n",
        "print(_)\n",
        "print(_.shape)"
      ]
    },
    {
      "cell_type": "code",
      "execution_count": 52,
      "metadata": {
        "colab": {
          "base_uri": "https://localhost:8080/"
        },
        "id": "8J5jfoUqDxHU",
        "outputId": "54e5762e-20b3-4a92-9e66-3f4166868688"
      },
      "outputs": [
        {
          "data": {
            "text/plain": [
              "(torch.Size([1, 10, 100]), torch.Size([100, 1, 10]))"
            ]
          },
          "execution_count": 52,
          "metadata": {},
          "output_type": "execute_result"
        }
      ],
      "source": [
        "___permuted = ___.permute(2, 0, 1) # Shifts axis = 0 -> 1, 1 -> 2, 2 -> 0\n",
        "## Here 2, 0, 1 are the order of dim of prev tensor\n",
        "___.shape, ___permuted.shape"
      ]
    },
    {
      "cell_type": "markdown",
      "metadata": {
        "id": "9ei4VNWOFZi1"
      },
      "source": [
        "## Indexing (Selecting data from tensors)"
      ]
    },
    {
      "cell_type": "code",
      "execution_count": 53,
      "metadata": {
        "colab": {
          "base_uri": "https://localhost:8080/"
        },
        "id": "yppJk1LTGMOe",
        "outputId": "fdb2c58b-9b8a-477c-96f7-4ee07343b28b"
      },
      "outputs": [
        {
          "data": {
            "text/plain": [
              "(tensor([[[ 1,  2,  3],\n",
              "          [ 4,  5,  6],\n",
              "          [ 7,  8,  9]],\n",
              " \n",
              "         [[10, 11, 12],\n",
              "          [13, 14, 15],\n",
              "          [16, 17, 18]]]),\n",
              " torch.Size([2, 3, 3]))"
            ]
          },
          "execution_count": 53,
          "metadata": {},
          "output_type": "execute_result"
        }
      ],
      "source": [
        "x = torch.arange(1, 19).reshape(2, 3, 3)\n",
        "x, x.shape"
      ]
    },
    {
      "cell_type": "code",
      "execution_count": 54,
      "metadata": {
        "colab": {
          "base_uri": "https://localhost:8080/"
        },
        "id": "Ekrj1U2UGbs2",
        "outputId": "6ca4373b-9aa3-44f5-8070-edf4904d8873"
      },
      "outputs": [
        {
          "name": "stdout",
          "output_type": "stream",
          "text": [
            "tensor([[1, 2, 3],\n",
            "        [4, 5, 6],\n",
            "        [7, 8, 9]])\n",
            "tensor([[ 1,  2,  3],\n",
            "        [10, 11, 12]])\n",
            "tensor([ 2, 11])\n",
            "tensor([[ 1,  4,  7],\n",
            "        [10, 13, 16]])\n",
            "tensor(9)\n",
            "CPU times: user 542 µs, sys: 238 µs, total: 780 µs\n",
            "Wall time: 621 µs\n"
          ]
        }
      ],
      "source": [
        "%%time\n",
        "print(x[0])\n",
        "print(x[:, 0])\n",
        "print(x[:, 0, 1])\n",
        "print(x[:, :, 0])\n",
        "print(x[0, 2, 2])"
      ]
    },
    {
      "cell_type": "markdown",
      "metadata": {
        "id": "-me0LtGsHK4K"
      },
      "source": [
        "## Pytorch tensors & Numpy\n",
        "* Data in NumPy, want in Pytorch tensor -> `torch.from_numpy(ndarray)`\n",
        "* Pytorch Tensor -> NumPy -> `torch.Tensor.numpy()`"
      ]
    },
    {
      "cell_type": "code",
      "execution_count": 55,
      "metadata": {
        "colab": {
          "base_uri": "https://localhost:8080/"
        },
        "id": "40n7HButJbZU",
        "outputId": "d95ac5fa-041e-4e4e-ffa8-9789f5ee4a15"
      },
      "outputs": [
        {
          "data": {
            "text/plain": [
              "(array([1., 2., 3., 4., 5., 6., 7.]),\n",
              " tensor([1., 2., 3., 4., 5., 6., 7.], dtype=torch.float64),\n",
              " tensor([1., 2., 3., 4., 5., 6., 7.]))"
            ]
          },
          "execution_count": 55,
          "metadata": {},
          "output_type": "execute_result"
        }
      ],
      "source": [
        "array = np.arange(1.0, 8.0) # Default Dtype is float64\n",
        "tensor = torch.from_numpy(array)\n",
        "array, tensor, tensor.type(torch.float32)"
      ]
    },
    {
      "cell_type": "code",
      "execution_count": 56,
      "metadata": {
        "colab": {
          "base_uri": "https://localhost:8080/"
        },
        "id": "73kFyZ-ybVCr",
        "outputId": "8d803e43-97a1-4a95-e6f1-150afa749689"
      },
      "outputs": [
        {
          "data": {
            "text/plain": [
              "(array([2., 3., 4., 5., 6., 7., 8.]),\n",
              " tensor([1., 2., 3., 4., 5., 6., 7.], dtype=torch.float64))"
            ]
          },
          "execution_count": 56,
          "metadata": {},
          "output_type": "execute_result"
        }
      ],
      "source": [
        "array = array + 1\n",
        "array, tensor"
      ]
    },
    {
      "cell_type": "markdown",
      "metadata": {
        "id": "XwX3Z6XSbVCr"
      },
      "source": [
        "## Tensor to NumPy Array"
      ]
    },
    {
      "cell_type": "code",
      "execution_count": 57,
      "metadata": {
        "colab": {
          "base_uri": "https://localhost:8080/"
        },
        "id": "pCKDGsRFbVCr",
        "outputId": "4fb8fc39-7860-4c0e-8321-b2b716afd49d"
      },
      "outputs": [
        {
          "data": {
            "text/plain": [
              "(tensor([1., 1., 1., 1., 1., 1., 1.]),\n",
              " array([1., 1., 1., 1., 1., 1., 1.], dtype=float32))"
            ]
          },
          "execution_count": 57,
          "metadata": {},
          "output_type": "execute_result"
        }
      ],
      "source": [
        "tensor = torch.ones(7)\n",
        "numpy_tensor = tensor.numpy()\n",
        "tensor, numpy_tensor"
      ]
    },
    {
      "cell_type": "markdown",
      "metadata": {
        "id": "VY086c1nbVCr"
      },
      "source": [
        "## Reproducibility (Trying to take random out of random)\n",
        "\n",
        "In short how a neural network learns:\n",
        "`start with random numbers -> tensor operations -> update random numbers to try and make them of the data -> again -> again...`\n",
        "\n",
        "To reduce the randomness in neural networks and PyTorch comes the concept of a **random seed**."
      ]
    },
    {
      "cell_type": "code",
      "execution_count": 58,
      "metadata": {
        "colab": {
          "base_uri": "https://localhost:8080/"
        },
        "id": "IlwNv5R0bVCr",
        "outputId": "53970004-9677-4004-81df-b73bb4c32cfa"
      },
      "outputs": [
        {
          "name": "stdout",
          "output_type": "stream",
          "text": [
            "tensor([[0.5105, 0.6248, 0.2527, 0.3497],\n",
            "        [0.2142, 0.3317, 0.2077, 0.4521],\n",
            "        [0.4315, 0.7752, 0.3646, 0.9844]])\n",
            "tensor([[0.4061, 0.2215, 0.0455, 0.4992],\n",
            "        [0.8008, 0.0229, 0.4003, 0.8002],\n",
            "        [0.1013, 0.7716, 0.3258, 0.2777]])\n",
            "tensor([[False, False, False, False],\n",
            "        [False, False, False, False],\n",
            "        [False, False, False, False]])\n"
          ]
        }
      ],
      "source": [
        "random_tensor_A = torch.rand(3, 4)\n",
        "random_tensor_B = torch.rand(3, 4)\n",
        "\n",
        "print(random_tensor_A)\n",
        "print(random_tensor_B)\n",
        "print(random_tensor_A == random_tensor_B)"
      ]
    },
    {
      "cell_type": "code",
      "execution_count": 59,
      "metadata": {
        "colab": {
          "base_uri": "https://localhost:8080/"
        },
        "id": "gLeD1kpLbVCr",
        "outputId": "111800bd-e0f6-4938-c003-f89c9bd8e48b"
      },
      "outputs": [
        {
          "name": "stdout",
          "output_type": "stream",
          "text": [
            "tensor([[0.8823, 0.9150, 0.3829, 0.9593],\n",
            "        [0.3904, 0.6009, 0.2566, 0.7936],\n",
            "        [0.9408, 0.1332, 0.9346, 0.5936]])\n",
            "tensor([[0.8823, 0.9150, 0.3829, 0.9593],\n",
            "        [0.3904, 0.6009, 0.2566, 0.7936],\n",
            "        [0.9408, 0.1332, 0.9346, 0.5936]])\n",
            "tensor([[True, True, True, True],\n",
            "        [True, True, True, True],\n",
            "        [True, True, True, True]])\n"
          ]
        }
      ],
      "source": [
        "# Let's make some random but reproducible tensor\n",
        "\n",
        "RANDOM_SEED = 42 # Any Random Int\n",
        "\n",
        "torch.manual_seed(RANDOM_SEED) # You need to call Random_seed mannualy for every torch.rand()\n",
        "random_tensor_C = torch.rand(3, 4)\n",
        "\n",
        "torch.manual_seed(RANDOM_SEED)\n",
        "random_tensor_D = torch.rand(3, 4)\n",
        "\n",
        "print(random_tensor_C)\n",
        "print(random_tensor_D)\n",
        "print(random_tensor_C == random_tensor_D)"
      ]
    },
    {
      "cell_type": "markdown",
      "metadata": {
        "id": "WyXVMth2bVCs"
      },
      "source": [
        "## Running tensors and Pytorch objets on the GPU (and making faster computations)\n",
        "\n",
        "*The below cells were run on Google Colab (GPU Configuration) because my macbook doesn't have any GPU*\n",
        "\n",
        "*The Best practice is to use [Device Agnostic](https://pytorch.org/docs/stable/notes/cuda.html)"
      ]
    },
    {
      "cell_type": "code",
      "execution_count": 60,
      "metadata": {
        "colab": {
          "base_uri": "https://localhost:8080/"
        },
        "id": "oyBBqj1JbVCs",
        "outputId": "5f0ac0c7-0fdb-4e60-c0ed-ade5946180a4"
      },
      "outputs": [
        {
          "data": {
            "text/plain": [
              "True"
            ]
          },
          "execution_count": 60,
          "metadata": {},
          "output_type": "execute_result"
        }
      ],
      "source": [
        "# Check GPU access with PyTorch\n",
        "torch.cuda.is_available()"
      ]
    },
    {
      "cell_type": "code",
      "execution_count": 61,
      "metadata": {
        "colab": {
          "base_uri": "https://localhost:8080/",
          "height": 35
        },
        "id": "nOOj7xZgcBi9",
        "outputId": "87991e56-00bc-4cbf-e117-40a4445ab713"
      },
      "outputs": [
        {
          "data": {
            "text/plain": [
              "'cuda'"
            ]
          },
          "execution_count": 61,
          "metadata": {},
          "output_type": "execute_result"
        }
      ],
      "source": [
        "device = \"cuda\" if torch.cuda.is_available() else \"cpu\"\n",
        "device"
      ]
    },
    {
      "cell_type": "code",
      "execution_count": 62,
      "metadata": {
        "colab": {
          "base_uri": "https://localhost:8080/"
        },
        "id": "LsTwTh4bcJjt",
        "outputId": "254e2680-2b32-490a-cfd5-223af0a32f75"
      },
      "outputs": [
        {
          "data": {
            "text/plain": [
              "1"
            ]
          },
          "execution_count": 62,
          "metadata": {},
          "output_type": "execute_result"
        }
      ],
      "source": [
        "torch.cuda.device_count()"
      ]
    },
    {
      "cell_type": "code",
      "execution_count": 63,
      "metadata": {
        "colab": {
          "base_uri": "https://localhost:8080/"
        },
        "id": "ctfXmuQJc2Rq",
        "outputId": "ae74ebf9-4e04-4e33-ed31-94fa4ffd76a6"
      },
      "outputs": [
        {
          "name": "stderr",
          "output_type": "stream",
          "text": [
            "UsageError: Line magic function `%%time` not found.\n"
          ]
        }
      ],
      "source": [
        "# create a tensor\n",
        "%%time\n",
        "tensor = torch.tensor([1, 2, 3], device=device)\n",
        "tensor"
      ]
    },
    {
      "cell_type": "code",
      "execution_count": 64,
      "metadata": {
        "colab": {
          "base_uri": "https://localhost:8080/"
        },
        "id": "OzdyX4u5dHV3",
        "outputId": "870fb197-2064-4efc-e402-ba17d54c0767"
      },
      "outputs": [
        {
          "name": "stdout",
          "output_type": "stream",
          "text": [
            "CPU times: user 114 µs, sys: 73 µs, total: 187 µs\n",
            "Wall time: 168 µs\n"
          ]
        },
        {
          "data": {
            "text/plain": [
              "tensor([1, 2, 3])"
            ]
          },
          "execution_count": 64,
          "metadata": {},
          "output_type": "execute_result"
        }
      ],
      "source": [
        "%%time\n",
        "torch.tensor([1, 2, 3], device=\"cpu\")"
      ]
    },
    {
      "cell_type": "markdown",
      "metadata": {
        "id": "Uiu6rIUYddjC"
      },
      "source": [
        "### Moving tensors back to CPU"
      ]
    },
    {
      "cell_type": "code",
      "execution_count": 65,
      "metadata": {
        "colab": {
          "base_uri": "https://localhost:8080/"
        },
        "id": "QCiM4711diLy",
        "outputId": "78ae8365-9986-4fe2-ef00-a578e90730e3"
      },
      "outputs": [
        {
          "name": "stdout",
          "output_type": "stream",
          "text": [
            "cpu\n"
          ]
        }
      ],
      "source": [
        "# If tensor is on GPU, can't transform to Numpy\n",
        "\n",
        "test = tensor.cpu().numpy()\n",
        "\n",
        "test_tensor = torch.from_numpy(test)\n",
        "print(test_tensor.device)"
      ]
    }
  ],
  "metadata": {
    "accelerator": "GPU",
    "colab": {
      "cell_execution_strategy": "setup",
      "gpuType": "T4",
      "provenance": []
    },
    "kernelspec": {
      "display_name": "Python 3",
      "name": "python3"
    },
    "language_info": {
      "codemirror_mode": {
        "name": "ipython",
        "version": 3
      },
      "file_extension": ".py",
      "mimetype": "text/x-python",
      "name": "python",
      "nbconvert_exporter": "python",
      "pygments_lexer": "ipython3",
      "version": "3.9.16"
    }
  },
  "nbformat": 4,
  "nbformat_minor": 0
}
