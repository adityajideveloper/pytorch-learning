{
  "nbformat": 4,
  "nbformat_minor": 0,
  "metadata": {
    "colab": {
      "provenance": [],
      "gpuType": "T4",
      "cell_execution_strategy": "setup"
    },
    "kernelspec": {
      "name": "python3",
      "display_name": "Python 3"
    },
    "language_info": {
      "name": "python"
    }
  },
  "cells": [
    {
      "cell_type": "code",
      "execution_count": 1,
      "metadata": {
        "colab": {
          "base_uri": "https://localhost:8080/"
        },
        "id": "fOku1e58CoyZ",
        "outputId": "a044fce3-6ec9-493f-da0e-bf6adf5642d4"
      },
      "outputs": [
        {
          "output_type": "stream",
          "name": "stdout",
          "text": [
            "2.0.1+cu118\n"
          ]
        }
      ],
      "source": [
        "import torch\n",
        "import pandas as pd\n",
        "import numpy as np\n",
        "import matplotlib.pyplot as plt\n",
        "print(torch.__version__)"
      ]
    },
    {
      "cell_type": "code",
      "source": [
        "!nvidia-smi"
      ],
      "metadata": {
        "colab": {
          "base_uri": "https://localhost:8080/"
        },
        "id": "7c1_jdgBDnlU",
        "outputId": "5bfc0d89-e904-477d-e159-15cafe5692f3"
      },
      "execution_count": 3,
      "outputs": [
        {
          "output_type": "stream",
          "name": "stdout",
          "text": [
            "/bin/bash: nvidia-smi: command not found\n"
          ]
        }
      ]
    },
    {
      "cell_type": "markdown",
      "source": [
        "# Introduction to Tensors\n",
        "\n",
        "# Creating Tensors"
      ],
      "metadata": {
        "id": "g9tqf-SuEIV8"
      }
    },
    {
      "cell_type": "code",
      "source": [
        "# Scalar\n",
        "# https://pytorch.org/docs/stable/tensors.html\n",
        "scalar = torch.tensor(7)\n",
        "scalar"
      ],
      "metadata": {
        "colab": {
          "base_uri": "https://localhost:8080/"
        },
        "id": "b64RoOVrEVVj",
        "outputId": "5c8c8f1e-3bb1-467d-e397-5e23bc3277c8"
      },
      "execution_count": 5,
      "outputs": [
        {
          "output_type": "execute_result",
          "data": {
            "text/plain": [
              "tensor(7)"
            ]
          },
          "metadata": {},
          "execution_count": 5
        }
      ]
    },
    {
      "cell_type": "code",
      "source": [
        "scalar.ndim"
      ],
      "metadata": {
        "colab": {
          "base_uri": "https://localhost:8080/"
        },
        "id": "id_Ovq7yEfeb",
        "outputId": "5dd933b9-c4c3-4306-e2f3-784b65dea2dc"
      },
      "execution_count": 6,
      "outputs": [
        {
          "output_type": "execute_result",
          "data": {
            "text/plain": [
              "0"
            ]
          },
          "metadata": {},
          "execution_count": 6
        }
      ]
    },
    {
      "cell_type": "code",
      "source": [
        "scalar.item()"
      ],
      "metadata": {
        "colab": {
          "base_uri": "https://localhost:8080/"
        },
        "id": "w4l88oxQFIKU",
        "outputId": "4eff99ef-6b78-48c4-fc00-e23176e5fe65"
      },
      "execution_count": 7,
      "outputs": [
        {
          "output_type": "execute_result",
          "data": {
            "text/plain": [
              "7"
            ]
          },
          "metadata": {},
          "execution_count": 7
        }
      ]
    },
    {
      "cell_type": "code",
      "source": [
        "# Vector\n",
        "vector = torch.tensor([7, 7])\n",
        "vector"
      ],
      "metadata": {
        "colab": {
          "base_uri": "https://localhost:8080/"
        },
        "id": "XY1dhftVFMO7",
        "outputId": "40cb0147-e049-4c94-ab44-4350c53e25fa"
      },
      "execution_count": 8,
      "outputs": [
        {
          "output_type": "execute_result",
          "data": {
            "text/plain": [
              "tensor([7, 7])"
            ]
          },
          "metadata": {},
          "execution_count": 8
        }
      ]
    },
    {
      "cell_type": "code",
      "source": [
        "vector.ndim"
      ],
      "metadata": {
        "colab": {
          "base_uri": "https://localhost:8080/"
        },
        "id": "zgnG0BxAFhJD",
        "outputId": "5a824eef-a98a-4ceb-e05f-26082f349959"
      },
      "execution_count": 9,
      "outputs": [
        {
          "output_type": "execute_result",
          "data": {
            "text/plain": [
              "1"
            ]
          },
          "metadata": {},
          "execution_count": 9
        }
      ]
    },
    {
      "cell_type": "code",
      "source": [
        "vector.shape"
      ],
      "metadata": {
        "colab": {
          "base_uri": "https://localhost:8080/"
        },
        "id": "xxExOwR-FkWy",
        "outputId": "4f5be72a-ca8f-4517-cf19-bd5449b47513"
      },
      "execution_count": 10,
      "outputs": [
        {
          "output_type": "execute_result",
          "data": {
            "text/plain": [
              "torch.Size([2])"
            ]
          },
          "metadata": {},
          "execution_count": 10
        }
      ]
    },
    {
      "cell_type": "code",
      "source": [
        "# Matrix\n",
        "MATRIX = torch.tensor([[7, 8],\n",
        "                       [9, 10]])\n",
        "MATRIX"
      ],
      "metadata": {
        "colab": {
          "base_uri": "https://localhost:8080/"
        },
        "id": "DIzHCeEXFooL",
        "outputId": "a897f43d-89ea-4976-92df-3f1283ea158d"
      },
      "execution_count": 11,
      "outputs": [
        {
          "output_type": "execute_result",
          "data": {
            "text/plain": [
              "tensor([[ 7,  8],\n",
              "        [ 9, 10]])"
            ]
          },
          "metadata": {},
          "execution_count": 11
        }
      ]
    },
    {
      "cell_type": "code",
      "source": [
        "MATRIX.ndim"
      ],
      "metadata": {
        "colab": {
          "base_uri": "https://localhost:8080/"
        },
        "id": "jQ6znSSHF2rP",
        "outputId": "0b38bf15-3736-4c1c-efb0-2f23c11e517e"
      },
      "execution_count": 13,
      "outputs": [
        {
          "output_type": "execute_result",
          "data": {
            "text/plain": [
              "2"
            ]
          },
          "metadata": {},
          "execution_count": 13
        }
      ]
    },
    {
      "cell_type": "code",
      "source": [
        "MATRIX[1]"
      ],
      "metadata": {
        "colab": {
          "base_uri": "https://localhost:8080/"
        },
        "id": "tNDdYmWfF7GT",
        "outputId": "e427118c-a9ab-496b-e695-2a30dbd83d5c"
      },
      "execution_count": 16,
      "outputs": [
        {
          "output_type": "execute_result",
          "data": {
            "text/plain": [
              "tensor([ 9, 10])"
            ]
          },
          "metadata": {},
          "execution_count": 16
        }
      ]
    },
    {
      "cell_type": "code",
      "source": [
        "MATRIX.shape"
      ],
      "metadata": {
        "colab": {
          "base_uri": "https://localhost:8080/"
        },
        "id": "L6Z9AXWZGBpO",
        "outputId": "3f6ee2ab-dc73-4ddf-d031-c6860ef5c67f"
      },
      "execution_count": 17,
      "outputs": [
        {
          "output_type": "execute_result",
          "data": {
            "text/plain": [
              "torch.Size([2, 2])"
            ]
          },
          "metadata": {},
          "execution_count": 17
        }
      ]
    },
    {
      "cell_type": "code",
      "source": [
        "# Tensor\n",
        "TENSOR = torch.tensor([[[1, 2, 3],\n",
        "                        [4, 5, 6],\n",
        "                        [7, 8, 9]]])\n",
        "\n",
        "TENSOR_TWO = torch.tensor([[[1, 2, 3],\n",
        "                            [4, 5, 6],\n",
        "                            [7, 8, 9]],\n",
        "                           [[11, 12, 13],\n",
        "                            [21, 22, 23],\n",
        "                            [31, 32, 33]]])\n",
        "TENSOR"
      ],
      "metadata": {
        "colab": {
          "base_uri": "https://localhost:8080/"
        },
        "id": "1RE1ooaJGIRz",
        "outputId": "2dec356d-1b09-4140-c557-31599d8d3998"
      },
      "execution_count": 24,
      "outputs": [
        {
          "output_type": "execute_result",
          "data": {
            "text/plain": [
              "tensor([[[1, 2, 3],\n",
              "         [4, 5, 6],\n",
              "         [7, 8, 9]]])"
            ]
          },
          "metadata": {},
          "execution_count": 24
        }
      ]
    },
    {
      "cell_type": "code",
      "source": [
        "TENSOR.ndim"
      ],
      "metadata": {
        "colab": {
          "base_uri": "https://localhost:8080/"
        },
        "id": "wDpMEpzmGfhf",
        "outputId": "c4e78fd7-f78f-4617-ab89-6abdcd6a27bc"
      },
      "execution_count": 20,
      "outputs": [
        {
          "output_type": "execute_result",
          "data": {
            "text/plain": [
              "3"
            ]
          },
          "metadata": {},
          "execution_count": 20
        }
      ]
    },
    {
      "cell_type": "code",
      "source": [
        "TENSOR.shape"
      ],
      "metadata": {
        "colab": {
          "base_uri": "https://localhost:8080/"
        },
        "id": "WrhTlNSeGisf",
        "outputId": "147283dc-ff72-410f-eb80-d43218c0ca23"
      },
      "execution_count": 21,
      "outputs": [
        {
          "output_type": "execute_result",
          "data": {
            "text/plain": [
              "torch.Size([1, 3, 3])"
            ]
          },
          "metadata": {},
          "execution_count": 21
        }
      ]
    },
    {
      "cell_type": "code",
      "source": [
        "TENSOR[0]"
      ],
      "metadata": {
        "colab": {
          "base_uri": "https://localhost:8080/"
        },
        "id": "x5QRp6igGmdX",
        "outputId": "dd23d653-07da-412b-9f25-26f416153bd9"
      },
      "execution_count": 22,
      "outputs": [
        {
          "output_type": "execute_result",
          "data": {
            "text/plain": [
              "tensor([[1, 2, 3],\n",
              "        [4, 5, 6],\n",
              "        [7, 8, 9]])"
            ]
          },
          "metadata": {},
          "execution_count": 22
        }
      ]
    },
    {
      "cell_type": "code",
      "source": [
        "TENSOR[0][1]"
      ],
      "metadata": {
        "colab": {
          "base_uri": "https://localhost:8080/"
        },
        "id": "m6jhaNbUG1Nu",
        "outputId": "1d202d4e-abf1-4671-d086-74adea239cfb"
      },
      "execution_count": 23,
      "outputs": [
        {
          "output_type": "execute_result",
          "data": {
            "text/plain": [
              "tensor([4, 5, 6])"
            ]
          },
          "metadata": {},
          "execution_count": 23
        }
      ]
    },
    {
      "cell_type": "code",
      "source": [
        "TENSOR_TWO.shape"
      ],
      "metadata": {
        "colab": {
          "base_uri": "https://localhost:8080/"
        },
        "id": "upzLR13tHNZ7",
        "outputId": "d243f870-363f-4840-d9b8-83391571f7c2"
      },
      "execution_count": 25,
      "outputs": [
        {
          "output_type": "execute_result",
          "data": {
            "text/plain": [
              "torch.Size([2, 3, 3])"
            ]
          },
          "metadata": {},
          "execution_count": 25
        }
      ]
    },
    {
      "cell_type": "markdown",
      "source": [
        "# Random Tensors"
      ],
      "metadata": {
        "id": "3WyktupbHhX3"
      }
    },
    {
      "cell_type": "code",
      "source": [
        "# torch.rand\n",
        "# https://pytorch.org/docs/stable/generated/torch.rand.html\n",
        "\n",
        "random_tensor = torch.rand(3, 4)\n",
        "random_tensor"
      ],
      "metadata": {
        "colab": {
          "base_uri": "https://localhost:8080/"
        },
        "id": "pbfEC4iaKYPJ",
        "outputId": "54ac66c1-0d7b-4733-a8c5-ab39bff8d995"
      },
      "execution_count": 27,
      "outputs": [
        {
          "output_type": "execute_result",
          "data": {
            "text/plain": [
              "tensor([[0.9638, 0.5759, 0.0662, 0.2999],\n",
              "        [0.1128, 0.4797, 0.4864, 0.7427],\n",
              "        [0.3365, 0.5654, 0.1367, 0.5791]])"
            ]
          },
          "metadata": {},
          "execution_count": 27
        }
      ]
    },
    {
      "cell_type": "code",
      "source": [
        "random_tensor.ndim\n",
        "\n",
        "random_multiple_dimesion = torch.rand(3, 4, 5, 6)\n",
        "random_multiple_dimesion"
      ],
      "metadata": {
        "colab": {
          "base_uri": "https://localhost:8080/"
        },
        "id": "bHwxwsM-LNsG",
        "outputId": "62b2066e-4921-415f-a2ff-2484353cfef1"
      },
      "execution_count": 30,
      "outputs": [
        {
          "output_type": "execute_result",
          "data": {
            "text/plain": [
              "tensor([[[[0.3198, 0.0762, 0.8776, 0.4442, 0.5458, 0.1456],\n",
              "          [0.5302, 0.3176, 0.7003, 0.5111, 0.4445, 0.2902],\n",
              "          [0.6461, 0.0836, 0.1105, 0.6893, 0.0585, 0.3902],\n",
              "          [0.9530, 0.4654, 0.9374, 0.9975, 0.0991, 0.0789],\n",
              "          [0.4917, 0.9024, 0.5662, 0.8004, 0.8082, 0.0482]],\n",
              "\n",
              "         [[0.2828, 0.8204, 0.9609, 0.2526, 0.1142, 0.8966],\n",
              "          [0.2113, 0.0473, 0.9115, 0.3478, 0.9278, 0.3632],\n",
              "          [0.7052, 0.4534, 0.0234, 0.6472, 0.1132, 0.5735],\n",
              "          [0.8991, 0.1330, 0.0794, 0.1258, 0.3719, 0.2696],\n",
              "          [0.0030, 0.2815, 0.4071, 0.8514, 0.0544, 0.5325]],\n",
              "\n",
              "         [[0.1718, 0.8648, 0.0048, 0.8723, 0.4494, 0.9463],\n",
              "          [0.3870, 0.2510, 0.6543, 0.5403, 0.5409, 0.4593],\n",
              "          [0.6791, 0.4774, 0.5171, 0.3328, 0.7543, 0.2056],\n",
              "          [0.7219, 0.1247, 0.4816, 0.2440, 0.5835, 0.6133],\n",
              "          [0.4975, 0.2369, 0.0117, 0.9588, 0.3505, 0.7300]],\n",
              "\n",
              "         [[0.3406, 0.0655, 0.6645, 0.1376, 0.1003, 0.3277],\n",
              "          [0.8428, 0.8015, 0.0351, 0.8164, 0.7125, 0.0169],\n",
              "          [0.6710, 0.3027, 0.1768, 0.2428, 0.6379, 0.6947],\n",
              "          [0.5316, 0.6058, 0.1083, 0.2088, 0.8793, 0.8060],\n",
              "          [0.5541, 0.6974, 0.9000, 0.1943, 0.5286, 0.2741]]],\n",
              "\n",
              "\n",
              "        [[[0.1046, 0.0769, 0.7231, 0.0432, 0.5314, 0.6954],\n",
              "          [0.4519, 0.8510, 0.2588, 0.7118, 0.2907, 0.4121],\n",
              "          [0.8845, 0.1724, 0.5453, 0.9129, 0.0499, 0.8066],\n",
              "          [0.0123, 0.4868, 0.8252, 0.0012, 0.9624, 0.0823],\n",
              "          [0.2261, 0.5419, 0.1230, 0.8722, 0.8880, 0.9958]],\n",
              "\n",
              "         [[0.0804, 0.8940, 0.7113, 0.9850, 0.6161, 0.5838],\n",
              "          [0.0142, 0.1538, 0.5794, 0.5303, 0.0061, 0.9793],\n",
              "          [0.3699, 0.6540, 0.5910, 0.9062, 0.8172, 0.8152],\n",
              "          [0.2521, 0.1843, 0.9981, 0.8728, 0.2057, 0.0078],\n",
              "          [0.6474, 0.0062, 0.8008, 0.2378, 0.0067, 0.2031]],\n",
              "\n",
              "         [[0.8290, 0.5983, 0.4557, 0.5759, 0.9548, 0.4456],\n",
              "          [0.5448, 0.1400, 0.7539, 0.6302, 0.6513, 0.5366],\n",
              "          [0.2448, 0.6324, 0.9082, 0.7076, 0.9273, 0.3317],\n",
              "          [0.9791, 0.7865, 0.6867, 0.3051, 0.3445, 0.1939],\n",
              "          [0.0190, 0.8892, 0.5857, 0.6952, 0.8581, 0.1864]],\n",
              "\n",
              "         [[0.5533, 0.7643, 0.5659, 0.0395, 0.4409, 0.2739],\n",
              "          [0.2146, 0.9820, 0.0710, 0.2391, 0.5502, 0.2434],\n",
              "          [0.5262, 0.1119, 0.8899, 0.3991, 0.9547, 0.8865],\n",
              "          [0.8045, 0.9189, 0.6260, 0.6175, 0.1083, 0.6885],\n",
              "          [0.0492, 0.8826, 0.4609, 0.2387, 0.8714, 0.8716]]],\n",
              "\n",
              "\n",
              "        [[[0.5806, 0.2665, 0.8958, 0.0049, 0.8073, 0.1707],\n",
              "          [0.8262, 0.1718, 0.0797, 0.8998, 0.4392, 0.7969],\n",
              "          [0.7411, 0.2900, 0.6080, 0.7679, 0.7258, 0.8221],\n",
              "          [0.2457, 0.5826, 0.4454, 0.7719, 0.6271, 0.0213],\n",
              "          [0.3065, 0.0616, 0.9304, 0.0677, 0.5880, 0.9885]],\n",
              "\n",
              "         [[0.7054, 0.5556, 0.4132, 0.7339, 0.8695, 0.2306],\n",
              "          [0.1791, 0.9622, 0.8548, 0.4367, 0.0425, 0.9032],\n",
              "          [0.9245, 0.2739, 0.4732, 0.5250, 0.8207, 0.9782],\n",
              "          [0.5760, 0.8287, 0.2049, 0.0040, 0.9299, 0.6436],\n",
              "          [0.4297, 0.6618, 0.7180, 0.2019, 0.6360, 0.8543]],\n",
              "\n",
              "         [[0.3074, 0.5476, 0.8775, 0.4386, 0.4914, 0.8356],\n",
              "          [0.1379, 0.8281, 0.9245, 0.3101, 0.8686, 0.2866],\n",
              "          [0.3664, 0.2441, 0.8373, 0.0954, 0.0448, 0.8446],\n",
              "          [0.3184, 0.6916, 0.9774, 0.5662, 0.3005, 0.2229],\n",
              "          [0.5355, 0.6548, 0.1653, 0.4861, 0.7242, 0.1071]],\n",
              "\n",
              "         [[0.8043, 0.9724, 0.5613, 0.6139, 0.0019, 0.6775],\n",
              "          [0.4675, 0.6359, 0.2967, 0.1092, 0.6856, 0.7875],\n",
              "          [0.1308, 0.4702, 0.9181, 0.1636, 0.8096, 0.7215],\n",
              "          [0.8162, 0.5760, 0.4421, 0.7211, 0.3249, 0.5816],\n",
              "          [0.7960, 0.7058, 0.8411, 0.6587, 0.8614, 0.2861]]]])"
            ]
          },
          "metadata": {},
          "execution_count": 30
        }
      ]
    },
    {
      "cell_type": "code",
      "source": [
        "random_multiple_dimesion.ndim"
      ],
      "metadata": {
        "colab": {
          "base_uri": "https://localhost:8080/"
        },
        "id": "Iv07A9zILjMZ",
        "outputId": "00833349-08b1-4e9d-f3fa-327aeb1af948"
      },
      "execution_count": 33,
      "outputs": [
        {
          "output_type": "execute_result",
          "data": {
            "text/plain": [
              "4"
            ]
          },
          "metadata": {},
          "execution_count": 33
        }
      ]
    },
    {
      "cell_type": "code",
      "source": [
        "random_multiple_dimesion.shape"
      ],
      "metadata": {
        "colab": {
          "base_uri": "https://localhost:8080/"
        },
        "id": "LDAb6U8ILtcS",
        "outputId": "bd650d8e-9cbf-4403-e650-2b0e352f94b6"
      },
      "execution_count": 34,
      "outputs": [
        {
          "output_type": "execute_result",
          "data": {
            "text/plain": [
              "torch.Size([3, 4, 5, 6])"
            ]
          },
          "metadata": {},
          "execution_count": 34
        }
      ]
    },
    {
      "cell_type": "markdown",
      "source": [
        "![image.png](https://raw.githubusercontent.com/mrdbourke/pytorch-deep-learning/main/images/00-tensor-shape-example-of-image.png)"
      ],
      "metadata": {
        "id": "gd5fZ_uNMV-X"
      }
    },
    {
      "cell_type": "code",
      "source": [
        "random_image_size_tensor = torch.rand(size=(224, 224, 3)) # Height, width, color channel (R, G, B)\n",
        "random_image_size_tensor, random_image_size_tensor.ndim"
      ],
      "metadata": {
        "colab": {
          "base_uri": "https://localhost:8080/"
        },
        "id": "jaFuWQ-qLv_C",
        "outputId": "359e36ba-070f-4f4b-fea9-ff2b1d649504"
      },
      "execution_count": 36,
      "outputs": [
        {
          "output_type": "execute_result",
          "data": {
            "text/plain": [
              "(tensor([[[0.1496, 0.7965, 0.3264],\n",
              "          [0.3908, 0.8721, 0.8302],\n",
              "          [0.2642, 0.9935, 0.5145],\n",
              "          ...,\n",
              "          [0.9990, 0.1780, 0.0392],\n",
              "          [0.0906, 0.8560, 0.6487],\n",
              "          [0.7705, 0.0370, 0.7331]],\n",
              " \n",
              "         [[0.7951, 0.2313, 0.8508],\n",
              "          [0.8227, 0.6691, 0.8471],\n",
              "          [0.6129, 0.1254, 0.8569],\n",
              "          ...,\n",
              "          [0.2307, 0.9417, 0.8590],\n",
              "          [0.3044, 0.4144, 0.0053],\n",
              "          [0.1296, 0.9937, 0.9756]],\n",
              " \n",
              "         [[0.8674, 0.0099, 0.4077],\n",
              "          [0.6110, 0.6011, 0.4840],\n",
              "          [0.4593, 0.8792, 0.7919],\n",
              "          ...,\n",
              "          [0.2245, 0.5014, 0.5603],\n",
              "          [0.2869, 0.7610, 0.8554],\n",
              "          [0.7247, 0.4443, 0.1544]],\n",
              " \n",
              "         ...,\n",
              " \n",
              "         [[0.0155, 0.1887, 0.8580],\n",
              "          [0.6756, 0.5811, 0.6171],\n",
              "          [0.3356, 0.9052, 0.7551],\n",
              "          ...,\n",
              "          [0.7565, 0.7621, 0.3358],\n",
              "          [0.5446, 0.8325, 0.1776],\n",
              "          [0.8139, 0.8473, 0.2205]],\n",
              " \n",
              "         [[0.5088, 0.6047, 0.3174],\n",
              "          [0.6840, 0.2893, 0.3837],\n",
              "          [0.8869, 0.1822, 0.5215],\n",
              "          ...,\n",
              "          [0.5807, 0.1638, 0.0593],\n",
              "          [0.7050, 0.2003, 0.0550],\n",
              "          [0.5352, 0.6774, 0.4403]],\n",
              " \n",
              "         [[0.0266, 0.7021, 0.5447],\n",
              "          [0.2943, 0.8034, 0.0784],\n",
              "          [0.9448, 0.0182, 0.2580],\n",
              "          ...,\n",
              "          [0.5585, 0.0747, 0.2182],\n",
              "          [0.0396, 0.7338, 0.3509],\n",
              "          [0.7813, 0.7805, 0.0305]]]),\n",
              " 3)"
            ]
          },
          "metadata": {},
          "execution_count": 36
        }
      ]
    },
    {
      "cell_type": "code",
      "source": [
        "# Creating a tensor of all zeros\n",
        "zeros = torch.zeros(size=(3,4))\n",
        "zeros"
      ],
      "metadata": {
        "colab": {
          "base_uri": "https://localhost:8080/"
        },
        "id": "_wz_tqpBMtno",
        "outputId": "188b3568-3086-4888-f02c-84bd6446c7e3"
      },
      "execution_count": 38,
      "outputs": [
        {
          "output_type": "execute_result",
          "data": {
            "text/plain": [
              "tensor([[0., 0., 0., 0.],\n",
              "        [0., 0., 0., 0.],\n",
              "        [0., 0., 0., 0.]])"
            ]
          },
          "metadata": {},
          "execution_count": 38
        }
      ]
    },
    {
      "cell_type": "code",
      "source": [
        "ones = torch.ones(size=(3, 4))\n",
        "ones"
      ],
      "metadata": {
        "colab": {
          "base_uri": "https://localhost:8080/"
        },
        "id": "vv_OO6MMM_KD",
        "outputId": "98e1f7d8-3226-498c-a1c0-ccdfa22952f1"
      },
      "execution_count": 39,
      "outputs": [
        {
          "output_type": "execute_result",
          "data": {
            "text/plain": [
              "tensor([[1., 1., 1., 1.],\n",
              "        [1., 1., 1., 1.],\n",
              "        [1., 1., 1., 1.]])"
            ]
          },
          "metadata": {},
          "execution_count": 39
        }
      ]
    },
    {
      "cell_type": "markdown",
      "source": [
        "Tensor Datatypes"
      ],
      "metadata": {
        "id": "OWniv970PxJn"
      }
    },
    {
      "cell_type": "code",
      "source": [
        "# Float 32 tensor\n",
        "float_32_tensor = torch.tensor([3.0, 6.0, 9.0], dtype=None)\n",
        "float_32_tensor"
      ],
      "metadata": {
        "colab": {
          "base_uri": "https://localhost:8080/"
        },
        "id": "rICIr-0WP0Si",
        "outputId": "0161c497-0339-4bb2-d2a9-21e58b30d41b"
      },
      "execution_count": 41,
      "outputs": [
        {
          "output_type": "execute_result",
          "data": {
            "text/plain": [
              "tensor([3., 6., 9.])"
            ]
          },
          "metadata": {},
          "execution_count": 41
        }
      ]
    },
    {
      "cell_type": "code",
      "source": [
        "float_16_tensor = torch.tensor([3.0, 6.0, 9.0], dtype=torch.float16)\n",
        "\n",
        "float_32_tensor.dtype, float_16_tensor"
      ],
      "metadata": {
        "colab": {
          "base_uri": "https://localhost:8080/"
        },
        "id": "oyxxKx-EQPRl",
        "outputId": "37e1953d-a845-4439-ebc1-2d3793ad1b83"
      },
      "execution_count": 44,
      "outputs": [
        {
          "output_type": "execute_result",
          "data": {
            "text/plain": [
              "(torch.float32, tensor([3., 6., 9.], dtype=torch.float16))"
            ]
          },
          "metadata": {},
          "execution_count": 44
        }
      ]
    },
    {
      "cell_type": "code",
      "source": [
        "float_tensor = torch.tensor([3.0, 6.0, 9.0],\n",
        "                            dtype=None, # Data Types eg.: flot32 (Default), float16, float64, etc. used in Precision in Computer\n",
        "                            device=None, # defaults to None, which uses the default tensor type eg.: \"cpu\", \"cuda\", etc\n",
        "                            requires_grad=False # if True, operations performed on the tensor are recorded\n",
        "                            )\n",
        "\n",
        "float_tensor"
      ],
      "metadata": {
        "colab": {
          "base_uri": "https://localhost:8080/"
        },
        "id": "2hgHoPOxQoV6",
        "outputId": "69416ff0-71f5-483b-cf2b-feab835ca207"
      },
      "execution_count": 47,
      "outputs": [
        {
          "output_type": "execute_result",
          "data": {
            "text/plain": [
              "tensor([3., 6., 9.])"
            ]
          },
          "metadata": {},
          "execution_count": 47
        }
      ]
    },
    {
      "cell_type": "code",
      "source": [
        "multiplied_tensor = float_16_tensor * float_32_tensor\n",
        "\n",
        "multiplied_tensor"
      ],
      "metadata": {
        "colab": {
          "base_uri": "https://localhost:8080/"
        },
        "id": "m48cYuZJS4hS",
        "outputId": "2b0e5515-fc56-4f30-b9c8-c467d794fdfa"
      },
      "execution_count": 49,
      "outputs": [
        {
          "output_type": "execute_result",
          "data": {
            "text/plain": [
              "tensor([ 9., 36., 81.])"
            ]
          },
          "metadata": {},
          "execution_count": 49
        }
      ]
    },
    {
      "cell_type": "code",
      "source": [
        "int_32_tensor = torch.tensor([3, 6, 9], dtype=torch.int32)\n",
        "\n",
        "multiplied_int_tensor = int_32_tensor * float_tensor"
      ],
      "metadata": {
        "id": "yc7UqP-ITbAz"
      },
      "execution_count": 50,
      "outputs": []
    },
    {
      "cell_type": "code",
      "source": [
        "float_32_tensor.device, float_32_tensor.shape"
      ],
      "metadata": {
        "colab": {
          "base_uri": "https://localhost:8080/"
        },
        "id": "W_v6qIQ1TnfR",
        "outputId": "453e27ce-9015-4799-8986-5d596b82b731"
      },
      "execution_count": 52,
      "outputs": [
        {
          "output_type": "execute_result",
          "data": {
            "text/plain": [
              "(device(type='cpu'), torch.Size([3]))"
            ]
          },
          "metadata": {},
          "execution_count": 52
        }
      ]
    },
    {
      "cell_type": "markdown",
      "source": [
        "## Start from 2:13:10 [Youtube Video](https://youtu.be/V_xro1bcAuA)"
      ],
      "metadata": {
        "id": "ZH4sunWwUH5x"
      }
    },
    {
      "cell_type": "code",
      "source": [],
      "metadata": {
        "id": "GOORePJ6WAmM"
      },
      "execution_count": null,
      "outputs": []
    }
  ]
}