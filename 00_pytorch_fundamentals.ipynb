{
  "cells": [
    {
      "cell_type": "code",
      "execution_count": 3,
      "metadata": {
        "colab": {
          "base_uri": "https://localhost:8080/"
        },
        "id": "fOku1e58CoyZ",
        "outputId": "0286b19b-0948-4113-850c-86473e7b9f9b"
      },
      "outputs": [
        {
          "name": "stdout",
          "output_type": "stream",
          "text": [
            "2.0.1+cu118\n"
          ]
        }
      ],
      "source": [
        "import torch\n",
        "import pandas as pd\n",
        "import numpy as np\n",
        "import matplotlib.pyplot as plt\n",
        "print(torch.__version__)"
      ]
    },
    {
      "cell_type": "code",
      "execution_count": 4,
      "metadata": {
        "colab": {
          "base_uri": "https://localhost:8080/"
        },
        "id": "7c1_jdgBDnlU",
        "outputId": "25ee9976-cb43-4d86-f91c-29e2a94ee130"
      },
      "outputs": [
        {
          "name": "stdout",
          "output_type": "stream",
          "text": [
            "Tue Jul 18 10:03:48 2023       \n",
            "+---------------------------------------------------------------------------------------+\n",
            "| NVIDIA-SMI 535.54.03              Driver Version: 535.54.03    CUDA Version: 12.2     |\n",
            "|-----------------------------------------+----------------------+----------------------+\n",
            "| GPU  Name                 Persistence-M | Bus-Id        Disp.A | Volatile Uncorr. ECC |\n",
            "| Fan  Temp   Perf          Pwr:Usage/Cap |         Memory-Usage | GPU-Util  Compute M. |\n",
            "|                                         |                      |               MIG M. |\n",
            "|=========================================+======================+======================|\n",
            "|   0  NVIDIA GeForce GTX 1650        Off | 00000000:0A:00.0 Off |                  N/A |\n",
            "| 40%   38C    P8              N/A /  75W |      3MiB /  4096MiB |      0%      Default |\n",
            "|                                         |                      |                  N/A |\n",
            "+-----------------------------------------+----------------------+----------------------+\n",
            "                                                                                         \n",
            "+---------------------------------------------------------------------------------------+\n",
            "| Processes:                                                                            |\n",
            "|  GPU   GI   CI        PID   Type   Process name                            GPU Memory |\n",
            "|        ID   ID                                                             Usage      |\n",
            "|=======================================================================================|\n",
            "|  No running processes found                                                           |\n",
            "+---------------------------------------------------------------------------------------+\n"
          ]
        }
      ],
      "source": [
        "!nvidia-smi"
      ]
    },
    {
      "cell_type": "markdown",
      "metadata": {
        "id": "g9tqf-SuEIV8"
      },
      "source": [
        "# Introduction to Tensors\n",
        "\n",
        "# Creating Tensors"
      ]
    },
    {
      "cell_type": "code",
      "execution_count": 5,
      "metadata": {
        "colab": {
          "base_uri": "https://localhost:8080/"
        },
        "id": "b64RoOVrEVVj",
        "outputId": "2d2935f0-23fb-4a72-e766-2eb28e8c4446"
      },
      "outputs": [
        {
          "data": {
            "text/plain": [
              "tensor(7)"
            ]
          },
          "execution_count": 5,
          "metadata": {},
          "output_type": "execute_result"
        }
      ],
      "source": [
        "# Scalar\n",
        "# https://pytorch.org/docs/stable/tensors.html\n",
        "scalar = torch.tensor(7)\n",
        "scalar"
      ]
    },
    {
      "cell_type": "code",
      "execution_count": 6,
      "metadata": {
        "colab": {
          "base_uri": "https://localhost:8080/"
        },
        "id": "id_Ovq7yEfeb",
        "outputId": "55cfdf3d-e17c-43ed-d877-5f78922f5177"
      },
      "outputs": [
        {
          "data": {
            "text/plain": [
              "0"
            ]
          },
          "execution_count": 6,
          "metadata": {},
          "output_type": "execute_result"
        }
      ],
      "source": [
        "scalar.ndim"
      ]
    },
    {
      "cell_type": "code",
      "execution_count": 7,
      "metadata": {
        "colab": {
          "base_uri": "https://localhost:8080/"
        },
        "id": "w4l88oxQFIKU",
        "outputId": "129d5de5-a3a0-4532-f53b-fe4e69d6f969"
      },
      "outputs": [
        {
          "data": {
            "text/plain": [
              "7"
            ]
          },
          "execution_count": 7,
          "metadata": {},
          "output_type": "execute_result"
        }
      ],
      "source": [
        "scalar.item()"
      ]
    },
    {
      "cell_type": "code",
      "execution_count": 8,
      "metadata": {
        "colab": {
          "base_uri": "https://localhost:8080/"
        },
        "id": "XY1dhftVFMO7",
        "outputId": "b4dd1f29-5b8c-4a80-d3f9-8554f008db87"
      },
      "outputs": [
        {
          "data": {
            "text/plain": [
              "tensor([7, 7])"
            ]
          },
          "execution_count": 8,
          "metadata": {},
          "output_type": "execute_result"
        }
      ],
      "source": [
        "# Vector\n",
        "vector = torch.tensor([7, 7])\n",
        "vector"
      ]
    },
    {
      "cell_type": "code",
      "execution_count": 9,
      "metadata": {
        "colab": {
          "base_uri": "https://localhost:8080/"
        },
        "id": "zgnG0BxAFhJD",
        "outputId": "9e2f3eb0-9e11-47d3-b5c3-55c988c656d1"
      },
      "outputs": [
        {
          "data": {
            "text/plain": [
              "1"
            ]
          },
          "execution_count": 9,
          "metadata": {},
          "output_type": "execute_result"
        }
      ],
      "source": [
        "vector.ndim"
      ]
    },
    {
      "cell_type": "code",
      "execution_count": 10,
      "metadata": {
        "colab": {
          "base_uri": "https://localhost:8080/"
        },
        "id": "xxExOwR-FkWy",
        "outputId": "d76a8081-0123-44d6-9e13-f5405ce59a99"
      },
      "outputs": [
        {
          "data": {
            "text/plain": [
              "torch.Size([2])"
            ]
          },
          "execution_count": 10,
          "metadata": {},
          "output_type": "execute_result"
        }
      ],
      "source": [
        "vector.shape"
      ]
    },
    {
      "cell_type": "code",
      "execution_count": 11,
      "metadata": {
        "colab": {
          "base_uri": "https://localhost:8080/"
        },
        "id": "DIzHCeEXFooL",
        "outputId": "d1024f5f-1051-487d-ea52-63de238db1d7"
      },
      "outputs": [
        {
          "data": {
            "text/plain": [
              "tensor([[ 7,  8],\n",
              "        [ 9, 10]])"
            ]
          },
          "execution_count": 11,
          "metadata": {},
          "output_type": "execute_result"
        }
      ],
      "source": [
        "# Matrix\n",
        "MATRIX = torch.tensor([[7, 8],\n",
        "                       [9, 10]])\n",
        "MATRIX"
      ]
    },
    {
      "cell_type": "code",
      "execution_count": 12,
      "metadata": {
        "colab": {
          "base_uri": "https://localhost:8080/"
        },
        "id": "jQ6znSSHF2rP",
        "outputId": "0c8aa691-7424-44d6-cd29-02bdeae4a7bf"
      },
      "outputs": [
        {
          "data": {
            "text/plain": [
              "2"
            ]
          },
          "execution_count": 12,
          "metadata": {},
          "output_type": "execute_result"
        }
      ],
      "source": [
        "MATRIX.ndim"
      ]
    },
    {
      "cell_type": "code",
      "execution_count": 13,
      "metadata": {
        "colab": {
          "base_uri": "https://localhost:8080/"
        },
        "id": "tNDdYmWfF7GT",
        "outputId": "168b360c-8f1b-4c38-fd17-626a4c0e7cba"
      },
      "outputs": [
        {
          "data": {
            "text/plain": [
              "tensor([ 9, 10])"
            ]
          },
          "execution_count": 13,
          "metadata": {},
          "output_type": "execute_result"
        }
      ],
      "source": [
        "MATRIX[1]"
      ]
    },
    {
      "cell_type": "code",
      "execution_count": 14,
      "metadata": {
        "colab": {
          "base_uri": "https://localhost:8080/"
        },
        "id": "L6Z9AXWZGBpO",
        "outputId": "44a128af-8608-45d0-da8c-49fd849fee29"
      },
      "outputs": [
        {
          "data": {
            "text/plain": [
              "torch.Size([2, 2])"
            ]
          },
          "execution_count": 14,
          "metadata": {},
          "output_type": "execute_result"
        }
      ],
      "source": [
        "MATRIX.shape"
      ]
    },
    {
      "cell_type": "code",
      "execution_count": 15,
      "metadata": {
        "colab": {
          "base_uri": "https://localhost:8080/"
        },
        "id": "1RE1ooaJGIRz",
        "outputId": "aada9a68-7044-452d-93ba-7beefbc59ca0"
      },
      "outputs": [
        {
          "data": {
            "text/plain": [
              "tensor([[[1, 2, 3],\n",
              "         [4, 5, 6],\n",
              "         [7, 8, 9]]])"
            ]
          },
          "execution_count": 15,
          "metadata": {},
          "output_type": "execute_result"
        }
      ],
      "source": [
        "# Tensor\n",
        "TENSOR = torch.tensor([[[1, 2, 3],\n",
        "                        [4, 5, 6],\n",
        "                        [7, 8, 9]]])\n",
        "\n",
        "TENSOR_TWO = torch.tensor([[[1, 2, 3],\n",
        "                            [4, 5, 6],\n",
        "                            [7, 8, 9]],\n",
        "                           [[11, 12, 13],\n",
        "                            [21, 22, 23],\n",
        "                            [31, 32, 33]]])\n",
        "TENSOR"
      ]
    },
    {
      "cell_type": "code",
      "execution_count": 16,
      "metadata": {
        "colab": {
          "base_uri": "https://localhost:8080/"
        },
        "id": "wDpMEpzmGfhf",
        "outputId": "4584253a-c2ad-4bf4-a139-8b01969c3b06"
      },
      "outputs": [
        {
          "data": {
            "text/plain": [
              "3"
            ]
          },
          "execution_count": 16,
          "metadata": {},
          "output_type": "execute_result"
        }
      ],
      "source": [
        "TENSOR.ndim"
      ]
    },
    {
      "cell_type": "code",
      "execution_count": 17,
      "metadata": {
        "colab": {
          "base_uri": "https://localhost:8080/"
        },
        "id": "WrhTlNSeGisf",
        "outputId": "1e3aceb2-53df-4e77-84e9-e52189ff163c"
      },
      "outputs": [
        {
          "data": {
            "text/plain": [
              "torch.Size([1, 3, 3])"
            ]
          },
          "execution_count": 17,
          "metadata": {},
          "output_type": "execute_result"
        }
      ],
      "source": [
        "TENSOR.shape"
      ]
    },
    {
      "cell_type": "code",
      "execution_count": 18,
      "metadata": {
        "colab": {
          "base_uri": "https://localhost:8080/"
        },
        "id": "x5QRp6igGmdX",
        "outputId": "c4475de8-e758-4fcf-e44a-4cfaf2a7c42a"
      },
      "outputs": [
        {
          "data": {
            "text/plain": [
              "tensor([[1, 2, 3],\n",
              "        [4, 5, 6],\n",
              "        [7, 8, 9]])"
            ]
          },
          "execution_count": 18,
          "metadata": {},
          "output_type": "execute_result"
        }
      ],
      "source": [
        "TENSOR[0]"
      ]
    },
    {
      "cell_type": "code",
      "execution_count": 19,
      "metadata": {
        "colab": {
          "base_uri": "https://localhost:8080/"
        },
        "id": "m6jhaNbUG1Nu",
        "outputId": "594c2c55-3d28-4e76-f27c-4de4b3a32788"
      },
      "outputs": [
        {
          "data": {
            "text/plain": [
              "tensor([4, 5, 6])"
            ]
          },
          "execution_count": 19,
          "metadata": {},
          "output_type": "execute_result"
        }
      ],
      "source": [
        "TENSOR[0][1]"
      ]
    },
    {
      "cell_type": "code",
      "execution_count": 20,
      "metadata": {
        "colab": {
          "base_uri": "https://localhost:8080/"
        },
        "id": "upzLR13tHNZ7",
        "outputId": "a89900a6-84bf-4663-f8ac-16e57c33cd72"
      },
      "outputs": [
        {
          "data": {
            "text/plain": [
              "torch.Size([2, 3, 3])"
            ]
          },
          "execution_count": 20,
          "metadata": {},
          "output_type": "execute_result"
        }
      ],
      "source": [
        "TENSOR_TWO.shape"
      ]
    },
    {
      "cell_type": "markdown",
      "metadata": {
        "id": "3WyktupbHhX3"
      },
      "source": [
        "# Random Tensors"
      ]
    },
    {
      "cell_type": "code",
      "execution_count": 21,
      "metadata": {
        "colab": {
          "base_uri": "https://localhost:8080/"
        },
        "id": "pbfEC4iaKYPJ",
        "outputId": "72b90362-9a7f-4f99-f9a2-09ae406de8bd"
      },
      "outputs": [
        {
          "data": {
            "text/plain": [
              "tensor([[0.7156, 0.9217, 0.5267, 0.9579],\n",
              "        [0.5134, 0.3472, 0.9213, 0.0492],\n",
              "        [0.1178, 0.8999, 0.9299, 0.2509]])"
            ]
          },
          "execution_count": 21,
          "metadata": {},
          "output_type": "execute_result"
        }
      ],
      "source": [
        "# torch.rand\n",
        "# https://pytorch.org/docs/stable/generated/torch.rand.html\n",
        "\n",
        "random_tensor = torch.rand(3, 4)\n",
        "random_tensor"
      ]
    },
    {
      "cell_type": "code",
      "execution_count": 22,
      "metadata": {
        "colab": {
          "base_uri": "https://localhost:8080/"
        },
        "id": "bHwxwsM-LNsG",
        "outputId": "93f9a767-5ad2-47eb-a441-a7116e4aba93"
      },
      "outputs": [
        {
          "data": {
            "text/plain": [
              "tensor([[[[0.8259, 0.0949, 0.7714, 0.0662, 0.7011, 0.3963],\n",
              "          [0.6912, 0.0084, 0.6994, 0.7134, 0.2436, 0.2861],\n",
              "          [0.3179, 0.7763, 0.7841, 0.6388, 0.7944, 0.3913],\n",
              "          [0.2762, 0.1004, 0.8799, 0.5686, 0.2737, 0.8239],\n",
              "          [0.8278, 0.1383, 0.6688, 0.1684, 0.3417, 0.7745]],\n",
              "\n",
              "         [[0.6038, 0.2725, 0.5111, 0.5440, 0.3694, 0.2759],\n",
              "          [0.4157, 0.1451, 0.1232, 0.2965, 0.1274, 0.5124],\n",
              "          [0.4435, 0.5734, 0.8129, 0.5076, 0.4553, 0.4820],\n",
              "          [0.5272, 0.0092, 0.9046, 0.5760, 0.9010, 0.2731],\n",
              "          [0.8457, 0.5757, 0.7484, 0.8221, 0.1542, 0.1599]],\n",
              "\n",
              "         [[0.3856, 0.0013, 0.8818, 0.3791, 0.6342, 0.0643],\n",
              "          [0.7115, 0.1586, 0.1152, 0.1416, 0.2061, 0.9633],\n",
              "          [0.5751, 0.3016, 0.6609, 0.6968, 0.2575, 0.4997],\n",
              "          [0.5961, 0.3123, 0.7279, 0.3475, 0.2767, 0.6119],\n",
              "          [0.2174, 0.2103, 0.9552, 0.9091, 0.5936, 0.8744]],\n",
              "\n",
              "         [[0.5916, 0.2128, 0.1918, 0.7694, 0.8153, 0.5487],\n",
              "          [0.1050, 0.1411, 0.5373, 0.6671, 0.1351, 0.2368],\n",
              "          [0.4505, 0.2416, 0.1846, 0.4292, 0.7939, 0.2368],\n",
              "          [0.9001, 0.9436, 0.2097, 0.9473, 0.9780, 0.1844],\n",
              "          [0.1364, 0.1756, 0.8087, 0.5773, 0.6639, 0.8392]]],\n",
              "\n",
              "\n",
              "        [[[0.6715, 0.1914, 0.1788, 0.5096, 0.9400, 0.0609],\n",
              "          [0.6395, 0.9784, 0.5825, 0.9788, 0.0497, 0.1726],\n",
              "          [0.8243, 0.4249, 0.8942, 0.0288, 0.7978, 0.0160],\n",
              "          [0.6808, 0.4716, 0.9508, 0.3907, 0.7583, 0.2513],\n",
              "          [0.2673, 0.0148, 0.4742, 0.1128, 0.3815, 0.4344]],\n",
              "\n",
              "         [[0.1972, 0.3960, 0.3268, 0.1679, 0.8227, 0.2827],\n",
              "          [0.9756, 0.4665, 0.8127, 0.8811, 0.5152, 0.4037],\n",
              "          [0.6329, 0.2318, 0.9435, 0.3989, 0.7377, 0.5675],\n",
              "          [0.4008, 0.3869, 0.7334, 0.9656, 0.3252, 0.0745],\n",
              "          [0.9818, 0.8696, 0.6794, 0.4938, 0.2260, 0.9730]],\n",
              "\n",
              "         [[0.6037, 0.4715, 0.5376, 0.9607, 0.8274, 0.7245],\n",
              "          [0.8207, 0.8080, 0.2826, 0.0814, 0.7939, 0.2322],\n",
              "          [0.9707, 0.9572, 0.5728, 0.3322, 0.4284, 0.8313],\n",
              "          [0.0138, 0.8292, 0.4204, 0.7997, 0.9926, 0.6225],\n",
              "          [0.3469, 0.6080, 0.0982, 0.7008, 0.8229, 0.5237]],\n",
              "\n",
              "         [[0.1362, 0.2572, 0.9455, 0.9145, 0.0673, 0.2773],\n",
              "          [0.2378, 0.5522, 0.3068, 0.4793, 0.9005, 0.1261],\n",
              "          [0.6216, 0.3231, 0.9890, 0.5263, 0.6561, 0.6356],\n",
              "          [0.9828, 0.5129, 0.4822, 0.2094, 0.9440, 0.4850],\n",
              "          [0.0656, 0.7117, 0.2011, 0.3257, 0.7142, 0.5128]]],\n",
              "\n",
              "\n",
              "        [[[0.9197, 0.5069, 0.9130, 0.1010, 0.6582, 0.8407],\n",
              "          [0.7296, 0.4390, 0.2722, 0.8761, 0.7722, 0.0413],\n",
              "          [0.9304, 0.8046, 0.8158, 0.9248, 0.5056, 0.7508],\n",
              "          [0.4115, 0.4473, 0.8878, 0.4000, 0.6046, 0.7715],\n",
              "          [0.1963, 0.3747, 0.3240, 0.4840, 0.2541, 0.3190]],\n",
              "\n",
              "         [[0.7806, 0.0313, 0.5219, 0.5497, 0.9151, 0.5307],\n",
              "          [0.9599, 0.5657, 0.5776, 0.3619, 0.7071, 0.2923],\n",
              "          [0.9688, 0.3359, 0.4192, 0.6448, 0.3009, 0.2208],\n",
              "          [0.2676, 0.6994, 0.2580, 0.5914, 0.2711, 0.2695],\n",
              "          [0.3993, 0.4485, 0.4313, 0.3275, 0.1071, 0.3441]],\n",
              "\n",
              "         [[0.4233, 0.0623, 0.6994, 0.7477, 0.1534, 0.9787],\n",
              "          [0.8173, 0.4343, 0.8229, 0.2573, 0.4735, 0.3621],\n",
              "          [0.8727, 0.7117, 0.8877, 0.3305, 0.2286, 0.9555],\n",
              "          [0.3982, 0.3830, 0.9121, 0.8707, 0.6023, 0.5698],\n",
              "          [0.6528, 0.6071, 0.3064, 0.9120, 0.6422, 0.8061]],\n",
              "\n",
              "         [[0.5785, 0.2161, 0.7126, 0.1042, 0.3725, 0.0332],\n",
              "          [0.2502, 0.5998, 0.9533, 0.6768, 0.6348, 0.6008],\n",
              "          [0.1231, 0.5991, 0.7117, 0.4950, 0.0389, 0.4954],\n",
              "          [0.6977, 0.2589, 0.6888, 0.2097, 0.5030, 0.5372],\n",
              "          [0.8027, 0.4778, 0.3737, 0.2878, 0.9849, 0.0617]]]])"
            ]
          },
          "execution_count": 22,
          "metadata": {},
          "output_type": "execute_result"
        }
      ],
      "source": [
        "random_tensor.ndim\n",
        "\n",
        "random_multiple_dimesion = torch.rand(3, 4, 5, 6)\n",
        "random_multiple_dimesion"
      ]
    },
    {
      "cell_type": "code",
      "execution_count": 23,
      "metadata": {
        "colab": {
          "base_uri": "https://localhost:8080/"
        },
        "id": "Iv07A9zILjMZ",
        "outputId": "5846dfa2-55cd-4dd4-e0e2-861df9610375"
      },
      "outputs": [
        {
          "data": {
            "text/plain": [
              "4"
            ]
          },
          "execution_count": 23,
          "metadata": {},
          "output_type": "execute_result"
        }
      ],
      "source": [
        "random_multiple_dimesion.ndim"
      ]
    },
    {
      "cell_type": "code",
      "execution_count": 24,
      "metadata": {
        "colab": {
          "base_uri": "https://localhost:8080/"
        },
        "id": "LDAb6U8ILtcS",
        "outputId": "99eaae6b-a913-4e18-8f02-6569300e28d3"
      },
      "outputs": [
        {
          "data": {
            "text/plain": [
              "torch.Size([3, 4, 5, 6])"
            ]
          },
          "execution_count": 24,
          "metadata": {},
          "output_type": "execute_result"
        }
      ],
      "source": [
        "random_multiple_dimesion.shape"
      ]
    },
    {
      "cell_type": "markdown",
      "metadata": {
        "id": "gd5fZ_uNMV-X"
      },
      "source": [
        "![image.png](https://raw.githubusercontent.com/mrdbourke/pytorch-deep-learning/main/images/00-tensor-shape-example-of-image.png)"
      ]
    },
    {
      "cell_type": "code",
      "execution_count": 25,
      "metadata": {
        "colab": {
          "base_uri": "https://localhost:8080/"
        },
        "id": "jaFuWQ-qLv_C",
        "outputId": "50433117-0168-4200-ff65-6474fa2db62e"
      },
      "outputs": [
        {
          "data": {
            "text/plain": [
              "(tensor([[[0.8929, 0.3307, 0.5958],\n",
              "          [0.7348, 0.0869, 0.9072],\n",
              "          [0.7634, 0.8176, 0.1895],\n",
              "          ...,\n",
              "          [0.1636, 0.4899, 0.1739],\n",
              "          [0.2460, 0.3678, 0.1568],\n",
              "          [0.2335, 0.2991, 0.7794]],\n",
              " \n",
              "         [[0.0760, 0.5423, 0.1667],\n",
              "          [0.3415, 0.6195, 0.2023],\n",
              "          [0.9610, 0.2691, 0.3310],\n",
              "          ...,\n",
              "          [0.5267, 0.4568, 0.9323],\n",
              "          [0.0959, 0.3681, 0.4394],\n",
              "          [0.4433, 0.3545, 0.2927]],\n",
              " \n",
              "         [[0.6730, 0.0466, 0.2428],\n",
              "          [0.7665, 0.7643, 0.6429],\n",
              "          [0.7700, 0.6775, 0.4882],\n",
              "          ...,\n",
              "          [0.1072, 0.1047, 0.6852],\n",
              "          [0.6252, 0.1794, 0.6637],\n",
              "          [0.2859, 0.2785, 0.7401]],\n",
              " \n",
              "         ...,\n",
              " \n",
              "         [[0.4230, 0.5633, 0.9175],\n",
              "          [0.2057, 0.1115, 0.4664],\n",
              "          [0.1283, 0.1934, 0.7511],\n",
              "          ...,\n",
              "          [0.8692, 0.2540, 0.2236],\n",
              "          [0.0532, 0.9014, 0.2030],\n",
              "          [0.4066, 0.8497, 0.8199]],\n",
              " \n",
              "         [[0.6301, 0.6953, 0.4958],\n",
              "          [0.8505, 0.7969, 0.8054],\n",
              "          [0.5497, 0.3709, 0.5204],\n",
              "          ...,\n",
              "          [0.8385, 0.4110, 0.3517],\n",
              "          [0.6326, 0.5279, 0.5673],\n",
              "          [0.8267, 0.3015, 0.1598]],\n",
              " \n",
              "         [[0.2605, 0.2244, 0.5802],\n",
              "          [0.5382, 0.1483, 0.3470],\n",
              "          [0.2840, 0.3569, 0.8288],\n",
              "          ...,\n",
              "          [0.1908, 0.5369, 0.1943],\n",
              "          [0.3038, 0.3800, 0.4072],\n",
              "          [0.5208, 0.6520, 0.7642]]]),\n",
              " 3)"
            ]
          },
          "execution_count": 25,
          "metadata": {},
          "output_type": "execute_result"
        }
      ],
      "source": [
        "random_image_size_tensor = torch.rand(size=(224, 224, 3)) # Height, width, color channel (R, G, B)\n",
        "random_image_size_tensor, random_image_size_tensor.ndim"
      ]
    },
    {
      "cell_type": "code",
      "execution_count": 26,
      "metadata": {
        "colab": {
          "base_uri": "https://localhost:8080/"
        },
        "id": "_wz_tqpBMtno",
        "outputId": "3b380142-c7ef-4288-c623-d78905d9b1bf"
      },
      "outputs": [
        {
          "data": {
            "text/plain": [
              "tensor([[0., 0., 0., 0.],\n",
              "        [0., 0., 0., 0.],\n",
              "        [0., 0., 0., 0.]])"
            ]
          },
          "execution_count": 26,
          "metadata": {},
          "output_type": "execute_result"
        }
      ],
      "source": [
        "# Creating a tensor of all zeros\n",
        "zeros = torch.zeros(size=(3,4))\n",
        "zeros"
      ]
    },
    {
      "cell_type": "code",
      "execution_count": 27,
      "metadata": {
        "colab": {
          "base_uri": "https://localhost:8080/"
        },
        "id": "vv_OO6MMM_KD",
        "outputId": "c1ac6e19-0d07-4e20-f888-43d6f3791009"
      },
      "outputs": [
        {
          "data": {
            "text/plain": [
              "tensor([[1., 1., 1., 1.],\n",
              "        [1., 1., 1., 1.],\n",
              "        [1., 1., 1., 1.]])"
            ]
          },
          "execution_count": 27,
          "metadata": {},
          "output_type": "execute_result"
        }
      ],
      "source": [
        "ones = torch.ones(size=(3, 4))\n",
        "ones"
      ]
    },
    {
      "cell_type": "markdown",
      "metadata": {
        "id": "OWniv970PxJn"
      },
      "source": [
        "Tensor Datatypes"
      ]
    },
    {
      "cell_type": "code",
      "execution_count": 28,
      "metadata": {
        "colab": {
          "base_uri": "https://localhost:8080/"
        },
        "id": "rICIr-0WP0Si",
        "outputId": "ef83780c-422e-461a-89d5-7217dc9080c3"
      },
      "outputs": [
        {
          "data": {
            "text/plain": [
              "tensor([3., 6., 9.])"
            ]
          },
          "execution_count": 28,
          "metadata": {},
          "output_type": "execute_result"
        }
      ],
      "source": [
        "# Float 32 tensor\n",
        "float_32_tensor = torch.tensor([3.0, 6.0, 9.0], dtype=None)\n",
        "float_32_tensor"
      ]
    },
    {
      "cell_type": "code",
      "execution_count": 29,
      "metadata": {
        "colab": {
          "base_uri": "https://localhost:8080/"
        },
        "id": "oyxxKx-EQPRl",
        "outputId": "c2fd33a8-36bb-405e-c0dc-fe9a861fbc0a"
      },
      "outputs": [
        {
          "data": {
            "text/plain": [
              "(torch.float32, tensor([3., 6., 9.], dtype=torch.float16))"
            ]
          },
          "execution_count": 29,
          "metadata": {},
          "output_type": "execute_result"
        }
      ],
      "source": [
        "float_16_tensor = torch.tensor([3.0, 6.0, 9.0], dtype=torch.float16)\n",
        "\n",
        "float_32_tensor.dtype, float_16_tensor"
      ]
    },
    {
      "cell_type": "code",
      "execution_count": 30,
      "metadata": {
        "colab": {
          "base_uri": "https://localhost:8080/"
        },
        "id": "2hgHoPOxQoV6",
        "outputId": "5432343d-3b2b-4466-f119-a0464c6d99e5"
      },
      "outputs": [
        {
          "data": {
            "text/plain": [
              "tensor([3., 6., 9.])"
            ]
          },
          "execution_count": 30,
          "metadata": {},
          "output_type": "execute_result"
        }
      ],
      "source": [
        "float_tensor = torch.tensor([3.0, 6.0, 9.0],\n",
        "                            dtype=None, # Data Types eg.: flot32 (Default), float16, float64, etc. used in Precision in Computer\n",
        "                            device=None, # defaults to None, which uses the default tensor type eg.: \"cpu\", \"cuda\", etc\n",
        "                            requires_grad=False # if True, operations performed on the tensor are recorded\n",
        "                            )\n",
        "\n",
        "float_tensor"
      ]
    },
    {
      "cell_type": "code",
      "execution_count": 31,
      "metadata": {
        "colab": {
          "base_uri": "https://localhost:8080/"
        },
        "id": "m48cYuZJS4hS",
        "outputId": "24f72044-3755-4f6b-ba05-05a46bd98df4"
      },
      "outputs": [
        {
          "data": {
            "text/plain": [
              "tensor([ 9., 36., 81.])"
            ]
          },
          "execution_count": 31,
          "metadata": {},
          "output_type": "execute_result"
        }
      ],
      "source": [
        "multiplied_tensor = float_16_tensor * float_32_tensor\n",
        "\n",
        "multiplied_tensor"
      ]
    },
    {
      "cell_type": "code",
      "execution_count": 32,
      "metadata": {
        "id": "yc7UqP-ITbAz"
      },
      "outputs": [],
      "source": [
        "int_32_tensor = torch.tensor([3, 6, 9], dtype=torch.int32)\n",
        "\n",
        "multiplied_int_tensor = int_32_tensor * float_tensor"
      ]
    },
    {
      "cell_type": "code",
      "execution_count": 33,
      "metadata": {
        "colab": {
          "base_uri": "https://localhost:8080/"
        },
        "id": "W_v6qIQ1TnfR",
        "outputId": "0666cbc9-5309-4be0-da31-953888b7be85"
      },
      "outputs": [
        {
          "data": {
            "text/plain": [
              "(device(type='cpu'), torch.Size([3]))"
            ]
          },
          "execution_count": 33,
          "metadata": {},
          "output_type": "execute_result"
        }
      ],
      "source": [
        "float_32_tensor.device, float_32_tensor.shape"
      ]
    },
    {
      "cell_type": "markdown",
      "metadata": {
        "id": "9fcx_4tdhe6T"
      },
      "source": [
        "### Manipulating Tensors\n",
        "Tensor Operations includes:\n",
        "* Addition\n",
        "* Subtraction\n",
        "* Multiplication (element-wise)\n",
        "* Division\n",
        "* Matrix Multiplication"
      ]
    },
    {
      "cell_type": "code",
      "execution_count": 34,
      "metadata": {
        "colab": {
          "base_uri": "https://localhost:8080/"
        },
        "id": "JQwlADQ1h6ER",
        "outputId": "cb811541-2cf9-4033-8c8d-1c7501d27a58"
      },
      "outputs": [
        {
          "data": {
            "text/plain": [
              "tensor([11, 12, 13])"
            ]
          },
          "execution_count": 34,
          "metadata": {},
          "output_type": "execute_result"
        }
      ],
      "source": [
        "o_tensor = torch.tensor([1, 2, 3])\n",
        "o_tensor + 10"
      ]
    },
    {
      "cell_type": "code",
      "execution_count": 35,
      "metadata": {
        "colab": {
          "base_uri": "https://localhost:8080/"
        },
        "id": "lv4mU9-_iPN8",
        "outputId": "5f51cd56-6f11-4f11-cca5-89fba28d0c0e"
      },
      "outputs": [
        {
          "data": {
            "text/plain": [
              "tensor([10, 20, 30])"
            ]
          },
          "execution_count": 35,
          "metadata": {},
          "output_type": "execute_result"
        }
      ],
      "source": [
        "o_tensor * 10"
      ]
    },
    {
      "cell_type": "code",
      "execution_count": 36,
      "metadata": {
        "colab": {
          "base_uri": "https://localhost:8080/"
        },
        "id": "Q-AP9-HDiVvM",
        "outputId": "0812c2cd-c1bc-4f54-8939-5465eb05bf79"
      },
      "outputs": [
        {
          "data": {
            "text/plain": [
              "tensor([-9, -8, -7])"
            ]
          },
          "execution_count": 36,
          "metadata": {},
          "output_type": "execute_result"
        }
      ],
      "source": [
        "o_tensor - 10"
      ]
    },
    {
      "cell_type": "code",
      "execution_count": 37,
      "metadata": {
        "colab": {
          "base_uri": "https://localhost:8080/"
        },
        "id": "goncKPwrieB6",
        "outputId": "8d86d94e-13bf-4c89-e765-cb2d6b5cc8c4"
      },
      "outputs": [
        {
          "name": "stdout",
          "output_type": "stream",
          "text": [
            "tensor([10, 20, 30])\n",
            "tensor([11, 12, 13])\n",
            "tensor([-9, -8, -7])\n"
          ]
        }
      ],
      "source": [
        "print(torch.mul(o_tensor, 10))\n",
        "print(torch.add(o_tensor, 10))\n",
        "print(torch.sub(o_tensor, 10))"
      ]
    },
    {
      "cell_type": "markdown",
      "metadata": {
        "id": "NuwEciN_i_Xg"
      },
      "source": [
        "### Matrix Multiplication\n",
        "\n",
        "1. Element-wise multiplication\n",
        "2. Matrix Multiplication"
      ]
    },
    {
      "cell_type": "code",
      "execution_count": 38,
      "metadata": {
        "colab": {
          "base_uri": "https://localhost:8080/"
        },
        "id": "yMsycohgjLuE",
        "outputId": "36d8734c-ea92-48f0-a88c-89626a8d161d"
      },
      "outputs": [
        {
          "data": {
            "text/plain": [
              "tensor([1, 4, 9])"
            ]
          },
          "execution_count": 38,
          "metadata": {},
          "output_type": "execute_result"
        }
      ],
      "source": [
        "# Element-wise\n",
        "o_tensor * o_tensor"
      ]
    },
    {
      "cell_type": "code",
      "execution_count": 39,
      "metadata": {
        "colab": {
          "base_uri": "https://localhost:8080/"
        },
        "id": "SBruVOugjl_A",
        "outputId": "22251406-b11c-463f-9ccd-1de1f3acf1fd"
      },
      "outputs": [
        {
          "name": "stdout",
          "output_type": "stream",
          "text": [
            "CPU times: user 348 µs, sys: 132 µs, total: 480 µs\n",
            "Wall time: 593 µs\n"
          ]
        },
        {
          "data": {
            "text/plain": [
              "tensor(14)"
            ]
          },
          "execution_count": 39,
          "metadata": {},
          "output_type": "execute_result"
        }
      ],
      "source": [
        "%%time\n",
        "\n",
        "# Matrix Multiplication\n",
        "torch.matmul(o_tensor, o_tensor)\n",
        "\n",
        "# torch.mm is same as torch.matmul"
      ]
    },
    {
      "cell_type": "markdown",
      "metadata": {
        "id": "oGiTdOg-kh6m"
      },
      "source": [
        "## Common Errors in Deep Learning is Shape Error (Basic High School Maths)\n",
        "1. The **inner dimensions** must match:\n",
        "* `(3,2) @ (3,2)` won't work\n",
        "* `(2,3) @ (3,2)` will work\n",
        "* *similarly, `n` numst be equal to `p`*\n",
        "2. The resulting Matrix has shape `m x q` for two matrix of order `m x n` and `p x n`.\n"
      ]
    },
    {
      "cell_type": "code",
      "execution_count": 40,
      "metadata": {
        "colab": {
          "base_uri": "https://localhost:8080/"
        },
        "id": "7d11xIMB5CBs",
        "outputId": "98530567-2452-4172-e668-b41a51cd836b"
      },
      "outputs": [
        {
          "name": "stdout",
          "output_type": "stream",
          "text": [
            "Same Matrix => tensor([[0.3923, 0.8353],\n",
            "        [0.9061, 0.6019],\n",
            "        [0.1362, 0.1218]])\n",
            "Transpose Matrix => tensor([[0.3923, 0.9061, 0.1362],\n",
            "        [0.8353, 0.6019, 0.1218]])\n"
          ]
        }
      ],
      "source": [
        "# Transpose of a Matrix\n",
        "sample_tensor_transpose = torch.rand(3,2)\n",
        "print(f\"Same Matrix => {sample_tensor_transpose}\")\n",
        "print(f\"Transpose Matrix => {sample_tensor_transpose.T}\")"
      ]
    },
    {
      "cell_type": "markdown",
      "metadata": {
        "id": "QAcmuFlQ8VQQ"
      },
      "source": [
        "## Finding the min, max, mean, sum, etc"
      ]
    },
    {
      "cell_type": "code",
      "execution_count": 41,
      "metadata": {
        "colab": {
          "base_uri": "https://localhost:8080/"
        },
        "id": "Y5MNwuaV8jTM",
        "outputId": "b7875ec5-6fc4-4042-8636-6e099c0f68c0"
      },
      "outputs": [
        {
          "data": {
            "text/plain": [
              "tensor([ 0, 10, 20, 30, 40, 50, 60, 70, 80, 90])"
            ]
          },
          "execution_count": 41,
          "metadata": {},
          "output_type": "execute_result"
        }
      ],
      "source": [
        "sample_tensor = torch.arange(0, 100, 10) # From, To, Length\n",
        "sample_tensor"
      ]
    },
    {
      "cell_type": "code",
      "execution_count": 42,
      "metadata": {
        "colab": {
          "base_uri": "https://localhost:8080/"
        },
        "id": "adlbaQc-82qk",
        "outputId": "d2bff4b4-943b-498e-f1de-bdccdf26533b"
      },
      "outputs": [
        {
          "data": {
            "text/plain": [
              "(tensor(0), tensor(0))"
            ]
          },
          "execution_count": 42,
          "metadata": {},
          "output_type": "execute_result"
        }
      ],
      "source": [
        "# Find the min\n",
        "torch.min(sample_tensor), sample_tensor.min()"
      ]
    },
    {
      "cell_type": "code",
      "execution_count": 43,
      "metadata": {
        "colab": {
          "base_uri": "https://localhost:8080/"
        },
        "id": "VoA-cNmC8939",
        "outputId": "67305a26-ecee-444d-b6ff-405987dfb709"
      },
      "outputs": [
        {
          "data": {
            "text/plain": [
              "(tensor(90), tensor(90))"
            ]
          },
          "execution_count": 43,
          "metadata": {},
          "output_type": "execute_result"
        }
      ],
      "source": [
        "# Find the max\n",
        "torch.max(sample_tensor), sample_tensor.max()"
      ]
    },
    {
      "cell_type": "code",
      "execution_count": 44,
      "metadata": {
        "colab": {
          "base_uri": "https://localhost:8080/"
        },
        "id": "9CJR-1ft9FG7",
        "outputId": "863a64de-67f9-4eb1-9d82-408a5550ab50"
      },
      "outputs": [
        {
          "data": {
            "text/plain": [
              "(tensor(45.), tensor(45.))"
            ]
          },
          "execution_count": 44,
          "metadata": {},
          "output_type": "execute_result"
        }
      ],
      "source": [
        "# Find the mean\n",
        "# Finding the mean requires the tensor to be of datatype of float32\n",
        "torch.mean(sample_tensor.type(torch.float32)), sample_tensor.type(torch.float32).mean()"
      ]
    },
    {
      "cell_type": "code",
      "execution_count": 45,
      "metadata": {
        "colab": {
          "base_uri": "https://localhost:8080/"
        },
        "id": "fxpgqnd-9hGM",
        "outputId": "c0fecd5c-568f-4232-e15b-8979cc41ea81"
      },
      "outputs": [
        {
          "data": {
            "text/plain": [
              "(tensor(450), tensor(450))"
            ]
          },
          "execution_count": 45,
          "metadata": {},
          "output_type": "execute_result"
        }
      ],
      "source": [
        "# Find Sum\n",
        "torch.sum(sample_tensor), sample_tensor.sum()"
      ]
    },
    {
      "cell_type": "markdown",
      "metadata": {
        "id": "cqb5Hacq95yY"
      },
      "source": [
        "## Finding the position min and max"
      ]
    },
    {
      "cell_type": "code",
      "execution_count": 46,
      "metadata": {
        "colab": {
          "base_uri": "https://localhost:8080/"
        },
        "id": "RnVNA5fs-YfP",
        "outputId": "9d993abb-54ac-4044-bf5b-6a61e9551385"
      },
      "outputs": [
        {
          "data": {
            "text/plain": [
              "tensor(0)"
            ]
          },
          "execution_count": 46,
          "metadata": {},
          "output_type": "execute_result"
        }
      ],
      "source": [
        "sample_tensor.argmin()"
      ]
    },
    {
      "cell_type": "code",
      "execution_count": 47,
      "metadata": {
        "colab": {
          "base_uri": "https://localhost:8080/"
        },
        "id": "B1bP2Z2J-hJx",
        "outputId": "a2ea4e52-c397-4389-cd8b-250a79163f34"
      },
      "outputs": [
        {
          "data": {
            "text/plain": [
              "tensor(9)"
            ]
          },
          "execution_count": 47,
          "metadata": {},
          "output_type": "execute_result"
        }
      ],
      "source": [
        "sample_tensor.argmax()"
      ]
    },
    {
      "cell_type": "markdown",
      "metadata": {
        "id": "JKbu4fl1-sml"
      },
      "source": [
        "## Reshaping, Stacking, Squeezing, and unsqueezing tensors\n",
        "* Reshaping - *Reshape an tensor to a different shape*\n",
        "* View - *Return a view of an input tensor of certain shape but keep the same memory*\n",
        "* Stacking - *Combining multiple tensors on top of each other (vstack) or side by side (hstack)*\n",
        "* Squeeze - *Removes all `1` diminesions from a tensor*\n",
        "* Unsequeeze - *Add a `1` dimension to a target tensor*\n",
        "* Permute - *Return a view of the input with dimensions permuted (swapped) in a certain way*"
      ]
    },
    {
      "cell_type": "code",
      "execution_count": 48,
      "metadata": {
        "colab": {
          "base_uri": "https://localhost:8080/"
        },
        "id": "Ak3HfiN5_SM3",
        "outputId": "bc688c43-5214-403b-86ee-f462a8808ca5"
      },
      "outputs": [
        {
          "data": {
            "text/plain": [
              "tensor([[ 0, 10, 20, 30, 40],\n",
              "        [50, 60, 70, 80, 90]])"
            ]
          },
          "execution_count": 48,
          "metadata": {},
          "output_type": "execute_result"
        }
      ],
      "source": [
        "# Change the shape\n",
        "sample_tensor.reshape(2, 5) # <- order of new matrix must match the no. of elements with prev. matrix"
      ]
    },
    {
      "cell_type": "code",
      "execution_count": 49,
      "metadata": {
        "colab": {
          "base_uri": "https://localhost:8080/"
        },
        "id": "KJNfjG3cAjPp",
        "outputId": "ed9a3147-2a36-41ab-e434-3da8ac4a9c51"
      },
      "outputs": [
        {
          "data": {
            "text/plain": [
              "tensor([[ 0],\n",
              "        [10],\n",
              "        [20],\n",
              "        [30],\n",
              "        [40],\n",
              "        [50],\n",
              "        [60],\n",
              "        [70],\n",
              "        [80],\n",
              "        [90]])"
            ]
          },
          "execution_count": 49,
          "metadata": {},
          "output_type": "execute_result"
        }
      ],
      "source": [
        "# Change the view\n",
        "sample_tensor.view(10, 1)"
      ]
    },
    {
      "cell_type": "code",
      "execution_count": 50,
      "metadata": {
        "colab": {
          "base_uri": "https://localhost:8080/"
        },
        "id": "3sxm_SUgBZXs",
        "outputId": "ef70d9c3-31a3-4852-834a-260bc843bffb"
      },
      "outputs": [
        {
          "data": {
            "text/plain": [
              "tensor([[ 0, 10, 20, 30, 40, 50, 60, 70, 80, 90],\n",
              "        [ 0, 10, 20, 30, 40, 50, 60, 70, 80, 90],\n",
              "        [ 0, 10, 20, 30, 40, 50, 60, 70, 80, 90],\n",
              "        [ 0, 10, 20, 30, 40, 50, 60, 70, 80, 90]])"
            ]
          },
          "execution_count": 50,
          "metadata": {},
          "output_type": "execute_result"
        }
      ],
      "source": [
        "# Stack tensor\n",
        "torch.stack([sample_tensor, sample_tensor, sample_tensor, sample_tensor], dim=0)"
      ]
    },
    {
      "cell_type": "code",
      "execution_count": 51,
      "metadata": {
        "colab": {
          "base_uri": "https://localhost:8080/"
        },
        "id": "AzKildo6B3Tr",
        "outputId": "374e8d51-053f-43be-e038-3b6ac825d066"
      },
      "outputs": [
        {
          "name": "stdout",
          "output_type": "stream",
          "text": [
            "Sample Tensor => tensor([[[0.7816, 0.8175, 0.8033, 0.5137, 0.9379, 0.0114, 0.8666, 0.8550,\n",
            "          0.1573, 0.8954, 0.9071, 0.7577, 0.2906, 0.5065, 0.3337, 0.6110,\n",
            "          0.7656, 0.1487, 0.5722, 0.1871, 0.5845, 0.9705, 0.2947, 0.2171,\n",
            "          0.6171, 0.5064, 0.6725, 0.4791, 0.2074, 0.4923, 0.0694, 0.8055,\n",
            "          0.3133, 0.3276, 0.5305, 0.1914, 0.7195, 0.9421, 0.1156, 0.6920,\n",
            "          0.6739, 0.8510, 0.3449, 0.5532, 0.8928, 0.7589, 0.0620, 0.0441,\n",
            "          0.8168, 0.4500, 0.8482, 0.4698, 0.1967, 0.7514, 0.5074, 0.3458,\n",
            "          0.5117, 0.7127, 0.7615, 0.5367, 0.8712, 0.9794, 0.5631, 0.1263,\n",
            "          0.0703, 0.2035, 0.9945, 0.2662, 0.0896, 0.6755, 0.6741, 0.4635,\n",
            "          0.5264, 0.0372, 0.9447, 0.3540, 0.1449, 0.2350, 0.1707, 0.3594,\n",
            "          0.7005, 0.3932, 0.0760, 0.6058, 0.5705, 0.2548, 0.5213, 0.2612,\n",
            "          0.5521, 0.9288, 0.6390, 0.1829, 0.0950, 0.0691, 0.6864, 0.1178,\n",
            "          0.4864, 0.5134, 0.9264, 0.8955],\n",
            "         [0.5764, 0.8392, 0.2486, 0.4410, 0.2367, 0.3716, 0.2754, 0.0780,\n",
            "          0.4520, 0.8584, 0.8161, 0.1898, 0.4633, 0.5115, 0.0095, 0.2358,\n",
            "          0.1870, 0.8287, 0.8859, 0.4354, 0.1888, 0.5736, 0.0777, 0.2775,\n",
            "          0.4082, 0.4028, 0.1507, 0.3538, 0.8693, 0.3737, 0.0050, 0.9798,\n",
            "          0.6291, 0.9799, 0.3665, 0.8472, 0.0374, 0.7402, 0.0733, 0.3025,\n",
            "          0.6671, 0.0523, 0.4168, 0.2717, 0.4713, 0.0816, 0.5352, 0.5060,\n",
            "          0.2712, 0.4661, 0.6402, 0.3345, 0.7518, 0.1222, 0.4870, 0.3268,\n",
            "          0.0666, 0.2081, 0.3833, 0.3311, 0.2592, 0.5312, 0.0478, 0.1840,\n",
            "          0.3036, 0.5452, 0.5968, 0.0232, 0.7866, 0.1033, 0.2707, 0.8102,\n",
            "          0.2462, 0.2793, 0.9930, 0.0547, 0.3289, 0.8950, 0.5580, 0.5117,\n",
            "          0.9390, 0.5536, 0.0589, 0.5738, 0.9979, 0.4362, 0.9559, 0.1576,\n",
            "          0.4833, 0.8140, 0.4656, 0.7753, 0.6500, 0.4566, 0.0660, 0.8484,\n",
            "          0.4090, 0.6970, 0.8907, 0.1369],\n",
            "         [0.9711, 0.4408, 0.8021, 0.8830, 0.7140, 0.3284, 0.2682, 0.1135,\n",
            "          0.1689, 0.5369, 0.3992, 0.7247, 0.0937, 0.2105, 0.7539, 0.3483,\n",
            "          0.9209, 0.1692, 0.9778, 0.2373, 0.2703, 0.8660, 0.1896, 0.4895,\n",
            "          0.9085, 0.9719, 0.1604, 0.7495, 0.6206, 0.4324, 0.6918, 0.4601,\n",
            "          0.6951, 0.1087, 0.0646, 0.4558, 0.7870, 0.7982, 0.1582, 0.8975,\n",
            "          0.0337, 0.3022, 0.8093, 0.3607, 0.0367, 0.6989, 0.4316, 0.9023,\n",
            "          0.4297, 0.1162, 0.9943, 0.8620, 0.0971, 0.4082, 0.9463, 0.9919,\n",
            "          0.1090, 0.0605, 0.0030, 0.7874, 0.2436, 0.1174, 0.1843, 0.1191,\n",
            "          0.8697, 0.5927, 0.8938, 0.2888, 0.6721, 0.4798, 0.7848, 0.2580,\n",
            "          0.7504, 0.0072, 0.8509, 0.1092, 0.3450, 0.8714, 0.5641, 0.8844,\n",
            "          0.1767, 0.8845, 0.7929, 0.6608, 0.7765, 0.5052, 0.4921, 0.4968,\n",
            "          0.6683, 0.3660, 0.4993, 0.2102, 0.1294, 0.9391, 0.5946, 0.0135,\n",
            "          0.3623, 0.0638, 0.4785, 0.5461],\n",
            "         [0.0897, 0.8697, 0.0441, 0.4396, 0.4957, 0.6367, 0.1736, 0.1314,\n",
            "          0.8726, 0.5906, 0.6245, 0.0530, 0.1226, 0.6205, 0.1410, 0.6100,\n",
            "          0.4518, 0.5448, 0.0894, 0.6099, 0.1933, 0.5072, 0.5468, 0.2845,\n",
            "          0.4551, 0.9845, 0.5105, 0.2488, 0.0153, 0.8590, 0.0482, 0.4384,\n",
            "          0.1337, 0.7914, 0.8699, 0.7000, 0.1905, 0.8424, 0.4480, 0.1211,\n",
            "          0.2475, 0.7970, 0.9304, 0.6753, 0.4942, 0.2462, 0.8667, 0.6346,\n",
            "          0.5023, 0.7746, 0.5377, 0.8013, 0.9574, 0.8709, 0.2596, 0.6109,\n",
            "          0.7326, 0.9226, 0.8958, 0.4717, 0.3554, 0.5122, 0.8400, 0.0049,\n",
            "          0.1542, 0.9618, 0.5046, 0.8730, 0.9784, 0.9240, 0.9741, 0.9494,\n",
            "          0.5496, 0.9107, 0.7774, 0.5195, 0.3490, 0.9156, 0.8103, 0.5626,\n",
            "          0.7293, 0.1849, 0.6433, 0.9826, 0.5272, 0.4206, 0.5953, 0.9458,\n",
            "          0.1081, 0.4589, 0.0032, 0.0672, 0.6808, 0.6416, 0.5097, 0.9509,\n",
            "          0.5131, 0.5089, 0.2472, 0.2112],\n",
            "         [0.1333, 0.9295, 0.6887, 0.4879, 0.0497, 0.9633, 0.9015, 0.2215,\n",
            "          0.3675, 0.8798, 0.0248, 0.9949, 0.8535, 0.6193, 0.9998, 0.1709,\n",
            "          0.6342, 0.6204, 0.5729, 0.8801, 0.8925, 0.3984, 0.2981, 0.9006,\n",
            "          0.6108, 0.9522, 0.4298, 0.9835, 0.9183, 0.3689, 0.1529, 0.7244,\n",
            "          0.2326, 0.7726, 0.9514, 0.5962, 0.2367, 0.1393, 0.7147, 0.6925,\n",
            "          0.4181, 0.6591, 0.4037, 0.2293, 0.5656, 0.8423, 0.8630, 0.6571,\n",
            "          0.4345, 0.2512, 0.2829, 0.2235, 0.6350, 0.5905, 0.9494, 0.8958,\n",
            "          0.7331, 0.2415, 0.6345, 0.1769, 0.0012, 0.2067, 0.1605, 0.0284,\n",
            "          0.1921, 0.5144, 0.6300, 0.5767, 0.3042, 0.3856, 0.5311, 0.4210,\n",
            "          0.2516, 0.7614, 0.0688, 0.7629, 0.3150, 0.5132, 0.3254, 0.1133,\n",
            "          0.7250, 0.8516, 0.2837, 0.6108, 0.1701, 0.6710, 0.2673, 0.9905,\n",
            "          0.3892, 0.3554, 0.3652, 0.1956, 0.5788, 0.4282, 0.7852, 0.6149,\n",
            "          0.0245, 0.5994, 0.1935, 0.9998],\n",
            "         [0.6070, 0.9743, 0.3067, 0.1925, 0.6450, 0.6842, 0.7847, 0.7642,\n",
            "          0.8253, 0.4672, 0.9879, 0.2674, 0.0896, 0.5966, 0.3260, 0.2143,\n",
            "          0.3972, 0.7184, 0.0776, 0.9459, 0.9707, 0.8739, 0.5302, 0.1487,\n",
            "          0.9737, 0.0785, 0.2262, 0.7324, 0.5136, 0.4585, 0.9587, 0.5022,\n",
            "          0.3106, 0.8841, 0.4578, 0.5691, 0.6888, 0.6697, 0.8226, 0.4737,\n",
            "          0.8262, 0.1126, 0.0990, 0.9365, 0.2381, 0.4582, 0.7450, 0.9222,\n",
            "          0.2442, 0.5244, 0.6700, 0.1768, 0.0182, 0.4101, 0.7165, 0.8845,\n",
            "          0.1147, 0.9298, 0.1522, 0.4915, 0.8555, 0.2405, 0.2056, 0.0466,\n",
            "          0.0427, 0.7243, 0.9523, 0.7352, 0.6964, 0.3202, 0.8323, 0.3084,\n",
            "          0.9591, 0.2706, 0.3415, 0.7303, 0.7535, 0.1523, 0.8550, 0.4444,\n",
            "          0.1322, 0.5604, 0.2438, 0.3261, 0.8599, 0.7861, 0.3198, 0.6222,\n",
            "          0.1601, 0.1528, 0.3566, 0.6542, 0.3799, 0.4102, 0.4302, 0.2873,\n",
            "          0.6973, 0.4761, 0.7062, 0.5476],\n",
            "         [0.5292, 0.0572, 0.9683, 0.0061, 0.7739, 0.7124, 0.2023, 0.5532,\n",
            "          0.2015, 0.9634, 0.9521, 0.1402, 0.8915, 0.5828, 0.3589, 0.0321,\n",
            "          0.2363, 0.3746, 0.5626, 0.7612, 0.9905, 0.3705, 0.6610, 0.5523,\n",
            "          0.6870, 0.4239, 0.0391, 0.8006, 0.0451, 0.8088, 0.9231, 0.0952,\n",
            "          0.0795, 0.8317, 0.0220, 0.7921, 0.8041, 0.2851, 0.8732, 0.4087,\n",
            "          0.8262, 0.9718, 0.5801, 0.6781, 0.4903, 0.6358, 0.4128, 0.5494,\n",
            "          0.9805, 0.1031, 0.3664, 0.1733, 0.2657, 0.6837, 0.0676, 0.8954,\n",
            "          0.6991, 0.3957, 0.3994, 0.6729, 0.8253, 0.6112, 0.1707, 0.4111,\n",
            "          0.2172, 0.5029, 0.9311, 0.3726, 0.6629, 0.3855, 0.4433, 0.6458,\n",
            "          0.9937, 0.9175, 0.0824, 0.1931, 0.0573, 0.3724, 0.3115, 0.9150,\n",
            "          0.1078, 0.7162, 0.9056, 0.6567, 0.6950, 0.5597, 0.0166, 0.9072,\n",
            "          0.6356, 0.3125, 0.6809, 0.0991, 0.4830, 0.8145, 0.9216, 0.9420,\n",
            "          0.5035, 0.6222, 0.6839, 0.7170],\n",
            "         [0.9221, 0.0871, 0.9155, 0.8029, 0.0656, 0.2103, 0.3509, 0.0514,\n",
            "          0.6516, 0.7111, 0.8883, 0.5946, 0.6467, 0.4661, 0.7072, 0.6876,\n",
            "          0.5520, 0.7781, 0.7948, 0.9436, 0.1280, 0.0315, 0.9778, 0.6828,\n",
            "          0.9716, 0.6877, 0.9451, 0.7306, 0.0324, 0.6314, 0.6698, 0.2833,\n",
            "          0.7131, 0.0556, 0.3169, 0.5683, 0.4053, 0.3942, 0.0991, 0.0980,\n",
            "          0.3217, 0.7072, 0.7654, 0.3238, 0.7825, 0.3322, 0.3709, 0.9053,\n",
            "          0.8486, 0.5855, 0.4262, 0.1981, 0.6411, 0.7925, 0.1687, 0.7023,\n",
            "          0.6551, 0.0790, 0.6134, 0.8050, 0.3380, 0.3184, 0.4448, 0.8927,\n",
            "          0.9407, 0.2395, 0.3919, 0.6784, 0.7093, 0.0156, 0.4549, 0.9505,\n",
            "          0.4667, 0.3413, 0.8422, 0.2083, 0.1996, 0.9316, 0.1189, 0.0467,\n",
            "          0.5979, 0.7756, 0.9624, 0.2579, 0.7551, 0.5372, 0.4802, 0.6986,\n",
            "          0.2089, 0.0224, 0.8049, 0.7587, 0.5843, 0.2245, 0.8398, 0.2535,\n",
            "          0.7783, 0.4934, 0.7442, 0.7374],\n",
            "         [0.8556, 0.4270, 0.1578, 0.0469, 0.1760, 0.5940, 0.6206, 0.2700,\n",
            "          0.4675, 0.1981, 0.6818, 0.7604, 0.0205, 0.1015, 0.1633, 0.8375,\n",
            "          0.0560, 0.7944, 0.4306, 0.4713, 0.7609, 0.6774, 0.8418, 0.8065,\n",
            "          0.5796, 0.8071, 0.9773, 0.6900, 0.0045, 0.1379, 0.0729, 0.3133,\n",
            "          0.8660, 0.6122, 0.6237, 0.0355, 0.4432, 0.2458, 0.0756, 0.0831,\n",
            "          0.7859, 0.5106, 0.8106, 0.8208, 0.3074, 0.1669, 0.6045, 0.3672,\n",
            "          0.2118, 0.1189, 0.3364, 0.5465, 0.4763, 0.1683, 0.6864, 0.5739,\n",
            "          0.2143, 0.9815, 0.4056, 0.4018, 0.5135, 0.0613, 0.1320, 0.0953,\n",
            "          0.1927, 0.3712, 0.5863, 0.8776, 0.5011, 0.5158, 0.6372, 0.9082,\n",
            "          0.0761, 0.8849, 0.7695, 0.1744, 0.8832, 0.2570, 0.5681, 0.3617,\n",
            "          0.8992, 0.0997, 0.0577, 0.7550, 0.3550, 0.9106, 0.9413, 0.1400,\n",
            "          0.0218, 0.0584, 0.0505, 0.5177, 0.7421, 0.5979, 0.5991, 0.6935,\n",
            "          0.2809, 0.9469, 0.3854, 0.3951],\n",
            "         [0.6743, 0.4009, 0.5905, 0.7033, 0.4994, 0.7221, 0.1052, 0.5150,\n",
            "          0.8762, 0.0277, 0.9913, 0.5698, 0.3687, 0.3982, 0.7381, 0.5267,\n",
            "          0.8304, 0.2993, 0.5530, 0.1825, 0.0283, 0.4213, 0.3142, 0.0928,\n",
            "          0.2403, 0.9418, 0.9252, 0.0144, 0.7963, 0.1161, 0.1590, 0.6218,\n",
            "          0.7208, 0.0090, 0.8570, 0.7074, 0.1302, 0.3945, 0.3121, 0.6735,\n",
            "          0.7165, 0.6092, 0.7985, 0.1468, 0.6524, 0.9420, 0.1896, 0.8208,\n",
            "          0.0536, 0.0258, 0.8587, 0.2478, 0.9505, 0.6180, 0.5864, 0.1046,\n",
            "          0.4717, 0.6539, 0.0799, 0.7583, 0.8565, 0.7726, 0.9087, 0.4471,\n",
            "          0.1206, 0.8199, 0.3348, 0.0978, 0.8923, 0.2914, 0.1083, 0.5526,\n",
            "          0.0105, 0.3653, 0.7875, 0.3770, 0.9289, 0.1569, 0.8547, 0.9436,\n",
            "          0.5225, 0.3949, 0.2456, 0.2698, 0.9497, 0.0519, 0.2720, 0.3639,\n",
            "          0.5939, 0.5434, 0.3552, 0.2522, 0.1603, 0.3861, 0.7699, 0.3591,\n",
            "          0.9284, 0.0155, 0.3404, 0.5769]]])\n",
            "Shape of sample Tensor => torch.Size([1, 10, 100])\n",
            "Squeeze Tensor => tensor([[0.7816, 0.8175, 0.8033, 0.5137, 0.9379, 0.0114, 0.8666, 0.8550, 0.1573,\n",
            "         0.8954, 0.9071, 0.7577, 0.2906, 0.5065, 0.3337, 0.6110, 0.7656, 0.1487,\n",
            "         0.5722, 0.1871, 0.5845, 0.9705, 0.2947, 0.2171, 0.6171, 0.5064, 0.6725,\n",
            "         0.4791, 0.2074, 0.4923, 0.0694, 0.8055, 0.3133, 0.3276, 0.5305, 0.1914,\n",
            "         0.7195, 0.9421, 0.1156, 0.6920, 0.6739, 0.8510, 0.3449, 0.5532, 0.8928,\n",
            "         0.7589, 0.0620, 0.0441, 0.8168, 0.4500, 0.8482, 0.4698, 0.1967, 0.7514,\n",
            "         0.5074, 0.3458, 0.5117, 0.7127, 0.7615, 0.5367, 0.8712, 0.9794, 0.5631,\n",
            "         0.1263, 0.0703, 0.2035, 0.9945, 0.2662, 0.0896, 0.6755, 0.6741, 0.4635,\n",
            "         0.5264, 0.0372, 0.9447, 0.3540, 0.1449, 0.2350, 0.1707, 0.3594, 0.7005,\n",
            "         0.3932, 0.0760, 0.6058, 0.5705, 0.2548, 0.5213, 0.2612, 0.5521, 0.9288,\n",
            "         0.6390, 0.1829, 0.0950, 0.0691, 0.6864, 0.1178, 0.4864, 0.5134, 0.9264,\n",
            "         0.8955],\n",
            "        [0.5764, 0.8392, 0.2486, 0.4410, 0.2367, 0.3716, 0.2754, 0.0780, 0.4520,\n",
            "         0.8584, 0.8161, 0.1898, 0.4633, 0.5115, 0.0095, 0.2358, 0.1870, 0.8287,\n",
            "         0.8859, 0.4354, 0.1888, 0.5736, 0.0777, 0.2775, 0.4082, 0.4028, 0.1507,\n",
            "         0.3538, 0.8693, 0.3737, 0.0050, 0.9798, 0.6291, 0.9799, 0.3665, 0.8472,\n",
            "         0.0374, 0.7402, 0.0733, 0.3025, 0.6671, 0.0523, 0.4168, 0.2717, 0.4713,\n",
            "         0.0816, 0.5352, 0.5060, 0.2712, 0.4661, 0.6402, 0.3345, 0.7518, 0.1222,\n",
            "         0.4870, 0.3268, 0.0666, 0.2081, 0.3833, 0.3311, 0.2592, 0.5312, 0.0478,\n",
            "         0.1840, 0.3036, 0.5452, 0.5968, 0.0232, 0.7866, 0.1033, 0.2707, 0.8102,\n",
            "         0.2462, 0.2793, 0.9930, 0.0547, 0.3289, 0.8950, 0.5580, 0.5117, 0.9390,\n",
            "         0.5536, 0.0589, 0.5738, 0.9979, 0.4362, 0.9559, 0.1576, 0.4833, 0.8140,\n",
            "         0.4656, 0.7753, 0.6500, 0.4566, 0.0660, 0.8484, 0.4090, 0.6970, 0.8907,\n",
            "         0.1369],\n",
            "        [0.9711, 0.4408, 0.8021, 0.8830, 0.7140, 0.3284, 0.2682, 0.1135, 0.1689,\n",
            "         0.5369, 0.3992, 0.7247, 0.0937, 0.2105, 0.7539, 0.3483, 0.9209, 0.1692,\n",
            "         0.9778, 0.2373, 0.2703, 0.8660, 0.1896, 0.4895, 0.9085, 0.9719, 0.1604,\n",
            "         0.7495, 0.6206, 0.4324, 0.6918, 0.4601, 0.6951, 0.1087, 0.0646, 0.4558,\n",
            "         0.7870, 0.7982, 0.1582, 0.8975, 0.0337, 0.3022, 0.8093, 0.3607, 0.0367,\n",
            "         0.6989, 0.4316, 0.9023, 0.4297, 0.1162, 0.9943, 0.8620, 0.0971, 0.4082,\n",
            "         0.9463, 0.9919, 0.1090, 0.0605, 0.0030, 0.7874, 0.2436, 0.1174, 0.1843,\n",
            "         0.1191, 0.8697, 0.5927, 0.8938, 0.2888, 0.6721, 0.4798, 0.7848, 0.2580,\n",
            "         0.7504, 0.0072, 0.8509, 0.1092, 0.3450, 0.8714, 0.5641, 0.8844, 0.1767,\n",
            "         0.8845, 0.7929, 0.6608, 0.7765, 0.5052, 0.4921, 0.4968, 0.6683, 0.3660,\n",
            "         0.4993, 0.2102, 0.1294, 0.9391, 0.5946, 0.0135, 0.3623, 0.0638, 0.4785,\n",
            "         0.5461],\n",
            "        [0.0897, 0.8697, 0.0441, 0.4396, 0.4957, 0.6367, 0.1736, 0.1314, 0.8726,\n",
            "         0.5906, 0.6245, 0.0530, 0.1226, 0.6205, 0.1410, 0.6100, 0.4518, 0.5448,\n",
            "         0.0894, 0.6099, 0.1933, 0.5072, 0.5468, 0.2845, 0.4551, 0.9845, 0.5105,\n",
            "         0.2488, 0.0153, 0.8590, 0.0482, 0.4384, 0.1337, 0.7914, 0.8699, 0.7000,\n",
            "         0.1905, 0.8424, 0.4480, 0.1211, 0.2475, 0.7970, 0.9304, 0.6753, 0.4942,\n",
            "         0.2462, 0.8667, 0.6346, 0.5023, 0.7746, 0.5377, 0.8013, 0.9574, 0.8709,\n",
            "         0.2596, 0.6109, 0.7326, 0.9226, 0.8958, 0.4717, 0.3554, 0.5122, 0.8400,\n",
            "         0.0049, 0.1542, 0.9618, 0.5046, 0.8730, 0.9784, 0.9240, 0.9741, 0.9494,\n",
            "         0.5496, 0.9107, 0.7774, 0.5195, 0.3490, 0.9156, 0.8103, 0.5626, 0.7293,\n",
            "         0.1849, 0.6433, 0.9826, 0.5272, 0.4206, 0.5953, 0.9458, 0.1081, 0.4589,\n",
            "         0.0032, 0.0672, 0.6808, 0.6416, 0.5097, 0.9509, 0.5131, 0.5089, 0.2472,\n",
            "         0.2112],\n",
            "        [0.1333, 0.9295, 0.6887, 0.4879, 0.0497, 0.9633, 0.9015, 0.2215, 0.3675,\n",
            "         0.8798, 0.0248, 0.9949, 0.8535, 0.6193, 0.9998, 0.1709, 0.6342, 0.6204,\n",
            "         0.5729, 0.8801, 0.8925, 0.3984, 0.2981, 0.9006, 0.6108, 0.9522, 0.4298,\n",
            "         0.9835, 0.9183, 0.3689, 0.1529, 0.7244, 0.2326, 0.7726, 0.9514, 0.5962,\n",
            "         0.2367, 0.1393, 0.7147, 0.6925, 0.4181, 0.6591, 0.4037, 0.2293, 0.5656,\n",
            "         0.8423, 0.8630, 0.6571, 0.4345, 0.2512, 0.2829, 0.2235, 0.6350, 0.5905,\n",
            "         0.9494, 0.8958, 0.7331, 0.2415, 0.6345, 0.1769, 0.0012, 0.2067, 0.1605,\n",
            "         0.0284, 0.1921, 0.5144, 0.6300, 0.5767, 0.3042, 0.3856, 0.5311, 0.4210,\n",
            "         0.2516, 0.7614, 0.0688, 0.7629, 0.3150, 0.5132, 0.3254, 0.1133, 0.7250,\n",
            "         0.8516, 0.2837, 0.6108, 0.1701, 0.6710, 0.2673, 0.9905, 0.3892, 0.3554,\n",
            "         0.3652, 0.1956, 0.5788, 0.4282, 0.7852, 0.6149, 0.0245, 0.5994, 0.1935,\n",
            "         0.9998],\n",
            "        [0.6070, 0.9743, 0.3067, 0.1925, 0.6450, 0.6842, 0.7847, 0.7642, 0.8253,\n",
            "         0.4672, 0.9879, 0.2674, 0.0896, 0.5966, 0.3260, 0.2143, 0.3972, 0.7184,\n",
            "         0.0776, 0.9459, 0.9707, 0.8739, 0.5302, 0.1487, 0.9737, 0.0785, 0.2262,\n",
            "         0.7324, 0.5136, 0.4585, 0.9587, 0.5022, 0.3106, 0.8841, 0.4578, 0.5691,\n",
            "         0.6888, 0.6697, 0.8226, 0.4737, 0.8262, 0.1126, 0.0990, 0.9365, 0.2381,\n",
            "         0.4582, 0.7450, 0.9222, 0.2442, 0.5244, 0.6700, 0.1768, 0.0182, 0.4101,\n",
            "         0.7165, 0.8845, 0.1147, 0.9298, 0.1522, 0.4915, 0.8555, 0.2405, 0.2056,\n",
            "         0.0466, 0.0427, 0.7243, 0.9523, 0.7352, 0.6964, 0.3202, 0.8323, 0.3084,\n",
            "         0.9591, 0.2706, 0.3415, 0.7303, 0.7535, 0.1523, 0.8550, 0.4444, 0.1322,\n",
            "         0.5604, 0.2438, 0.3261, 0.8599, 0.7861, 0.3198, 0.6222, 0.1601, 0.1528,\n",
            "         0.3566, 0.6542, 0.3799, 0.4102, 0.4302, 0.2873, 0.6973, 0.4761, 0.7062,\n",
            "         0.5476],\n",
            "        [0.5292, 0.0572, 0.9683, 0.0061, 0.7739, 0.7124, 0.2023, 0.5532, 0.2015,\n",
            "         0.9634, 0.9521, 0.1402, 0.8915, 0.5828, 0.3589, 0.0321, 0.2363, 0.3746,\n",
            "         0.5626, 0.7612, 0.9905, 0.3705, 0.6610, 0.5523, 0.6870, 0.4239, 0.0391,\n",
            "         0.8006, 0.0451, 0.8088, 0.9231, 0.0952, 0.0795, 0.8317, 0.0220, 0.7921,\n",
            "         0.8041, 0.2851, 0.8732, 0.4087, 0.8262, 0.9718, 0.5801, 0.6781, 0.4903,\n",
            "         0.6358, 0.4128, 0.5494, 0.9805, 0.1031, 0.3664, 0.1733, 0.2657, 0.6837,\n",
            "         0.0676, 0.8954, 0.6991, 0.3957, 0.3994, 0.6729, 0.8253, 0.6112, 0.1707,\n",
            "         0.4111, 0.2172, 0.5029, 0.9311, 0.3726, 0.6629, 0.3855, 0.4433, 0.6458,\n",
            "         0.9937, 0.9175, 0.0824, 0.1931, 0.0573, 0.3724, 0.3115, 0.9150, 0.1078,\n",
            "         0.7162, 0.9056, 0.6567, 0.6950, 0.5597, 0.0166, 0.9072, 0.6356, 0.3125,\n",
            "         0.6809, 0.0991, 0.4830, 0.8145, 0.9216, 0.9420, 0.5035, 0.6222, 0.6839,\n",
            "         0.7170],\n",
            "        [0.9221, 0.0871, 0.9155, 0.8029, 0.0656, 0.2103, 0.3509, 0.0514, 0.6516,\n",
            "         0.7111, 0.8883, 0.5946, 0.6467, 0.4661, 0.7072, 0.6876, 0.5520, 0.7781,\n",
            "         0.7948, 0.9436, 0.1280, 0.0315, 0.9778, 0.6828, 0.9716, 0.6877, 0.9451,\n",
            "         0.7306, 0.0324, 0.6314, 0.6698, 0.2833, 0.7131, 0.0556, 0.3169, 0.5683,\n",
            "         0.4053, 0.3942, 0.0991, 0.0980, 0.3217, 0.7072, 0.7654, 0.3238, 0.7825,\n",
            "         0.3322, 0.3709, 0.9053, 0.8486, 0.5855, 0.4262, 0.1981, 0.6411, 0.7925,\n",
            "         0.1687, 0.7023, 0.6551, 0.0790, 0.6134, 0.8050, 0.3380, 0.3184, 0.4448,\n",
            "         0.8927, 0.9407, 0.2395, 0.3919, 0.6784, 0.7093, 0.0156, 0.4549, 0.9505,\n",
            "         0.4667, 0.3413, 0.8422, 0.2083, 0.1996, 0.9316, 0.1189, 0.0467, 0.5979,\n",
            "         0.7756, 0.9624, 0.2579, 0.7551, 0.5372, 0.4802, 0.6986, 0.2089, 0.0224,\n",
            "         0.8049, 0.7587, 0.5843, 0.2245, 0.8398, 0.2535, 0.7783, 0.4934, 0.7442,\n",
            "         0.7374],\n",
            "        [0.8556, 0.4270, 0.1578, 0.0469, 0.1760, 0.5940, 0.6206, 0.2700, 0.4675,\n",
            "         0.1981, 0.6818, 0.7604, 0.0205, 0.1015, 0.1633, 0.8375, 0.0560, 0.7944,\n",
            "         0.4306, 0.4713, 0.7609, 0.6774, 0.8418, 0.8065, 0.5796, 0.8071, 0.9773,\n",
            "         0.6900, 0.0045, 0.1379, 0.0729, 0.3133, 0.8660, 0.6122, 0.6237, 0.0355,\n",
            "         0.4432, 0.2458, 0.0756, 0.0831, 0.7859, 0.5106, 0.8106, 0.8208, 0.3074,\n",
            "         0.1669, 0.6045, 0.3672, 0.2118, 0.1189, 0.3364, 0.5465, 0.4763, 0.1683,\n",
            "         0.6864, 0.5739, 0.2143, 0.9815, 0.4056, 0.4018, 0.5135, 0.0613, 0.1320,\n",
            "         0.0953, 0.1927, 0.3712, 0.5863, 0.8776, 0.5011, 0.5158, 0.6372, 0.9082,\n",
            "         0.0761, 0.8849, 0.7695, 0.1744, 0.8832, 0.2570, 0.5681, 0.3617, 0.8992,\n",
            "         0.0997, 0.0577, 0.7550, 0.3550, 0.9106, 0.9413, 0.1400, 0.0218, 0.0584,\n",
            "         0.0505, 0.5177, 0.7421, 0.5979, 0.5991, 0.6935, 0.2809, 0.9469, 0.3854,\n",
            "         0.3951],\n",
            "        [0.6743, 0.4009, 0.5905, 0.7033, 0.4994, 0.7221, 0.1052, 0.5150, 0.8762,\n",
            "         0.0277, 0.9913, 0.5698, 0.3687, 0.3982, 0.7381, 0.5267, 0.8304, 0.2993,\n",
            "         0.5530, 0.1825, 0.0283, 0.4213, 0.3142, 0.0928, 0.2403, 0.9418, 0.9252,\n",
            "         0.0144, 0.7963, 0.1161, 0.1590, 0.6218, 0.7208, 0.0090, 0.8570, 0.7074,\n",
            "         0.1302, 0.3945, 0.3121, 0.6735, 0.7165, 0.6092, 0.7985, 0.1468, 0.6524,\n",
            "         0.9420, 0.1896, 0.8208, 0.0536, 0.0258, 0.8587, 0.2478, 0.9505, 0.6180,\n",
            "         0.5864, 0.1046, 0.4717, 0.6539, 0.0799, 0.7583, 0.8565, 0.7726, 0.9087,\n",
            "         0.4471, 0.1206, 0.8199, 0.3348, 0.0978, 0.8923, 0.2914, 0.1083, 0.5526,\n",
            "         0.0105, 0.3653, 0.7875, 0.3770, 0.9289, 0.1569, 0.8547, 0.9436, 0.5225,\n",
            "         0.3949, 0.2456, 0.2698, 0.9497, 0.0519, 0.2720, 0.3639, 0.5939, 0.5434,\n",
            "         0.3552, 0.2522, 0.1603, 0.3861, 0.7699, 0.3591, 0.9284, 0.0155, 0.3404,\n",
            "         0.5769]])\n",
            "Shape of Squeeze Tensor => torch.Size([10, 100])\n"
          ]
        }
      ],
      "source": [
        "___ = torch.rand(1, 10, 100)\n",
        "__ = torch.squeeze(___, 0)\n",
        "print(f\"Sample Tensor => {___}\")\n",
        "print(f\"Shape of sample Tensor => {___.shape}\")\n",
        "print(f\"Squeeze Tensor => {__}\")\n",
        "print(f\"Shape of Squeeze Tensor => {__.shape}\")"
      ]
    },
    {
      "cell_type": "code",
      "execution_count": 52,
      "metadata": {
        "colab": {
          "base_uri": "https://localhost:8080/"
        },
        "id": "JhhYnvHcDWTl",
        "outputId": "fb984864-08a6-488e-a714-affec29acb8d"
      },
      "outputs": [
        {
          "name": "stdout",
          "output_type": "stream",
          "text": [
            "tensor([[[0.7816, 0.8175, 0.8033, 0.5137, 0.9379, 0.0114, 0.8666, 0.8550,\n",
            "          0.1573, 0.8954, 0.9071, 0.7577, 0.2906, 0.5065, 0.3337, 0.6110,\n",
            "          0.7656, 0.1487, 0.5722, 0.1871, 0.5845, 0.9705, 0.2947, 0.2171,\n",
            "          0.6171, 0.5064, 0.6725, 0.4791, 0.2074, 0.4923, 0.0694, 0.8055,\n",
            "          0.3133, 0.3276, 0.5305, 0.1914, 0.7195, 0.9421, 0.1156, 0.6920,\n",
            "          0.6739, 0.8510, 0.3449, 0.5532, 0.8928, 0.7589, 0.0620, 0.0441,\n",
            "          0.8168, 0.4500, 0.8482, 0.4698, 0.1967, 0.7514, 0.5074, 0.3458,\n",
            "          0.5117, 0.7127, 0.7615, 0.5367, 0.8712, 0.9794, 0.5631, 0.1263,\n",
            "          0.0703, 0.2035, 0.9945, 0.2662, 0.0896, 0.6755, 0.6741, 0.4635,\n",
            "          0.5264, 0.0372, 0.9447, 0.3540, 0.1449, 0.2350, 0.1707, 0.3594,\n",
            "          0.7005, 0.3932, 0.0760, 0.6058, 0.5705, 0.2548, 0.5213, 0.2612,\n",
            "          0.5521, 0.9288, 0.6390, 0.1829, 0.0950, 0.0691, 0.6864, 0.1178,\n",
            "          0.4864, 0.5134, 0.9264, 0.8955],\n",
            "         [0.5764, 0.8392, 0.2486, 0.4410, 0.2367, 0.3716, 0.2754, 0.0780,\n",
            "          0.4520, 0.8584, 0.8161, 0.1898, 0.4633, 0.5115, 0.0095, 0.2358,\n",
            "          0.1870, 0.8287, 0.8859, 0.4354, 0.1888, 0.5736, 0.0777, 0.2775,\n",
            "          0.4082, 0.4028, 0.1507, 0.3538, 0.8693, 0.3737, 0.0050, 0.9798,\n",
            "          0.6291, 0.9799, 0.3665, 0.8472, 0.0374, 0.7402, 0.0733, 0.3025,\n",
            "          0.6671, 0.0523, 0.4168, 0.2717, 0.4713, 0.0816, 0.5352, 0.5060,\n",
            "          0.2712, 0.4661, 0.6402, 0.3345, 0.7518, 0.1222, 0.4870, 0.3268,\n",
            "          0.0666, 0.2081, 0.3833, 0.3311, 0.2592, 0.5312, 0.0478, 0.1840,\n",
            "          0.3036, 0.5452, 0.5968, 0.0232, 0.7866, 0.1033, 0.2707, 0.8102,\n",
            "          0.2462, 0.2793, 0.9930, 0.0547, 0.3289, 0.8950, 0.5580, 0.5117,\n",
            "          0.9390, 0.5536, 0.0589, 0.5738, 0.9979, 0.4362, 0.9559, 0.1576,\n",
            "          0.4833, 0.8140, 0.4656, 0.7753, 0.6500, 0.4566, 0.0660, 0.8484,\n",
            "          0.4090, 0.6970, 0.8907, 0.1369],\n",
            "         [0.9711, 0.4408, 0.8021, 0.8830, 0.7140, 0.3284, 0.2682, 0.1135,\n",
            "          0.1689, 0.5369, 0.3992, 0.7247, 0.0937, 0.2105, 0.7539, 0.3483,\n",
            "          0.9209, 0.1692, 0.9778, 0.2373, 0.2703, 0.8660, 0.1896, 0.4895,\n",
            "          0.9085, 0.9719, 0.1604, 0.7495, 0.6206, 0.4324, 0.6918, 0.4601,\n",
            "          0.6951, 0.1087, 0.0646, 0.4558, 0.7870, 0.7982, 0.1582, 0.8975,\n",
            "          0.0337, 0.3022, 0.8093, 0.3607, 0.0367, 0.6989, 0.4316, 0.9023,\n",
            "          0.4297, 0.1162, 0.9943, 0.8620, 0.0971, 0.4082, 0.9463, 0.9919,\n",
            "          0.1090, 0.0605, 0.0030, 0.7874, 0.2436, 0.1174, 0.1843, 0.1191,\n",
            "          0.8697, 0.5927, 0.8938, 0.2888, 0.6721, 0.4798, 0.7848, 0.2580,\n",
            "          0.7504, 0.0072, 0.8509, 0.1092, 0.3450, 0.8714, 0.5641, 0.8844,\n",
            "          0.1767, 0.8845, 0.7929, 0.6608, 0.7765, 0.5052, 0.4921, 0.4968,\n",
            "          0.6683, 0.3660, 0.4993, 0.2102, 0.1294, 0.9391, 0.5946, 0.0135,\n",
            "          0.3623, 0.0638, 0.4785, 0.5461],\n",
            "         [0.0897, 0.8697, 0.0441, 0.4396, 0.4957, 0.6367, 0.1736, 0.1314,\n",
            "          0.8726, 0.5906, 0.6245, 0.0530, 0.1226, 0.6205, 0.1410, 0.6100,\n",
            "          0.4518, 0.5448, 0.0894, 0.6099, 0.1933, 0.5072, 0.5468, 0.2845,\n",
            "          0.4551, 0.9845, 0.5105, 0.2488, 0.0153, 0.8590, 0.0482, 0.4384,\n",
            "          0.1337, 0.7914, 0.8699, 0.7000, 0.1905, 0.8424, 0.4480, 0.1211,\n",
            "          0.2475, 0.7970, 0.9304, 0.6753, 0.4942, 0.2462, 0.8667, 0.6346,\n",
            "          0.5023, 0.7746, 0.5377, 0.8013, 0.9574, 0.8709, 0.2596, 0.6109,\n",
            "          0.7326, 0.9226, 0.8958, 0.4717, 0.3554, 0.5122, 0.8400, 0.0049,\n",
            "          0.1542, 0.9618, 0.5046, 0.8730, 0.9784, 0.9240, 0.9741, 0.9494,\n",
            "          0.5496, 0.9107, 0.7774, 0.5195, 0.3490, 0.9156, 0.8103, 0.5626,\n",
            "          0.7293, 0.1849, 0.6433, 0.9826, 0.5272, 0.4206, 0.5953, 0.9458,\n",
            "          0.1081, 0.4589, 0.0032, 0.0672, 0.6808, 0.6416, 0.5097, 0.9509,\n",
            "          0.5131, 0.5089, 0.2472, 0.2112],\n",
            "         [0.1333, 0.9295, 0.6887, 0.4879, 0.0497, 0.9633, 0.9015, 0.2215,\n",
            "          0.3675, 0.8798, 0.0248, 0.9949, 0.8535, 0.6193, 0.9998, 0.1709,\n",
            "          0.6342, 0.6204, 0.5729, 0.8801, 0.8925, 0.3984, 0.2981, 0.9006,\n",
            "          0.6108, 0.9522, 0.4298, 0.9835, 0.9183, 0.3689, 0.1529, 0.7244,\n",
            "          0.2326, 0.7726, 0.9514, 0.5962, 0.2367, 0.1393, 0.7147, 0.6925,\n",
            "          0.4181, 0.6591, 0.4037, 0.2293, 0.5656, 0.8423, 0.8630, 0.6571,\n",
            "          0.4345, 0.2512, 0.2829, 0.2235, 0.6350, 0.5905, 0.9494, 0.8958,\n",
            "          0.7331, 0.2415, 0.6345, 0.1769, 0.0012, 0.2067, 0.1605, 0.0284,\n",
            "          0.1921, 0.5144, 0.6300, 0.5767, 0.3042, 0.3856, 0.5311, 0.4210,\n",
            "          0.2516, 0.7614, 0.0688, 0.7629, 0.3150, 0.5132, 0.3254, 0.1133,\n",
            "          0.7250, 0.8516, 0.2837, 0.6108, 0.1701, 0.6710, 0.2673, 0.9905,\n",
            "          0.3892, 0.3554, 0.3652, 0.1956, 0.5788, 0.4282, 0.7852, 0.6149,\n",
            "          0.0245, 0.5994, 0.1935, 0.9998],\n",
            "         [0.6070, 0.9743, 0.3067, 0.1925, 0.6450, 0.6842, 0.7847, 0.7642,\n",
            "          0.8253, 0.4672, 0.9879, 0.2674, 0.0896, 0.5966, 0.3260, 0.2143,\n",
            "          0.3972, 0.7184, 0.0776, 0.9459, 0.9707, 0.8739, 0.5302, 0.1487,\n",
            "          0.9737, 0.0785, 0.2262, 0.7324, 0.5136, 0.4585, 0.9587, 0.5022,\n",
            "          0.3106, 0.8841, 0.4578, 0.5691, 0.6888, 0.6697, 0.8226, 0.4737,\n",
            "          0.8262, 0.1126, 0.0990, 0.9365, 0.2381, 0.4582, 0.7450, 0.9222,\n",
            "          0.2442, 0.5244, 0.6700, 0.1768, 0.0182, 0.4101, 0.7165, 0.8845,\n",
            "          0.1147, 0.9298, 0.1522, 0.4915, 0.8555, 0.2405, 0.2056, 0.0466,\n",
            "          0.0427, 0.7243, 0.9523, 0.7352, 0.6964, 0.3202, 0.8323, 0.3084,\n",
            "          0.9591, 0.2706, 0.3415, 0.7303, 0.7535, 0.1523, 0.8550, 0.4444,\n",
            "          0.1322, 0.5604, 0.2438, 0.3261, 0.8599, 0.7861, 0.3198, 0.6222,\n",
            "          0.1601, 0.1528, 0.3566, 0.6542, 0.3799, 0.4102, 0.4302, 0.2873,\n",
            "          0.6973, 0.4761, 0.7062, 0.5476],\n",
            "         [0.5292, 0.0572, 0.9683, 0.0061, 0.7739, 0.7124, 0.2023, 0.5532,\n",
            "          0.2015, 0.9634, 0.9521, 0.1402, 0.8915, 0.5828, 0.3589, 0.0321,\n",
            "          0.2363, 0.3746, 0.5626, 0.7612, 0.9905, 0.3705, 0.6610, 0.5523,\n",
            "          0.6870, 0.4239, 0.0391, 0.8006, 0.0451, 0.8088, 0.9231, 0.0952,\n",
            "          0.0795, 0.8317, 0.0220, 0.7921, 0.8041, 0.2851, 0.8732, 0.4087,\n",
            "          0.8262, 0.9718, 0.5801, 0.6781, 0.4903, 0.6358, 0.4128, 0.5494,\n",
            "          0.9805, 0.1031, 0.3664, 0.1733, 0.2657, 0.6837, 0.0676, 0.8954,\n",
            "          0.6991, 0.3957, 0.3994, 0.6729, 0.8253, 0.6112, 0.1707, 0.4111,\n",
            "          0.2172, 0.5029, 0.9311, 0.3726, 0.6629, 0.3855, 0.4433, 0.6458,\n",
            "          0.9937, 0.9175, 0.0824, 0.1931, 0.0573, 0.3724, 0.3115, 0.9150,\n",
            "          0.1078, 0.7162, 0.9056, 0.6567, 0.6950, 0.5597, 0.0166, 0.9072,\n",
            "          0.6356, 0.3125, 0.6809, 0.0991, 0.4830, 0.8145, 0.9216, 0.9420,\n",
            "          0.5035, 0.6222, 0.6839, 0.7170],\n",
            "         [0.9221, 0.0871, 0.9155, 0.8029, 0.0656, 0.2103, 0.3509, 0.0514,\n",
            "          0.6516, 0.7111, 0.8883, 0.5946, 0.6467, 0.4661, 0.7072, 0.6876,\n",
            "          0.5520, 0.7781, 0.7948, 0.9436, 0.1280, 0.0315, 0.9778, 0.6828,\n",
            "          0.9716, 0.6877, 0.9451, 0.7306, 0.0324, 0.6314, 0.6698, 0.2833,\n",
            "          0.7131, 0.0556, 0.3169, 0.5683, 0.4053, 0.3942, 0.0991, 0.0980,\n",
            "          0.3217, 0.7072, 0.7654, 0.3238, 0.7825, 0.3322, 0.3709, 0.9053,\n",
            "          0.8486, 0.5855, 0.4262, 0.1981, 0.6411, 0.7925, 0.1687, 0.7023,\n",
            "          0.6551, 0.0790, 0.6134, 0.8050, 0.3380, 0.3184, 0.4448, 0.8927,\n",
            "          0.9407, 0.2395, 0.3919, 0.6784, 0.7093, 0.0156, 0.4549, 0.9505,\n",
            "          0.4667, 0.3413, 0.8422, 0.2083, 0.1996, 0.9316, 0.1189, 0.0467,\n",
            "          0.5979, 0.7756, 0.9624, 0.2579, 0.7551, 0.5372, 0.4802, 0.6986,\n",
            "          0.2089, 0.0224, 0.8049, 0.7587, 0.5843, 0.2245, 0.8398, 0.2535,\n",
            "          0.7783, 0.4934, 0.7442, 0.7374],\n",
            "         [0.8556, 0.4270, 0.1578, 0.0469, 0.1760, 0.5940, 0.6206, 0.2700,\n",
            "          0.4675, 0.1981, 0.6818, 0.7604, 0.0205, 0.1015, 0.1633, 0.8375,\n",
            "          0.0560, 0.7944, 0.4306, 0.4713, 0.7609, 0.6774, 0.8418, 0.8065,\n",
            "          0.5796, 0.8071, 0.9773, 0.6900, 0.0045, 0.1379, 0.0729, 0.3133,\n",
            "          0.8660, 0.6122, 0.6237, 0.0355, 0.4432, 0.2458, 0.0756, 0.0831,\n",
            "          0.7859, 0.5106, 0.8106, 0.8208, 0.3074, 0.1669, 0.6045, 0.3672,\n",
            "          0.2118, 0.1189, 0.3364, 0.5465, 0.4763, 0.1683, 0.6864, 0.5739,\n",
            "          0.2143, 0.9815, 0.4056, 0.4018, 0.5135, 0.0613, 0.1320, 0.0953,\n",
            "          0.1927, 0.3712, 0.5863, 0.8776, 0.5011, 0.5158, 0.6372, 0.9082,\n",
            "          0.0761, 0.8849, 0.7695, 0.1744, 0.8832, 0.2570, 0.5681, 0.3617,\n",
            "          0.8992, 0.0997, 0.0577, 0.7550, 0.3550, 0.9106, 0.9413, 0.1400,\n",
            "          0.0218, 0.0584, 0.0505, 0.5177, 0.7421, 0.5979, 0.5991, 0.6935,\n",
            "          0.2809, 0.9469, 0.3854, 0.3951],\n",
            "         [0.6743, 0.4009, 0.5905, 0.7033, 0.4994, 0.7221, 0.1052, 0.5150,\n",
            "          0.8762, 0.0277, 0.9913, 0.5698, 0.3687, 0.3982, 0.7381, 0.5267,\n",
            "          0.8304, 0.2993, 0.5530, 0.1825, 0.0283, 0.4213, 0.3142, 0.0928,\n",
            "          0.2403, 0.9418, 0.9252, 0.0144, 0.7963, 0.1161, 0.1590, 0.6218,\n",
            "          0.7208, 0.0090, 0.8570, 0.7074, 0.1302, 0.3945, 0.3121, 0.6735,\n",
            "          0.7165, 0.6092, 0.7985, 0.1468, 0.6524, 0.9420, 0.1896, 0.8208,\n",
            "          0.0536, 0.0258, 0.8587, 0.2478, 0.9505, 0.6180, 0.5864, 0.1046,\n",
            "          0.4717, 0.6539, 0.0799, 0.7583, 0.8565, 0.7726, 0.9087, 0.4471,\n",
            "          0.1206, 0.8199, 0.3348, 0.0978, 0.8923, 0.2914, 0.1083, 0.5526,\n",
            "          0.0105, 0.3653, 0.7875, 0.3770, 0.9289, 0.1569, 0.8547, 0.9436,\n",
            "          0.5225, 0.3949, 0.2456, 0.2698, 0.9497, 0.0519, 0.2720, 0.3639,\n",
            "          0.5939, 0.5434, 0.3552, 0.2522, 0.1603, 0.3861, 0.7699, 0.3591,\n",
            "          0.9284, 0.0155, 0.3404, 0.5769]]])\n",
            "torch.Size([1, 10, 100])\n"
          ]
        }
      ],
      "source": [
        "_ = __.unsqueeze(dim=0)\n",
        "print(_)\n",
        "print(_.shape)"
      ]
    },
    {
      "cell_type": "code",
      "execution_count": 53,
      "metadata": {
        "colab": {
          "base_uri": "https://localhost:8080/"
        },
        "id": "8J5jfoUqDxHU",
        "outputId": "54e5762e-20b3-4a92-9e66-3f4166868688"
      },
      "outputs": [
        {
          "data": {
            "text/plain": [
              "(torch.Size([1, 10, 100]), torch.Size([100, 1, 10]))"
            ]
          },
          "execution_count": 53,
          "metadata": {},
          "output_type": "execute_result"
        }
      ],
      "source": [
        "___permuted = ___.permute(2, 0, 1) # Shifts axis = 0 -> 1, 1 -> 2, 2 -> 0\n",
        "## Here 2, 0, 1 are the order of dim of prev tensor\n",
        "___.shape, ___permuted.shape"
      ]
    },
    {
      "cell_type": "markdown",
      "metadata": {
        "id": "9ei4VNWOFZi1"
      },
      "source": [
        "## Indexing (Selecting data from tensors)"
      ]
    },
    {
      "cell_type": "code",
      "execution_count": 54,
      "metadata": {
        "colab": {
          "base_uri": "https://localhost:8080/"
        },
        "id": "yppJk1LTGMOe",
        "outputId": "fdb2c58b-9b8a-477c-96f7-4ee07343b28b"
      },
      "outputs": [
        {
          "data": {
            "text/plain": [
              "(tensor([[[ 1,  2,  3],\n",
              "          [ 4,  5,  6],\n",
              "          [ 7,  8,  9]],\n",
              " \n",
              "         [[10, 11, 12],\n",
              "          [13, 14, 15],\n",
              "          [16, 17, 18]]]),\n",
              " torch.Size([2, 3, 3]))"
            ]
          },
          "execution_count": 54,
          "metadata": {},
          "output_type": "execute_result"
        }
      ],
      "source": [
        "x = torch.arange(1, 19).reshape(2, 3, 3)\n",
        "x, x.shape"
      ]
    },
    {
      "cell_type": "code",
      "execution_count": 55,
      "metadata": {
        "colab": {
          "base_uri": "https://localhost:8080/"
        },
        "id": "Ekrj1U2UGbs2",
        "outputId": "6ca4373b-9aa3-44f5-8070-edf4904d8873"
      },
      "outputs": [
        {
          "name": "stdout",
          "output_type": "stream",
          "text": [
            "tensor([[1, 2, 3],\n",
            "        [4, 5, 6],\n",
            "        [7, 8, 9]])\n",
            "tensor([[ 1,  2,  3],\n",
            "        [10, 11, 12]])\n",
            "tensor([ 2, 11])\n",
            "tensor([[ 1,  4,  7],\n",
            "        [10, 13, 16]])\n",
            "tensor(9)\n",
            "CPU times: user 0 ns, sys: 1.39 ms, total: 1.39 ms\n",
            "Wall time: 1.17 ms\n"
          ]
        }
      ],
      "source": [
        "%%time\n",
        "print(x[0])\n",
        "print(x[:, 0])\n",
        "print(x[:, 0, 1])\n",
        "print(x[:, :, 0])\n",
        "print(x[0, 2, 2])"
      ]
    },
    {
      "cell_type": "markdown",
      "metadata": {
        "id": "-me0LtGsHK4K"
      },
      "source": [
        "## Pytorch tensors & Numpy\n",
        "* Data in NumPy, want in Pytorch tensor -> `torch.from_numpy(ndarray)`\n",
        "* Pytorch Tensor -> NumPy -> `torch.Tensor.numpy()`"
      ]
    },
    {
      "cell_type": "code",
      "execution_count": 56,
      "metadata": {
        "colab": {
          "base_uri": "https://localhost:8080/"
        },
        "id": "40n7HButJbZU",
        "outputId": "d95ac5fa-041e-4e4e-ffa8-9789f5ee4a15"
      },
      "outputs": [
        {
          "data": {
            "text/plain": [
              "(array([1., 2., 3., 4., 5., 6., 7.]),\n",
              " tensor([1., 2., 3., 4., 5., 6., 7.], dtype=torch.float64),\n",
              " tensor([1., 2., 3., 4., 5., 6., 7.]))"
            ]
          },
          "execution_count": 56,
          "metadata": {},
          "output_type": "execute_result"
        }
      ],
      "source": [
        "array = np.arange(1.0, 8.0) # Default Dtype is float64\n",
        "tensor = torch.from_numpy(array)\n",
        "array, tensor, tensor.type(torch.float32)"
      ]
    },
    {
      "cell_type": "code",
      "execution_count": 57,
      "metadata": {
        "colab": {
          "base_uri": "https://localhost:8080/"
        },
        "id": "73kFyZ-ybVCr",
        "outputId": "8d803e43-97a1-4a95-e6f1-150afa749689"
      },
      "outputs": [
        {
          "data": {
            "text/plain": [
              "(array([2., 3., 4., 5., 6., 7., 8.]),\n",
              " tensor([1., 2., 3., 4., 5., 6., 7.], dtype=torch.float64))"
            ]
          },
          "execution_count": 57,
          "metadata": {},
          "output_type": "execute_result"
        }
      ],
      "source": [
        "array = array + 1\n",
        "array, tensor"
      ]
    },
    {
      "cell_type": "markdown",
      "metadata": {
        "id": "XwX3Z6XSbVCr"
      },
      "source": [
        "## Tensor to NumPy Array"
      ]
    },
    {
      "cell_type": "code",
      "execution_count": 58,
      "metadata": {
        "colab": {
          "base_uri": "https://localhost:8080/"
        },
        "id": "pCKDGsRFbVCr",
        "outputId": "4fb8fc39-7860-4c0e-8321-b2b716afd49d"
      },
      "outputs": [
        {
          "data": {
            "text/plain": [
              "(tensor([1., 1., 1., 1., 1., 1., 1.]),\n",
              " array([1., 1., 1., 1., 1., 1., 1.], dtype=float32))"
            ]
          },
          "execution_count": 58,
          "metadata": {},
          "output_type": "execute_result"
        }
      ],
      "source": [
        "tensor = torch.ones(7)\n",
        "numpy_tensor = tensor.numpy()\n",
        "tensor, numpy_tensor"
      ]
    },
    {
      "cell_type": "markdown",
      "metadata": {
        "id": "VY086c1nbVCr"
      },
      "source": [
        "## Reproducibility (Trying to take random out of random)\n",
        "\n",
        "In short how a neural network learns:\n",
        "`start with random numbers -> tensor operations -> update random numbers to try and make them of the data -> again -> again...`\n",
        "\n",
        "To reduce the randomness in neural networks and PyTorch comes the concept of a **random seed**."
      ]
    },
    {
      "cell_type": "code",
      "execution_count": 59,
      "metadata": {
        "colab": {
          "base_uri": "https://localhost:8080/"
        },
        "id": "IlwNv5R0bVCr",
        "outputId": "53970004-9677-4004-81df-b73bb4c32cfa"
      },
      "outputs": [
        {
          "name": "stdout",
          "output_type": "stream",
          "text": [
            "tensor([[0.1243, 0.8268, 0.6140, 0.7496],\n",
            "        [0.6599, 0.1872, 0.0944, 0.4677],\n",
            "        [0.5178, 0.6845, 0.2595, 0.4416]])\n",
            "tensor([[0.5606, 0.2824, 0.4806, 0.6259],\n",
            "        [0.7551, 0.6128, 0.7839, 0.7156],\n",
            "        [0.8469, 0.7357, 0.7677, 0.0957]])\n",
            "tensor([[False, False, False, False],\n",
            "        [False, False, False, False],\n",
            "        [False, False, False, False]])\n"
          ]
        }
      ],
      "source": [
        "random_tensor_A = torch.rand(3, 4)\n",
        "random_tensor_B = torch.rand(3, 4)\n",
        "\n",
        "print(random_tensor_A)\n",
        "print(random_tensor_B)\n",
        "print(random_tensor_A == random_tensor_B)"
      ]
    },
    {
      "cell_type": "code",
      "execution_count": 60,
      "metadata": {
        "colab": {
          "base_uri": "https://localhost:8080/"
        },
        "id": "gLeD1kpLbVCr",
        "outputId": "111800bd-e0f6-4938-c003-f89c9bd8e48b"
      },
      "outputs": [
        {
          "name": "stdout",
          "output_type": "stream",
          "text": [
            "tensor([[0.8823, 0.9150, 0.3829, 0.9593],\n",
            "        [0.3904, 0.6009, 0.2566, 0.7936],\n",
            "        [0.9408, 0.1332, 0.9346, 0.5936]])\n",
            "tensor([[0.8823, 0.9150, 0.3829, 0.9593],\n",
            "        [0.3904, 0.6009, 0.2566, 0.7936],\n",
            "        [0.9408, 0.1332, 0.9346, 0.5936]])\n",
            "tensor([[True, True, True, True],\n",
            "        [True, True, True, True],\n",
            "        [True, True, True, True]])\n"
          ]
        }
      ],
      "source": [
        "# Let's make some random but reproducible tensor\n",
        "\n",
        "RANDOM_SEED = 42 # Any Random Int\n",
        "\n",
        "torch.manual_seed(RANDOM_SEED) # You need to call Random_seed mannualy for every torch.rand()\n",
        "random_tensor_C = torch.rand(3, 4)\n",
        "\n",
        "torch.manual_seed(RANDOM_SEED)\n",
        "random_tensor_D = torch.rand(3, 4)\n",
        "\n",
        "print(random_tensor_C)\n",
        "print(random_tensor_D)\n",
        "print(random_tensor_C == random_tensor_D)"
      ]
    },
    {
      "cell_type": "markdown",
      "metadata": {
        "id": "WyXVMth2bVCs"
      },
      "source": [
        "## Running tensors and Pytorch objets on the GPU (and making faster computations)\n",
        "\n",
        "*The below cells were run on Google Colab (GPU Configuration) because my macbook doesn't have any GPU*\n",
        "\n",
        "*The Best practice is to use [Device Agnostic](https://pytorch.org/docs/stable/notes/cuda.html)"
      ]
    },
    {
      "cell_type": "code",
      "execution_count": 61,
      "metadata": {
        "colab": {
          "base_uri": "https://localhost:8080/"
        },
        "id": "oyBBqj1JbVCs",
        "outputId": "5f0ac0c7-0fdb-4e60-c0ed-ade5946180a4"
      },
      "outputs": [
        {
          "data": {
            "text/plain": [
              "True"
            ]
          },
          "execution_count": 61,
          "metadata": {},
          "output_type": "execute_result"
        }
      ],
      "source": [
        "# Check GPU access with PyTorch\n",
        "torch.cuda.is_available()"
      ]
    },
    {
      "cell_type": "code",
      "execution_count": 62,
      "metadata": {
        "colab": {
          "base_uri": "https://localhost:8080/",
          "height": 35
        },
        "id": "nOOj7xZgcBi9",
        "outputId": "87991e56-00bc-4cbf-e117-40a4445ab713"
      },
      "outputs": [
        {
          "data": {
            "text/plain": [
              "'cuda'"
            ]
          },
          "execution_count": 62,
          "metadata": {},
          "output_type": "execute_result"
        }
      ],
      "source": [
        "device = \"cuda\" if torch.cuda.is_available() else \"cpu\"\n",
        "device"
      ]
    },
    {
      "cell_type": "code",
      "execution_count": 63,
      "metadata": {
        "colab": {
          "base_uri": "https://localhost:8080/"
        },
        "id": "LsTwTh4bcJjt",
        "outputId": "254e2680-2b32-490a-cfd5-223af0a32f75"
      },
      "outputs": [
        {
          "data": {
            "text/plain": [
              "1"
            ]
          },
          "execution_count": 63,
          "metadata": {},
          "output_type": "execute_result"
        }
      ],
      "source": [
        "torch.cuda.device_count()"
      ]
    },
    {
      "cell_type": "code",
      "execution_count": 64,
      "metadata": {
        "colab": {
          "base_uri": "https://localhost:8080/"
        },
        "id": "ctfXmuQJc2Rq",
        "outputId": "ae74ebf9-4e04-4e33-ed31-94fa4ffd76a6"
      },
      "outputs": [
        {
          "name": "stderr",
          "output_type": "stream",
          "text": [
            "UsageError: Line magic function `%%time` not found.\n"
          ]
        }
      ],
      "source": [
        "# create a tensor\n",
        "%%time\n",
        "tensor = torch.tensor([1, 2, 3], device=device)\n",
        "tensor"
      ]
    },
    {
      "cell_type": "code",
      "execution_count": 65,
      "metadata": {
        "colab": {
          "base_uri": "https://localhost:8080/"
        },
        "id": "OzdyX4u5dHV3",
        "outputId": "870fb197-2064-4efc-e402-ba17d54c0767"
      },
      "outputs": [
        {
          "name": "stdout",
          "output_type": "stream",
          "text": [
            "CPU times: user 66 µs, sys: 24 µs, total: 90 µs\n",
            "Wall time: 88 µs\n"
          ]
        },
        {
          "data": {
            "text/plain": [
              "tensor([1, 2, 3])"
            ]
          },
          "execution_count": 65,
          "metadata": {},
          "output_type": "execute_result"
        }
      ],
      "source": [
        "%%time\n",
        "torch.tensor([1, 2, 3], device=\"cpu\")"
      ]
    },
    {
      "cell_type": "markdown",
      "metadata": {
        "id": "Uiu6rIUYddjC"
      },
      "source": [
        "### Moving tensors back to CPU"
      ]
    },
    {
      "cell_type": "code",
      "execution_count": 66,
      "metadata": {
        "colab": {
          "base_uri": "https://localhost:8080/"
        },
        "id": "QCiM4711diLy",
        "outputId": "78ae8365-9986-4fe2-ef00-a578e90730e3"
      },
      "outputs": [
        {
          "name": "stdout",
          "output_type": "stream",
          "text": [
            "cpu\n"
          ]
        }
      ],
      "source": [
        "# If tensor is on GPU, can't transform to Numpy\n",
        "\n",
        "test = tensor.cpu().numpy()\n",
        "\n",
        "test_tensor = torch.from_numpy(test)\n",
        "print(test_tensor.device)"
      ]
    }
  ],
  "metadata": {
    "accelerator": "GPU",
    "colab": {
      "cell_execution_strategy": "setup",
      "gpuType": "T4",
      "provenance": []
    },
    "kernelspec": {
      "display_name": "Python 3",
      "name": "python3"
    },
    "language_info": {
      "codemirror_mode": {
        "name": "ipython",
        "version": 3
      },
      "file_extension": ".py",
      "mimetype": "text/x-python",
      "name": "python",
      "nbconvert_exporter": "python",
      "pygments_lexer": "ipython3",
      "version": "3.10.6"
    }
  },
  "nbformat": 4,
  "nbformat_minor": 0
}
