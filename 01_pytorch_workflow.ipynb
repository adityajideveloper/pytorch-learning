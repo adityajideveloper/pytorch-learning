{
 "cells": [
  {
   "cell_type": "markdown",
   "metadata": {},
   "source": [
    "# Pytorch Workflow\n",
    "\n",
    "What is covered:\n",
    "\n",
    "1. Data (prepare and Load)\n",
    "2. Build model\n",
    "3. Training Model\n",
    "4. Making Predication and evaluting a model\n",
    "5. Saving and Loading a model\n",
    "6. Putting it all together\n",
    "\n",
    "![IMG](https://camo.githubusercontent.com/4b240bd39906eea1450c488770a94164bb43cf4384d9eb9608b24a4121c616ef/68747470733a2f2f7261772e67697468756275736572636f6e74656e742e636f6d2f6d7264626f75726b652f7079746f7263682d646565702d6c6561726e696e672f6d61696e2f696d616765732f30315f615f7079746f7263685f776f726b666c6f772e706e67)\n"
   ]
  },
  {
   "cell_type": "code",
   "execution_count": 1,
   "metadata": {
    "notebookRunGroups": {
     "groupValue": "2"
    }
   },
   "outputs": [
    {
     "data": {
      "text/plain": [
       "'2.0.1+cu118'"
      ]
     },
     "execution_count": 1,
     "metadata": {},
     "output_type": "execute_result"
    }
   ],
   "source": [
    "import torch\n",
    "from torch import nn  # nn is the basic building blocks for graphs\n",
    "import matplotlib.pyplot as plt\n",
    "\n",
    "torch.__version__\n",
    "\n",
    "# Refer to https://pytorch.org/docs/stable/nn.html"
   ]
  },
  {
   "cell_type": "markdown",
   "metadata": {},
   "source": [
    "### 1. Data (preparing and Loading)\n",
    "\n",
    "Data can be almost anything... in machine Learning.\n",
    "\n",
    "- Excel Spreadsheet\n",
    "- Images of any kind\n",
    "- Videos\n",
    "- Audio like songs or Podcast\n",
    "- DNA\n",
    "- Text, and many more...\n",
    "\n",
    "Machine Learning is a game of two parts:\n",
    "\n",
    "1. Get Daa into numerical representation\n",
    "2. Build a model to learn patterns in that numerical representation.\n",
    "\n",
    "![IMG](https://camo.githubusercontent.com/b1b127ac73750d438e02779cb2e2215a3033af06777ba2d8996bb643de34b276/68747470733a2f2f7261772e67697468756275736572636f6e74656e742e636f6d2f6d7264626f75726b652f7079746f7263682d646565702d6c6561726e696e672f6d61696e2f696d616765732f30312d6d616368696e652d6c6561726e696e672d612d67616d652d6f662d74776f2d70617274732e706e67)\n"
   ]
  },
  {
   "cell_type": "markdown",
   "metadata": {},
   "source": [
    "To showcase this, let's create some _known_ data using the linear regression formula (**y = mx + c**)\n"
   ]
  },
  {
   "cell_type": "code",
   "execution_count": 2,
   "metadata": {},
   "outputs": [
    {
     "data": {
      "text/plain": [
       "torch.Size([50, 1])"
      ]
     },
     "execution_count": 2,
     "metadata": {},
     "output_type": "execute_result"
    }
   ],
   "source": [
    "# Create *known* parameters\n",
    "weight = 0.7\n",
    "bias = 0.3\n",
    "# bias is C and weight is M in y = Mx + C\n",
    "\n",
    "# create\n",
    "start = 0\n",
    "end = 1\n",
    "step = 0.02\n",
    "\n",
    "# X is input\n",
    "X = torch.arange(start, end, step).unsqueeze(dim=1)\n",
    "\n",
    "# y is output\n",
    "y = weight * X + bias\n",
    "\n",
    "y.shape"
   ]
  },
  {
   "cell_type": "markdown",
   "metadata": {},
   "source": [
    "### Splitting data into training and test sets (one of the most important concepts in machine learning in general)\n",
    "\n",
    "| **Split**          | **Purpose**                                                                                                                  | **Amount of Data Used** | **How Often it is used** |\n",
    "| ------------------ | ---------------------------------------------------------------------------------------------------------------------------- | ----------------------- | ------------------------ |\n",
    "| **Training Set**   | The model learns from this data (like the course materials you study during the semester).                                   | ~60-80%                 | Always                   |\n",
    "| **Validation Set** | The model gets tuned on this data (like the practice exam you take before the final exam).                                   | ~10-20%                 | Often but not always     |\n",
    "| **Testing Test**   | The model gets evaluated on this data to test what it has learned (like the final exam you take at the end of the semester). | ~10-20%                 | Always                   |\n"
   ]
  },
  {
   "cell_type": "code",
   "execution_count": 3,
   "metadata": {},
   "outputs": [
    {
     "data": {
      "text/plain": [
       "(40, 40, 10, 10)"
      ]
     },
     "execution_count": 3,
     "metadata": {},
     "output_type": "execute_result"
    }
   ],
   "source": [
    "# Create a train/test split\n",
    "train_split = int(0.8 * len(X))\n",
    "\n",
    "X_train, y_train = X[:train_split], y[:train_split]\n",
    "X_test, y_test = X[train_split:], y[train_split:]\n",
    "\n",
    "len(X_train), len(y_train), len(X_test), len(y_test)"
   ]
  },
  {
   "cell_type": "code",
   "execution_count": 4,
   "metadata": {},
   "outputs": [],
   "source": [
    "# Visualizing Data\n",
    "\n",
    "def plot_predictions(train_data=X_train, train_labels=y_train, test_data=X_test, test_labels=y_test, predictions=None):\n",
    "    plt.figure(figsize=(10, 7))\n",
    "    plt.scatter(train_data, train_labels, c=\"b\", s=4, label=\"Training data\")\n",
    "    plt.scatter(test_data, test_labels, c=\"g\", s=4, label=\"Test data\")\n",
    "\n",
    "    if predictions is not None:\n",
    "        plt.scatter(test_data, predictions, c=\"r\", s=4, label=\"Predications\")\n",
    "\n",
    "    plt.legend(prop={\"size\": 14})\n",
    "\n",
    "\n",
    "# Refer to https://matplotlib.org/stable/api/_as_gen/matplotlib.pyplot.scatter.html"
   ]
  },
  {
   "cell_type": "code",
   "execution_count": 5,
   "metadata": {},
   "outputs": [
    {
     "data": {
      "image/png": "[encoded data removed]",
      "text/plain": [
       "<Figure size 1000x700 with 1 Axes>"
      ]
     },
     "metadata": {},
     "output_type": "display_data"
    }
   ],
   "source": [
    "plot_predictions()"
   ]
  },
  {
   "cell_type": "markdown",
   "metadata": {},
   "source": [
    "## 2. Build Model\n",
    "\n",
    "My first pytorch model\n",
    "\n",
    "What the model does:\n",
    "\n",
    "- Start with random values (weight & bias)\n",
    "- Look at training data and adjust the random values to better represent (to get closer to) the ideal values (the weight and bias, used to create data)\n",
    "\n",
    "How does it do so?\n",
    "Through two main algorithms:\n",
    "\n",
    "1. Gradient descent\n",
    "2. Backpropagation\n"
   ]
  },
  {
   "cell_type": "code",
   "execution_count": 6,
   "metadata": {},
   "outputs": [],
   "source": [
    "# create a linear regression model class\n",
    "\n",
    "# Refer to https://realpython.com/python3-object-oriented-programming/\n",
    "# <- Almost everything in Pytorch is imported from nn.Module (Base class for all neural network models)\n",
    "class LinearRegressionModel(nn.Module):\n",
    "    def __init__(self):\n",
    "        super().__init__()\n",
    "        self.weights = nn.Parameter(torch.randn(1,\n",
    "                                                requires_grad=True,  # <- Default True\n",
    "                                                dtype=torch.float))\n",
    "        self.bias = nn.Parameter(torch.randn(1,\n",
    "                                             requires_grad=True,\n",
    "                                             dtype=torch.float))\n",
    "\n",
    "    def forward(self, x: torch.Tensor) -> torch.Tensor:\n",
    "        return self.weights * x + self.bias"
   ]
  },
  {
   "cell_type": "markdown",
   "metadata": {},
   "source": [
    "## Pytorch Model Buidling Essentials\n",
    "\n",
    "- `torch.nn` - contains all the building blocks for computational graphs (_a neural network can be considered computational graph_)\n",
    "- `torch.nn.Parameter` - what parameters should our model try and learn, often a Pytorch layer from `torch.nn` will set these for UserWarning\n",
    "- `torch.nn.Module` - Th base class for all neural metwork modules, if you subclass it, you can overwrite `forward()`\n",
    "- `torch.optim` - this where the optimizers in PyTorch livem they will help in gradient descent\n",
    "- `def forward()` - All `nn.Module` subclasses requires you to overwrite `forward()`, this method defines what happens in the forward computation\n"
   ]
  },
  {
   "cell_type": "code",
   "execution_count": 7,
   "metadata": {
    "notebookRunGroups": {
     "groupValue": "2"
    }
   },
   "outputs": [
    {
     "data": {
      "text/plain": [
       "[Parameter containing:\n",
       " tensor([0.3367], requires_grad=True),\n",
       " Parameter containing:\n",
       " tensor([0.1288], requires_grad=True)]"
      ]
     },
     "execution_count": 7,
     "metadata": {},
     "output_type": "execute_result"
    }
   ],
   "source": [
    "# create a random seed\n",
    "torch.manual_seed(42)\n",
    "\n",
    "# Create an instance of the model (this is a subclass of nn.Module)\n",
    "model_0 = LinearRegressionModel()\n",
    "\n",
    "# Check out the parameters\n",
    "list(model_0.parameters())"
   ]
  },
  {
   "cell_type": "code",
   "execution_count": 8,
   "metadata": {
    "notebookRunGroups": {
     "groupValue": "2"
    }
   },
   "outputs": [
    {
     "data": {
      "text/plain": [
       "OrderedDict([('weights', tensor([0.3367])), ('bias', tensor([0.1288]))])"
      ]
     },
     "execution_count": 8,
     "metadata": {},
     "output_type": "execute_result"
    }
   ],
   "source": [
    "# List named parameters\n",
    "model_0.state_dict()"
   ]
  },
  {
   "cell_type": "markdown",
   "metadata": {},
   "source": [
    "### Making Predicitions using `torch.inference_mode()`\n",
    "\n",
    "To check our model's predicitive power, let's see how well it predicts `y_test` based on `X_test`\n",
    "When we pass data through our model, it's going to run it through the `forward()` method\n"
   ]
  },
  {
   "cell_type": "code",
   "execution_count": 9,
   "metadata": {
    "notebookRunGroups": {
     "groupValue": "2"
    }
   },
   "outputs": [
    {
     "data": {
      "text/plain": [
       "tensor([[0.3982],\n",
       "        [0.4049],\n",
       "        [0.4116],\n",
       "        [0.4184],\n",
       "        [0.4251],\n",
       "        [0.4318],\n",
       "        [0.4386],\n",
       "        [0.4453],\n",
       "        [0.4520],\n",
       "        [0.4588]])"
      ]
     },
     "execution_count": 9,
     "metadata": {},
     "output_type": "execute_result"
    }
   ],
   "source": [
    "with torch.inference_mode(): # <- Turns off the gradient tracking\n",
    "    y_preds = model_0(X_test)\n",
    "\n",
    "y_preds"
   ]
  },
  {
   "cell_type": "code",
   "execution_count": 10,
   "metadata": {
    "notebookRunGroups": {
     "groupValue": "2"
    }
   },
   "outputs": [
    {
     "data": {
      "image/png": "[encoded data removed]",
      "text/plain": [
       "<Figure size 1000x700 with 1 Axes>"
      ]
     },
     "metadata": {},
     "output_type": "display_data"
    }
   ],
   "source": [
    "plot_predictions(predictions=y_preds)"
   ]
  },
  {
   "cell_type": "markdown",
   "metadata": {
    "notebookRunGroups": {
     "groupValue": "2"
    }
   },
   "source": [
    "## 3. Train Model\n",
    "The whole idea of training for a model to move from some *unknown* parameters (these may be random) to some *known* parameters\n",
    "\n",
    "Or in other words from a poor representation of the data to a better representatation of the data\n",
    "\n",
    "one way to measure the poor representations is by using *Loss Functions*\n",
    "\n",
    "*Refer to [Loss functions or cost functions](https://pytorch.org/docs/stable/nn.html#loss-functions)*\n",
    "\n",
    "Things we need to train:\n",
    "* **Loss Functions:** A function to measure how wrong your model's predictions are to the ideal outputs, *(Lower is better)*\n",
    "* **Optimizer:** Takes into account the loss of the model and adjusts the model's parameters (eg. weight & bias) to improve the loss function\n",
    "\n",
    "And specifically for PyTorch, we need:\n",
    "* A training loop\n",
    "* A Testing loop"
   ]
  },
  {
   "cell_type": "code",
   "execution_count": 11,
   "metadata": {
    "notebookRunGroups": {
     "groupValue": "2"
    }
   },
   "outputs": [
    {
     "data": {
      "text/plain": [
       "<generator object Module.parameters at 0x7f2d743c7d80>"
      ]
     },
     "execution_count": 11,
     "metadata": {},
     "output_type": "execute_result"
    }
   ],
   "source": [
    "model_0.parameters()"
   ]
  },
  {
   "cell_type": "code",
   "execution_count": 12,
   "metadata": {
    "notebookRunGroups": {
     "groupValue": "2"
    }
   },
   "outputs": [
    {
     "data": {
      "text/plain": [
       "OrderedDict([('weights', tensor([0.3367])), ('bias', tensor([0.1288]))])"
      ]
     },
     "execution_count": 12,
     "metadata": {},
     "output_type": "execute_result"
    }
   ],
   "source": [
    "model_0.state_dict()"
   ]
  },
  {
   "cell_type": "code",
   "execution_count": 13,
   "metadata": {},
   "outputs": [],
   "source": [
    "# Setup a loss functions\n",
    "loss_fn = nn.L1Loss()\n",
    "\n",
    "# setup an optimizer (stochastic gradient descent)\n",
    "optimizer = torch.optim.SGD(params=model_0.parameters(),\n",
    "                            lr=0.01) # lr <- learning rate"
   ]
  },
  {
   "cell_type": "markdown",
   "metadata": {},
   "source": [
    "### Building a training and testing loop\n",
    "\n",
    "A couple of things we need in a training loop:\n",
    "0. Loop through the data\n",
    "1. Forward pass (*this involves data moving through our model(s) `forward()` function*) to make predictions on data - also called forward propagation\n",
    "2. Calculate the loss (*Compare forward pass predictions to ground truth labels*)\n",
    "3. Optimizer zero grad\n",
    "4. Loss backward - move backwards through the network to calculate the gradients of each of the parameters of our model with respect to the loss\n",
    "5. Optimizer step - use the optimizer to adjust our model's parameters to try and improve the loss (**gradient descent**) (***Gradient -> Slope or m***)"
   ]
  },
  {
   "cell_type": "code",
   "execution_count": null,
   "metadata": {},
   "outputs": [],
   "source": [
    "# An epoch is one loop through the data\n",
    "epochs = 1\n",
    "\n",
    "### Training\n",
    "# Step 0 -> Loop through the data\n",
    "for epoch in range(epochs):\n",
    "    # Set the model to training mode\n",
    "    model_0.train() # train mode in Pytorch set all parameters that require gradients to require gradient\n",
    "\n",
    "    # 1. Forward pass\n",
    "    y_pred = model_0(X_train)\n",
    "\n",
    "    # 2. Calculate the loss\n",
    "    loss = loss_fn(y_pred, y_train)\n",
    "    # Refer to https://pytorch.org/docs/stable/nn.html#loss-functions\n",
    "\n",
    "    # 3. Optimizer zero grad\n",
    "    optimizer.zero_grad()\n",
    "\n",
    "    # 4. Perform backpropgation on the loss with respect to the parameters of the model\n",
    "    loss.backward()\n",
    "\n",
    "    # 5. Step the optimizer (perform gradient descent)\n",
    "    optimizer.step() \n",
    "\n",
    "    model_0.eval() # Turns off gradient tracking"
   ]
  }
 ],
 "metadata": {
  "kernelspec": {
   "display_name": ".venv",
   "language": "python",
   "name": "python3"
  },
  "language_info": {
   "codemirror_mode": {
    "name": "ipython",
    "version": 3
   },
   "file_extension": ".py",
   "mimetype": "text/x-python",
   "name": "python",
   "nbconvert_exporter": "python",
   "pygments_lexer": "ipython3",
   "version": "3.10.6"
  },
  "orig_nbformat": 4
 },
 "nbformat": 4,
 "nbformat_minor": 2
}
