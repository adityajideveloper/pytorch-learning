{
  "cells": [
    {
      "cell_type": "markdown",
      "metadata": {
        "colab_type": "text",
        "id": "view-in-github"
      },
      "source": [
        "<a href=\"https://colab.research.google.com/github/mrdbourke/pytorch-deep-learning/blob/main/extras/exercises/02_pytorch_classification_exercises.ipynb\" target=\"_parent\"><img src=\"https://colab.research.google.com/assets/colab-badge.svg\" alt=\"Open In Colab\"/></a>"
      ]
    },
    {
      "cell_type": "markdown",
      "metadata": {
        "id": "ZKJFt7YxH8yl"
      },
      "source": [
        "# 02. PyTorch Classification Exercises\n",
        "\n",
        "The following is a template for 02. PyTorch Classification exercises.\n",
        "\n",
        "It's only starter code and it's your job to fill in the blanks.\n",
        "\n",
        "Because of the flexibility of PyTorch, there may be more than one way to answer the question.\n",
        "\n",
        "Don't worry about trying to be *right* just try writing code that suffices the question.\n",
        "\n",
        "## Resources\n",
        "* These exercises are based on [notebook 02 of the learn PyTorch course](https://www.learnpytorch.io/02_pytorch_classification/).\n",
        "* You can see one form of [solutions on GitHub](https://github.com/mrdbourke/pytorch-deep-learning/tree/main/extras/solutions) (but try the exercises below yourself first!)."
      ]
    },
    {
      "cell_type": "code",
      "execution_count": 146,
      "metadata": {
        "id": "CSrUPgapO0tf"
      },
      "outputs": [],
      "source": [
        "# Import torch\n",
        "import torch\n",
        "\n",
        "# Setup device agnostic code\n",
        "device = \"cuda\" if torch.cuda.is_available() else \"cpu\"\n",
        "\n",
        "# Setup random seed\n",
        "RANDOM_SEED = 42"
      ]
    },
    {
      "cell_type": "markdown",
      "metadata": {
        "id": "pH7jIZ2SPFee"
      },
      "source": [
        "## 1. Make a binary classification dataset with Scikit-Learn's [`make_moons()`](https://scikit-learn.org/stable/modules/generated/sklearn.datasets.make_moons.html) function.\n",
        "  * For consistency, the dataset should have 1000 samples and a `random_state=42`.\n",
        "  * Turn the data into PyTorch tensors. \n",
        "  * Split the data into training and test sets using `train_test_split` with 80% training and 20% testing."
      ]
    },
    {
      "cell_type": "code",
      "execution_count": 147,
      "metadata": {
        "id": "5t4VhPV1PX1X"
      },
      "outputs": [],
      "source": [
        "# Create a dataset with Scikit-Learn's make_moons()\n",
        "from sklearn.datasets import make_moons\n",
        "\n",
        "n_samples = 100\n",
        "\n",
        "X, y = make_moons(n_samples, shuffle=True, noise=0, random_state=42)"
      ]
    },
    {
      "cell_type": "code",
      "execution_count": 148,
      "metadata": {
        "id": "SUeHZ3-3P9C7"
      },
      "outputs": [
        {
          "data": {
            "text/html": [
              "<div>\n",
              "<style scoped>\n",
              "    .dataframe tbody tr th:only-of-type {\n",
              "        vertical-align: middle;\n",
              "    }\n",
              "\n",
              "    .dataframe tbody tr th {\n",
              "        vertical-align: top;\n",
              "    }\n",
              "\n",
              "    .dataframe thead th {\n",
              "        text-align: right;\n",
              "    }\n",
              "</style>\n",
              "<table border=\"1\" class=\"dataframe\">\n",
              "  <thead>\n",
              "    <tr style=\"text-align: right;\">\n",
              "      <th></th>\n",
              "      <th>X1</th>\n",
              "      <th>X2</th>\n",
              "      <th>y</th>\n",
              "    </tr>\n",
              "  </thead>\n",
              "  <tbody>\n",
              "    <tr>\n",
              "      <th>0</th>\n",
              "      <td>1.518393</td>\n",
              "      <td>-0.355143</td>\n",
              "      <td>1</td>\n",
              "    </tr>\n",
              "    <tr>\n",
              "      <th>1</th>\n",
              "      <td>0.018441</td>\n",
              "      <td>0.308841</td>\n",
              "      <td>1</td>\n",
              "    </tr>\n",
              "    <tr>\n",
              "      <th>2</th>\n",
              "      <td>0.715472</td>\n",
              "      <td>-0.458668</td>\n",
              "      <td>1</td>\n",
              "    </tr>\n",
              "    <tr>\n",
              "      <th>3</th>\n",
              "      <td>-0.967295</td>\n",
              "      <td>0.253655</td>\n",
              "      <td>0</td>\n",
              "    </tr>\n",
              "    <tr>\n",
              "      <th>4</th>\n",
              "      <td>-0.949056</td>\n",
              "      <td>0.315108</td>\n",
              "      <td>0</td>\n",
              "    </tr>\n",
              "  </tbody>\n",
              "</table>\n",
              "</div>"
            ],
            "text/plain": [
              "         X1        X2  y\n",
              "0  1.518393 -0.355143  1\n",
              "1  0.018441  0.308841  1\n",
              "2  0.715472 -0.458668  1\n",
              "3 -0.967295  0.253655  0\n",
              "4 -0.949056  0.315108  0"
            ]
          },
          "execution_count": 148,
          "metadata": {},
          "output_type": "execute_result"
        }
      ],
      "source": [
        "# Turn data into a DataFrame\n",
        "import pandas as pd\n",
        "\n",
        "moons = pd.DataFrame({\"X1\": X[:, 0],\n",
        "                      \"X2\": X[:, 1],\n",
        "                      \"y\": y})\n",
        "\n",
        "moons.head(5)\n"
      ]
    },
    {
      "cell_type": "code",
      "execution_count": 149,
      "metadata": {
        "id": "owrkPSFvQPFI"
      },
      "outputs": [
        {
          "data": {
            "text/plain": [
              "<matplotlib.collections.PathCollection at 0x7f0eb16a9b70>"
            ]
          },
          "execution_count": 149,
          "metadata": {},
          "output_type": "execute_result"
        },
        {
          "data": {
            "image/png": "[encoded data removed]",
            "text/plain": [
              "<Figure size 640x480 with 1 Axes>"
            ]
          },
          "metadata": {},
          "output_type": "display_data"
        }
      ],
      "source": [
        "# Visualize the data on a scatter plot\n",
        "import matplotlib.pyplot as plt\n",
        "\n",
        "plt.scatter(X[:, 0], X[:, 1], c=y)\n"
      ]
    },
    {
      "cell_type": "code",
      "execution_count": 150,
      "metadata": {
        "id": "bDhyHn9fR4dq"
      },
      "outputs": [
        {
          "name": "stdout",
          "output_type": "stream",
          "text": [
            "Type -> <class 'torch.Tensor'> | dType -> torch.float32\n"
          ]
        },
        {
          "data": {
            "text/plain": [
              "(80, 20, 80, 20)"
            ]
          },
          "execution_count": 150,
          "metadata": {},
          "output_type": "execute_result"
        }
      ],
      "source": [
        "# Turn data into tensors of dtype float\n",
        "X = torch.from_numpy(X).to(torch.device(device)).to(torch.float32)\n",
        "y= torch.from_numpy(y).to(torch.device(device)).to(torch.float32)\n",
        "\n",
        "# Split the data into train and test sets (80% train, 20% test)\n",
        "from sklearn.model_selection import train_test_split\n",
        "\n",
        "X_train, X_test, y_train, y_test = train_test_split(X, y, test_size=0.2)\n",
        "\n",
        "print(f\"Type -> {type(X)} | dType -> {X.dtype}\")\n",
        "len(X_train), len(X_test), len(y_train), len(y_test)\n"
      ]
    },
    {
      "cell_type": "markdown",
      "metadata": {
        "id": "cMIjxZdzQfPz"
      },
      "source": [
        "## 2. Build a model by subclassing `nn.Module` that incorporates non-linear activation functions and is capable of fitting the data you created in 1.\n",
        "  * Feel free to use any combination of PyTorch layers (linear and non-linear) you want."
      ]
    },
    {
      "cell_type": "code",
      "execution_count": 151,
      "metadata": {
        "id": "hwtyvm34Ri6Q"
      },
      "outputs": [
        {
          "name": "stdout",
          "output_type": "stream",
          "text": [
            "OrderedDict([('layer_0.weight', tensor([[ 0.5406,  0.5869],\n",
            "        [-0.1657,  0.6496],\n",
            "        [-0.1549,  0.1427],\n",
            "        [-0.3443,  0.4153],\n",
            "        [ 0.6233, -0.5188],\n",
            "        [ 0.6146,  0.1323],\n",
            "        [ 0.5224,  0.0958],\n",
            "        [ 0.3410, -0.0998]], device='cuda:0')), ('layer_0.bias', tensor([ 0.5451,  0.1045, -0.3301,  0.1802, -0.3258, -0.0829, -0.2872,  0.4691],\n",
            "       device='cuda:0')), ('layer_1.weight', tensor([[-0.2791, -0.1630, -0.0998, -0.2126,  0.0334, -0.3492,  0.3193, -0.3003],\n",
            "        [ 0.2730,  0.0588, -0.1148,  0.2185,  0.0551,  0.2857,  0.0387, -0.1115],\n",
            "        [ 0.0950, -0.0959,  0.1488,  0.3157,  0.2044, -0.1546,  0.2041,  0.0633],\n",
            "        [ 0.1795, -0.2155, -0.3500, -0.1366, -0.2712,  0.2901,  0.1018,  0.1464],\n",
            "        [ 0.1118, -0.0062,  0.2767, -0.2512,  0.0223, -0.2413,  0.1090, -0.1218],\n",
            "        [ 0.1083, -0.0737,  0.2932, -0.2096, -0.2109, -0.2109,  0.3180,  0.1178],\n",
            "        [ 0.3402, -0.2918, -0.3507, -0.2766, -0.2378,  0.1432,  0.1266,  0.2938],\n",
            "        [-0.1826, -0.2410,  0.1876, -0.1429,  0.2146, -0.0839,  0.2022, -0.2747],\n",
            "        [-0.1784,  0.1078,  0.0747, -0.0901,  0.2107,  0.2403, -0.2564, -0.1888],\n",
            "        [ 0.3237, -0.1193, -0.1253, -0.3421, -0.2025,  0.0883, -0.0467, -0.2566],\n",
            "        [ 0.0083, -0.2415, -0.3000, -0.1947, -0.3094, -0.2251,  0.3534,  0.0668],\n",
            "        [ 0.1090, -0.3298, -0.2322, -0.1177,  0.0553, -0.3111, -0.1523, -0.2117],\n",
            "        [ 0.0010, -0.1316, -0.0245, -0.2396, -0.2427, -0.2063, -0.1210, -0.2791],\n",
            "        [ 0.2964, -0.0702,  0.3042,  0.1102, -0.2994,  0.2447, -0.0973, -0.1355],\n",
            "        [-0.2935, -0.3515,  0.1012, -0.0772,  0.1376, -0.2901,  0.2625, -0.2595],\n",
            "        [-0.0610,  0.0738,  0.1825,  0.2854,  0.3221, -0.2803,  0.0890, -0.1521]],\n",
            "       device='cuda:0')), ('layer_1.bias', tensor([-0.0387, -0.2646,  0.3220, -0.2595,  0.1890,  0.1243,  0.1149, -0.1911,\n",
            "         0.3214,  0.0777,  0.0455, -0.3116,  0.1484, -0.0530, -0.1620,  0.3037],\n",
            "       device='cuda:0')), ('layer_2.weight', tensor([[ 0.0557, -0.1383, -0.1265, -0.0119,  0.1396, -0.0639, -0.1426, -0.0856,\n",
            "         -0.1868,  0.0892,  0.1935, -0.2354,  0.0581,  0.1291,  0.0453, -0.0890]],\n",
            "       device='cuda:0')), ('layer_2.bias', tensor([0.1305], device='cuda:0'))])\n"
          ]
        }
      ],
      "source": [
        "import torch\n",
        "from torch import nn\n",
        "\n",
        "# Inherit from nn.Module to make a model capable of fitting the mooon data\n",
        "class MoonModelV0(nn.Module):\n",
        "    ## Your code here ##\n",
        "    def __init__(self) -> None:\n",
        "        super().__init__()\n",
        "\n",
        "        self.layer_0 = nn.Linear(in_features=2, out_features=8)\n",
        "        self.layer_1 = nn.Linear(in_features=8, out_features=16)\n",
        "        self.layer_2 = nn.Linear(in_features=16, out_features=1)\n",
        "\n",
        "        self.relu = nn.ReLU() # We use ReLU for non-linearity\n",
        "\n",
        "    def forward(self, x):\n",
        "        ## Your code here ##\n",
        "        return self.layer_2(self.relu(self.layer_1(self.relu(self.layer_0(x)))))\n",
        "\n",
        "# Instantiate the model\n",
        "## Your code here ##\n",
        "\n",
        "model_0 = MoonModelV0().to(device)\n",
        "\n",
        "print(model_0.state_dict())\n",
        "\n",
        "with torch.inference_mode():\n",
        "    y_init_preds = model_0(X_test).squeeze()\n",
        "\n",
        "y_init_preds\n",
        "y_init_preds_sig = torch.round(torch.sigmoid(y_init_preds))"
      ]
    },
    {
      "cell_type": "markdown",
      "metadata": {
        "id": "DSj97RwyVeFE"
      },
      "source": [
        "## 3. Setup a binary classification compatible loss function and optimizer to use when training the model built in 2."
      ]
    },
    {
      "cell_type": "code",
      "execution_count": 152,
      "metadata": {
        "id": "whSGw5qgVvxU"
      },
      "outputs": [],
      "source": [
        "# Setup loss function\n",
        "loss_fn = nn.BCEWithLogitsLoss()\n",
        "\n",
        "# Setup optimizer to optimize model's parameters\n",
        "optimizer = torch.optim.SGD(params=model_0.parameters(),\n",
        "                            lr=0.01)"
      ]
    },
    {
      "cell_type": "markdown",
      "metadata": {
        "id": "nvk4PfNTWUAt"
      },
      "source": [
        "## 4. Create a training and testing loop to fit the model you created in 2 to the data you created in 1.\n",
        "  * Do a forward pass of the model to see what's coming out in the form of logits, prediction probabilities and labels.\n",
        "  * To measure model accuray, you can create your own accuracy function or use the accuracy function in [TorchMetrics](https://torchmetrics.readthedocs.io/en/latest/).\n",
        "  * Train the model for long enough for it to reach over 96% accuracy.\n",
        "  * The training loop should output progress every 10 epochs of the model's training and test set loss and accuracy."
      ]
    },
    {
      "cell_type": "code",
      "execution_count": 153,
      "metadata": {
        "id": "rUSDNHB4euoJ"
      },
      "outputs": [
        {
          "data": {
            "text/plain": [
              "MulticlassAccuracy()"
            ]
          },
          "execution_count": 153,
          "metadata": {},
          "output_type": "execute_result"
        }
      ],
      "source": [
        "# Let's calculuate the accuracy using accuracy from TorchMetrics\n",
        "!pip -q install torchmetrics # Colab doesn't come with torchmetrics\n",
        "from torchmetrics import Accuracy\n",
        "\n",
        "## TODO: Uncomment this code to use the Accuracy function\n",
        "acc_fn = Accuracy(task=\"multiclass\", num_classes=2).to(device) # send accuracy function to device\n",
        "acc_fn"
      ]
    },
    {
      "cell_type": "code",
      "execution_count": 154,
      "metadata": {},
      "outputs": [
        {
          "name": "stdout",
          "output_type": "stream",
          "text": [
            "Initial Accuracy: 0.550000011920929\n"
          ]
        }
      ],
      "source": [
        "print(f\"Initial Accuracy: {acc_fn(y_init_preds_sig, y_test.int())}\")"
      ]
    },
    {
      "cell_type": "code",
      "execution_count": 155,
      "metadata": {
        "id": "SHBY3h7XXnxt"
      },
      "outputs": [
        {
          "name": "stdout",
          "output_type": "stream",
          "text": [
            "Accuracy train: 0.6625000238418579 | Accuracy Test: 0.550000011920929\n"
          ]
        },
        {
          "name": "stdout",
          "output_type": "stream",
          "text": [
            "Accuracy train: 0.5 | Accuracy Test: 0.6000000238418579\n",
            "Accuracy train: 0.75 | Accuracy Test: 0.949999988079071\n",
            "Accuracy train: 0.75 | Accuracy Test: 0.949999988079071\n",
            "Accuracy train: 0.75 | Accuracy Test: 0.949999988079071\n",
            "Accuracy train: 0.7749999761581421 | Accuracy Test: 0.8999999761581421\n",
            "Accuracy train: 0.7875000238418579 | Accuracy Test: 0.8999999761581421\n",
            "Accuracy train: 0.800000011920929 | Accuracy Test: 0.8999999761581421\n",
            "Accuracy train: 0.8125 | Accuracy Test: 0.8999999761581421\n",
            "Accuracy train: 0.8125 | Accuracy Test: 0.8999999761581421\n",
            "Accuracy train: 0.824999988079071 | Accuracy Test: 0.8999999761581421\n",
            "Accuracy train: 0.824999988079071 | Accuracy Test: 0.949999988079071\n",
            "Accuracy train: 0.824999988079071 | Accuracy Test: 0.949999988079071\n",
            "Accuracy train: 0.8374999761581421 | Accuracy Test: 0.949999988079071\n",
            "Accuracy train: 0.8374999761581421 | Accuracy Test: 0.949999988079071\n",
            "Accuracy train: 0.8500000238418579 | Accuracy Test: 0.949999988079071\n",
            "Accuracy train: 0.862500011920929 | Accuracy Test: 0.949999988079071\n",
            "Accuracy train: 0.862500011920929 | Accuracy Test: 0.949999988079071\n",
            "Accuracy train: 0.862500011920929 | Accuracy Test: 0.949999988079071\n",
            "Accuracy train: 0.875 | Accuracy Test: 0.949999988079071\n",
            "Accuracy train: 0.875 | Accuracy Test: 0.949999988079071\n",
            "Accuracy train: 0.875 | Accuracy Test: 0.949999988079071\n",
            "Accuracy train: 0.875 | Accuracy Test: 0.949999988079071\n",
            "Accuracy train: 0.875 | Accuracy Test: 0.949999988079071\n",
            "Accuracy train: 0.875 | Accuracy Test: 0.949999988079071\n",
            "Accuracy train: 0.875 | Accuracy Test: 0.949999988079071\n",
            "Accuracy train: 0.875 | Accuracy Test: 0.949999988079071\n",
            "Accuracy train: 0.875 | Accuracy Test: 0.949999988079071\n",
            "Accuracy train: 0.875 | Accuracy Test: 0.949999988079071\n",
            "Accuracy train: 0.875 | Accuracy Test: 0.949999988079071\n",
            "Accuracy train: 0.875 | Accuracy Test: 0.949999988079071\n",
            "Accuracy train: 0.875 | Accuracy Test: 1.0\n",
            "Accuracy train: 0.875 | Accuracy Test: 1.0\n",
            "Accuracy train: 0.887499988079071 | Accuracy Test: 1.0\n",
            "Accuracy train: 0.887499988079071 | Accuracy Test: 1.0\n",
            "Accuracy train: 0.887499988079071 | Accuracy Test: 1.0\n",
            "Accuracy train: 0.887499988079071 | Accuracy Test: 1.0\n",
            "Accuracy train: 0.887499988079071 | Accuracy Test: 1.0\n",
            "Accuracy train: 0.887499988079071 | Accuracy Test: 1.0\n",
            "Accuracy train: 0.887499988079071 | Accuracy Test: 1.0\n",
            "Accuracy train: 0.887499988079071 | Accuracy Test: 1.0\n",
            "Accuracy train: 0.8999999761581421 | Accuracy Test: 1.0\n",
            "Accuracy train: 0.8999999761581421 | Accuracy Test: 1.0\n",
            "Accuracy train: 0.9125000238418579 | Accuracy Test: 1.0\n",
            "Accuracy train: 0.9125000238418579 | Accuracy Test: 1.0\n",
            "Accuracy train: 0.9125000238418579 | Accuracy Test: 1.0\n",
            "Accuracy train: 0.9125000238418579 | Accuracy Test: 1.0\n",
            "Accuracy train: 0.925000011920929 | Accuracy Test: 1.0\n",
            "Accuracy train: 0.925000011920929 | Accuracy Test: 1.0\n",
            "Accuracy train: 0.925000011920929 | Accuracy Test: 1.0\n",
            "Accuracy train: 0.9375 | Accuracy Test: 1.0\n",
            "Accuracy train: 0.9375 | Accuracy Test: 1.0\n",
            "Accuracy train: 0.949999988079071 | Accuracy Test: 1.0\n",
            "Accuracy train: 0.949999988079071 | Accuracy Test: 1.0\n",
            "Accuracy train: 0.949999988079071 | Accuracy Test: 1.0\n",
            "Accuracy train: 0.9624999761581421 | Accuracy Test: 1.0\n",
            "Accuracy train: 0.9624999761581421 | Accuracy Test: 1.0\n",
            "Accuracy train: 0.9750000238418579 | Accuracy Test: 1.0\n",
            "Accuracy train: 0.9750000238418579 | Accuracy Test: 1.0\n",
            "Accuracy train: 0.9750000238418579 | Accuracy Test: 1.0\n",
            "Accuracy train: 0.987500011920929 | Accuracy Test: 1.0\n",
            "Accuracy train: 0.987500011920929 | Accuracy Test: 1.0\n",
            "Accuracy train: 1.0 | Accuracy Test: 1.0\n",
            "Accuracy train: 1.0 | Accuracy Test: 1.0\n",
            "Accuracy train: 1.0 | Accuracy Test: 1.0\n",
            "Accuracy train: 1.0 | Accuracy Test: 1.0\n",
            "Accuracy train: 1.0 | Accuracy Test: 1.0\n",
            "Accuracy train: 1.0 | Accuracy Test: 1.0\n",
            "Accuracy train: 1.0 | Accuracy Test: 1.0\n",
            "Accuracy train: 1.0 | Accuracy Test: 1.0\n",
            "Accuracy train: 1.0 | Accuracy Test: 1.0\n",
            "Accuracy train: 1.0 | Accuracy Test: 1.0\n",
            "Accuracy train: 1.0 | Accuracy Test: 1.0\n",
            "Accuracy train: 1.0 | Accuracy Test: 1.0\n",
            "Accuracy train: 1.0 | Accuracy Test: 1.0\n",
            "Accuracy train: 1.0 | Accuracy Test: 1.0\n",
            "Accuracy train: 1.0 | Accuracy Test: 1.0\n",
            "Accuracy train: 1.0 | Accuracy Test: 1.0\n",
            "Accuracy train: 1.0 | Accuracy Test: 1.0\n",
            "Accuracy train: 1.0 | Accuracy Test: 1.0\n",
            "Accuracy train: 1.0 | Accuracy Test: 1.0\n",
            "Accuracy train: 1.0 | Accuracy Test: 1.0\n",
            "Accuracy train: 1.0 | Accuracy Test: 1.0\n",
            "Accuracy train: 1.0 | Accuracy Test: 1.0\n",
            "Accuracy train: 1.0 | Accuracy Test: 1.0\n",
            "Accuracy train: 1.0 | Accuracy Test: 1.0\n",
            "Accuracy train: 1.0 | Accuracy Test: 1.0\n",
            "Accuracy train: 1.0 | Accuracy Test: 1.0\n",
            "Accuracy train: 1.0 | Accuracy Test: 1.0\n",
            "Accuracy train: 1.0 | Accuracy Test: 1.0\n",
            "Accuracy train: 1.0 | Accuracy Test: 1.0\n",
            "Accuracy train: 1.0 | Accuracy Test: 1.0\n",
            "Accuracy train: 1.0 | Accuracy Test: 1.0\n",
            "Accuracy train: 1.0 | Accuracy Test: 1.0\n",
            "Accuracy train: 1.0 | Accuracy Test: 1.0\n",
            "Accuracy train: 1.0 | Accuracy Test: 1.0\n",
            "Accuracy train: 1.0 | Accuracy Test: 1.0\n",
            "Accuracy train: 1.0 | Accuracy Test: 1.0\n",
            "Accuracy train: 1.0 | Accuracy Test: 1.0\n",
            "Accuracy train: 1.0 | Accuracy Test: 1.0\n"
          ]
        }
      ],
      "source": [
        "## TODO: Uncomment this to set the seed\n",
        "torch.manual_seed(RANDOM_SEED)\n",
        "\n",
        "# Setup epochs\n",
        "epochs = 10_000\n",
        "\n",
        "# Send data to the device\n",
        "\n",
        "\n",
        "# Loop through the data\n",
        "for epoch in range(epochs):\n",
        "  ### Training\n",
        "  model_0.train()\n",
        "  \n",
        "\n",
        "  # 1. Forward pass (logits output)\n",
        "  y_train_pred = model_0(X_train).squeeze()\n",
        "  \n",
        "  # Turn logits into prediction probabilities\n",
        "  y_train_pred_sig = torch.round(torch.sigmoid(y_train_pred))\n",
        "  \n",
        "\n",
        "  # Turn prediction probabilities into prediction labels\n",
        "  \n",
        "\n",
        "  # 2. Calculaute the loss\n",
        "  loss = loss_fn(y_train_pred, y_train)\n",
        "\n",
        "  # Calculate the accuracy\n",
        "  acc = acc_fn(y_train_pred_sig, y_train.int()) # the accuracy function needs to compare pred labels (not logits) with actual labels\n",
        "\n",
        "  # 3. Zero the gradients\n",
        "  optimizer.zero_grad()\n",
        "  \n",
        "\n",
        "  # 4. Loss backward (perform backpropagation) - https://brilliant.org/wiki/backpropagation/#:~:text=Backpropagation%2C%20short%20for%20%22backward%20propagation,to%20the%20neural%20network's%20weights.\n",
        "  loss.backward()\n",
        "  # 5. Step the optimizer (gradient descent) - https://towardsdatascience.com/gradient-descent-algorithm-a-deep-dive-cf04e8115f21#:~:text=Gradient%20descent%20(GD)%20is%20an,e.g.%20in%20a%20linear%20regression) \n",
        "  optimizer.step()\n",
        "\n",
        "  ### Testing\n",
        "  model_0.eval() \n",
        "  with torch.inference_mode():\n",
        "    # 1. Forward pass (to get the logits)\n",
        "    y_test_pred = model_0(X_test).squeeze()\n",
        "    \n",
        "    # Turn the test logits into prediction labels\n",
        "    y_test_pred_sig = torch.round(torch.sigmoid(y_test_pred))\n",
        "\n",
        "    # 2. Caculate the test loss/acc\n",
        "    acc_test = acc_fn(y_test_pred_sig, y_test.int())\n",
        "    \n",
        "\n",
        "  # Print out what's happening every 100 epochs\n",
        "  if epoch % 100 == 0:\n",
        "    print(f\"Accuracy train: {acc} | Accuracy Test: {acc_test}\")\n",
        "    "
      ]
    },
    {
      "cell_type": "markdown",
      "metadata": {
        "id": "8Nwihtomj9JO"
      },
      "source": [
        "## 5. Make predictions with your trained model and plot them using the `plot_decision_boundary()` function created in this notebook."
      ]
    },
    {
      "cell_type": "code",
      "execution_count": 156,
      "metadata": {
        "id": "0YRzatb8a1P2"
      },
      "outputs": [],
      "source": [
        "# Plot the model predictions\n",
        "import numpy as np\n",
        "\n",
        "def plot_decision_boundary(model, X, y):\n",
        "  \n",
        "    # Put everything to CPU (works better with NumPy + Matplotlib)\n",
        "    model.to(\"cpu\")\n",
        "    X, y = X.to(\"cpu\"), y.to(\"cpu\")\n",
        "\n",
        "    # Source - https://madewithml.com/courses/foundations/neural-networks/ \n",
        "    # (with modifications)\n",
        "    x_min, x_max = X[:, 0].min() - 0.1, X[:, 0].max() + 0.1\n",
        "    y_min, y_max = X[:, 1].min() - 0.1, X[:, 1].max() + 0.1\n",
        "    xx, yy = np.meshgrid(np.linspace(x_min, x_max, 101), \n",
        "                         np.linspace(y_min, y_max, 101))\n",
        "\n",
        "    # Make features\n",
        "    X_to_pred_on = torch.from_numpy(np.column_stack((xx.ravel(), yy.ravel()))).float()\n",
        "\n",
        "    # Make predictions\n",
        "    model.eval()\n",
        "    with torch.inference_mode():\n",
        "        y_logits = model(X_to_pred_on)\n",
        "\n",
        "    # Test for multi-class or binary and adjust logits to prediction labels\n",
        "    if len(torch.unique(y)) > 2:\n",
        "        y_pred = torch.softmax(y_logits, dim=1).argmax(dim=1) # mutli-class\n",
        "    else: \n",
        "        y_pred = torch.round(torch.sigmoid(y_logits)) # binary\n",
        "    \n",
        "    # Reshape preds and plot\n",
        "    y_pred = y_pred.reshape(xx.shape).detach().numpy()\n",
        "    plt.contourf(xx, yy, y_pred, cmap=plt.cm.RdYlBu, alpha=0.7)\n",
        "    plt.scatter(X[:, 0], X[:, 1], c=y, s=40, cmap=plt.cm.RdYlBu)\n",
        "    plt.xlim(xx.min(), xx.max())\n",
        "    plt.ylim(yy.min(), yy.max())"
      ]
    },
    {
      "cell_type": "code",
      "execution_count": 157,
      "metadata": {
        "id": "PMrcpyirig1d"
      },
      "outputs": [
        {
          "data": {
            "image/png": "[encoded data removed]",
            "text/plain": [
              "<Figure size 1200x600 with 2 Axes>"
            ]
          },
          "metadata": {},
          "output_type": "display_data"
        }
      ],
      "source": [
        "# Plot decision boundaries for training and test sets\n",
        "plt.figure(figsize=(12, 6))\n",
        "plt.subplot(1, 2, 1)\n",
        "plt.title(\"Train\")\n",
        "plot_decision_boundary(model_0, X_train, y_train)\n",
        "plt.subplot(1, 2, 2)\n",
        "plt.title(\"Test\")\n",
        "plot_decision_boundary(model_0, X_test, y_test)"
      ]
    }
  ],
  "metadata": {
    "accelerator": "GPU",
    "colab": {
      "authorship_tag": "ABX9TyNloicnciRwCXd2bJo6F2iS",
      "collapsed_sections": [],
      "include_colab_link": true,
      "name": "02_pytorch_classification_exercises.ipynb",
      "provenance": []
    },
    "kernelspec": {
      "display_name": "Python 3",
      "name": "python3"
    },
    "language_info": {
      "codemirror_mode": {
        "name": "ipython",
        "version": 3
      },
      "file_extension": ".py",
      "mimetype": "text/x-python",
      "name": "python",
      "nbconvert_exporter": "python",
      "pygments_lexer": "ipython3",
      "version": "3.10.6"
    }
  },
  "nbformat": 4,
  "nbformat_minor": 0
}
